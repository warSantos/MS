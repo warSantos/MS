{
 "cells": [
  {
   "cell_type": "code",
   "execution_count": 8,
   "metadata": {},
   "outputs": [],
   "source": [
    "import os\n",
    "import numpy as np\n",
    "import pandas as pd\n",
    "from collections import Counter"
   ]
  },
  {
   "cell_type": "markdown",
   "metadata": {},
   "source": [
    "# Generate Pandas datasets with CLFs probs."
   ]
  },
  {
   "cell_type": "code",
   "execution_count": 9,
   "metadata": {},
   "outputs": [],
   "source": [
    "DATA_SOURCE = \"/home/welton/data\"\n",
    "DATASETS = [\"webkb\", \"20ng\", \"reut\", \"acm\"]\n",
    "SPLITS = [\"split_10\"]\n",
    "N_FOLDS = 10"
   ]
  },
  {
   "cell_type": "code",
   "execution_count": 10,
   "metadata": {},
   "outputs": [],
   "source": [
    "def set_agreement(df: pd.DataFrame):\n",
    "\n",
    "    df_preds = df.drop(columns=[\"bert\", \"xlnet\", \"fold_id\", \"label\", \"docs\"])\n",
    "    labels = df.label.values\n",
    "    hits = np.sum(df_preds.values == labels[:, None], axis=1)\n",
    "    matrix_p = df_preds.values\n",
    "    pred_list = []\n",
    "    count_list = []\n",
    "    for idx in np.arange(df_preds.shape[0]):\n",
    "        c_pred, counts = Counter(matrix_p[idx]).most_common()[0]\n",
    "        pred_list.append(c_pred)\n",
    "        count_list.append(counts)\n",
    "\n",
    "    df[\"conc_size\"] = count_list\n",
    "    df[\"hit_counts\"] = hits\n",
    "    df[\"conc_pred\"] = pred_list"
   ]
  },
  {
   "cell_type": "code",
   "execution_count": 11,
   "metadata": {},
   "outputs": [
    {
     "name": "stdout",
     "output_type": "stream",
     "text": [
      "[WEBKB - SPLIT_10]\n"
     ]
    }
   ],
   "source": [
    "# For each dataset and split setting.\n",
    "for dataset in DATASETS:\n",
    "    for sp in SPLITS:\n",
    "        d_preds = {}\n",
    "        print(f\"[{dataset.upper()} - {sp.upper()}]\")\n",
    "        CLFS_DIR = f\"{DATA_SOURCE}/clfs_output/{sp}/{dataset}/{N_FOLDS}_folds/\"\n",
    "        # For each classifier.\n",
    "        for clf in os.listdir(CLFS_DIR):\n",
    "            y_pred = []\n",
    "            # For each fold.\n",
    "            for fold in np.arange(N_FOLDS):\n",
    "                test_probas = np.load(f\"{CLFS_DIR}/{clf}/{fold}/test.npz\")[\"X_test\"]\n",
    "                y_pred.append(test_probas.argmax(axis=1))\n",
    "            d_preds[clf] = np.hstack(y_pred)\n",
    "\n",
    "        # Adding labels and fold's id.\n",
    "        fold_id = []\n",
    "        y_true = []\n",
    "        docs = []\n",
    "        for fold in np.arange(N_FOLDS):\n",
    "            # Loading labels.\n",
    "            labels_path = f\"{DATA_SOURCE}/datasets/labels/{sp}/{dataset}/{fold}/test.npy\"\n",
    "            y = np.load(labels_path)\n",
    "            y_true.append(y)\n",
    "            # Loading documents.\n",
    "            docs_path = f\"{DATA_SOURCE}/datasets/documents/{sp}/{dataset}/{fold}/test.csv\"\n",
    "            docs.append(pd.read_csv(docs_path, sep=';').docs.values)\n",
    "            fold_id += y.shape[0] * [fold]\n",
    "\n",
    "        fold_id = np.hstack(fold_id)\n",
    "        y_true = np.hstack(y_true)\n",
    "        docs = np.hstack(docs)\n",
    "\n",
    "        # Building and Saving the dataframe.\n",
    "        df = pd.DataFrame(d_preds)\n",
    "        df[\"label\"] = y_true\n",
    "        df[\"fold_id\"] = fold_id\n",
    "        df[\"docs\"] = docs\n",
    "        \n",
    "        set_agreement(df)\n",
    "\n",
    "        output = f\"{DATA_SOURCE}/pd_datasets/{dataset}.csv\"\n",
    "        df.to_csv(output, index=False, sep=\";\")"
   ]
  },
  {
   "cell_type": "code",
   "execution_count": 12,
   "metadata": {},
   "outputs": [],
   "source": [
    "df = pd.read_csv(f\"{DATA_SOURCE}/pd_datasets/reut.csv\", sep=\";\")"
   ]
  },
  {
   "cell_type": "code",
   "execution_count": 13,
   "metadata": {},
   "outputs": [
    {
     "data": {
      "text/plain": [
       "Index(['spr', 'kpr', 'xtr', 'xfr', 'stmk', 'ltmk', 'lpr', 'str', 'ltr', 'lfr',\n",
       "       'kfr', 'xlnet', 'ktmk', 'rep_bert', 'ktr', 'bert', 'sfr', 'xtmk',\n",
       "       'xlnet_softmax', 'xpr', 'label', 'fold_id', 'docs', 'conc_size',\n",
       "       'hit_counts', 'conc_pred'],\n",
       "      dtype='object')"
      ]
     },
     "execution_count": 13,
     "metadata": {},
     "output_type": "execute_result"
    }
   ],
   "source": [
    "df.columns"
   ]
  },
  {
   "cell_type": "code",
   "execution_count": 14,
   "metadata": {},
   "outputs": [
    {
     "data": {
      "text/plain": [
       "(13327, 26)"
      ]
     },
     "execution_count": 14,
     "metadata": {},
     "output_type": "execute_result"
    }
   ],
   "source": [
    "df.shape"
   ]
  },
  {
   "cell_type": "code",
   "execution_count": 15,
   "metadata": {},
   "outputs": [
    {
     "data": {
      "text/plain": [
       "0.3249819352604704"
      ]
     },
     "execution_count": 15,
     "metadata": {},
     "output_type": "execute_result"
    }
   ],
   "source": [
    "from sklearn.metrics import f1_score\n",
    "\n",
    "f1_score(df.rep_bert.values, df.label.values, average=\"macro\")"
   ]
  },
  {
   "cell_type": "code",
   "execution_count": 16,
   "metadata": {},
   "outputs": [
    {
     "data": {
      "text/plain": [
       "0        \\r no intervention dollar fixed at 1 8063 mark...\n",
       "1        \\r indonesian rupiah slips against mark and ye...\n",
       "2        \\r fed s johnson sees easing of inflationary f...\n",
       "3        \\r swiss consumer prices rise one pct in march...\n",
       "4        \\r u s february consumer prices rose 0 4 pct a...\n",
       "                               ...                        \n",
       "13322    \\r french 1986 current account surplus revised...\n",
       "13323    \\r german feb current account surplus 6 6 bill...\n",
       "13324    \\r s korea current a c surplus seen near 10 bl...\n",
       "13325    \\r swedish current account deficit rises in ja...\n",
       "13326    \\r baker sees 15 to 20 billion dlr drop in tra...\n",
       "Name: docs, Length: 13327, dtype: object"
      ]
     },
     "execution_count": 16,
     "metadata": {},
     "output_type": "execute_result"
    }
   ],
   "source": [
    "df.docs"
   ]
  },
  {
   "cell_type": "code",
   "execution_count": null,
   "metadata": {},
   "outputs": [],
   "source": []
  }
 ],
 "metadata": {
  "kernelspec": {
   "display_name": "Python 3.8.10 ('.env': venv)",
   "language": "python",
   "name": "python3"
  },
  "language_info": {
   "codemirror_mode": {
    "name": "ipython",
    "version": 3
   },
   "file_extension": ".py",
   "mimetype": "text/x-python",
   "name": "python",
   "nbconvert_exporter": "python",
   "pygments_lexer": "ipython3",
   "version": "3.8.10"
  },
  "orig_nbformat": 4,
  "vscode": {
   "interpreter": {
    "hash": "f3135864b85fc339145ed731976b9bcbd775d49eba38ad5ba8da470ad91643c0"
   }
  }
 },
 "nbformat": 4,
 "nbformat_minor": 2
}
