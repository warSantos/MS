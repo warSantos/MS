{
 "cells": [
  {
   "cell_type": "code",
   "execution_count": 1,
   "metadata": {},
   "outputs": [],
   "source": [
    "import os\n",
    "import numpy as np\n",
    "import pandas as pd\n",
    "from itertools import product"
   ]
  },
  {
   "cell_type": "markdown",
   "metadata": {},
   "source": [
    "# Generate Pandas datasets with CLFs probs."
   ]
  },
  {
   "cell_type": "code",
   "execution_count": 2,
   "metadata": {},
   "outputs": [],
   "source": [
    "DATA_SOURCE = \"/home/welton/data\"\n",
    "DATASETS = [\"webkb\", \"20ng\", \"reut\", \"acm\"]\n",
    "SPLITS = [\"split_10\"]\n",
    "N_FOLDS = 10"
   ]
  },
  {
   "cell_type": "code",
   "execution_count": 3,
   "metadata": {},
   "outputs": [
    {
     "name": "stdout",
     "output_type": "stream",
     "text": [
      "[WEBKB - SPLIT_10]\n",
      "[20NG - SPLIT_10]\n",
      "[REUT - SPLIT_10]\n",
      "[ACM - SPLIT_10]\n"
     ]
    }
   ],
   "source": [
    "# For each dataset and split setting.\n",
    "for dataset in DATASETS:\n",
    "    for sp in SPLITS:\n",
    "        d_preds = {}\n",
    "        print(f\"[{dataset.upper()} - {sp.upper()}]\")\n",
    "        CLFS_DIR = f\"{DATA_SOURCE}/clfs_output/{sp}/{dataset}/{N_FOLDS}_folds/\"\n",
    "        # For each classifier.\n",
    "        for clf in os.listdir(CLFS_DIR):\n",
    "            y_pred = []\n",
    "            # For each fold.\n",
    "            for fold in np.arange(N_FOLDS):\n",
    "                test_probas = np.load(f\"{CLFS_DIR}/{clf}/{fold}/test.npz\")[\"X_test\"]\n",
    "                y_pred.append(test_probas.argmax(axis=1))\n",
    "            d_preds[clf] = np.hstack(y_pred)\n",
    "\n",
    "        # Adding labels and fold's id.\n",
    "        fold_id = []\n",
    "        y_true = []\n",
    "        for fold in np.arange(N_FOLDS):\n",
    "            labels_path = f\"{DATA_SOURCE}/datasets/labels/{sp}/{dataset}/{fold}/test.npy\"\n",
    "            y = np.load(labels_path)\n",
    "            y_true.append(y)\n",
    "            fold_id += y.shape[0] * [fold]\n",
    "        fold_id = np.hstack(fold_id)\n",
    "        y_true = np.hstack(y_true)\n",
    "        \n",
    "        # Building and Saving the dataframe.\n",
    "        df = pd.DataFrame(d_preds)\n",
    "        df[\"label\"] = y_true\n",
    "        df[\"fold_id\"] = fold_id\n",
    "        \n",
    "        output = f\"{DATA_SOURCE}/pd_datasets/{dataset}.csv\"\n",
    "        df.to_csv(output, index=False, sep=\";\")"
   ]
  },
  {
   "cell_type": "code",
   "execution_count": 4,
   "metadata": {},
   "outputs": [],
   "source": [
    "df = pd.read_csv(f\"{DATA_SOURCE}/pd_datasets/reut.csv\", sep=\";\")"
   ]
  },
  {
   "cell_type": "code",
   "execution_count": 5,
   "metadata": {},
   "outputs": [
    {
     "data": {
      "text/plain": [
       "Index(['spr', 'kpr', 'xtr', 'xfr', 'stmk', 'ltmk', 'lpr', 'str', 'ltr', 'lfr',\n",
       "       'kfr', 'xlnet', 'ktmk', 'rep_bert', 'ktr', 'bert', 'sfr', 'xtmk',\n",
       "       'xlnet_softmax', 'xpr', 'label', 'fold_id'],\n",
       "      dtype='object')"
      ]
     },
     "execution_count": 5,
     "metadata": {},
     "output_type": "execute_result"
    }
   ],
   "source": [
    "df.columns"
   ]
  },
  {
   "cell_type": "code",
   "execution_count": 6,
   "metadata": {},
   "outputs": [
    {
     "data": {
      "text/html": [
       "<div>\n",
       "<style scoped>\n",
       "    .dataframe tbody tr th:only-of-type {\n",
       "        vertical-align: middle;\n",
       "    }\n",
       "\n",
       "    .dataframe tbody tr th {\n",
       "        vertical-align: top;\n",
       "    }\n",
       "\n",
       "    .dataframe thead th {\n",
       "        text-align: right;\n",
       "    }\n",
       "</style>\n",
       "<table border=\"1\" class=\"dataframe\">\n",
       "  <thead>\n",
       "    <tr style=\"text-align: right;\">\n",
       "      <th></th>\n",
       "      <th>spr</th>\n",
       "      <th>kpr</th>\n",
       "      <th>xtr</th>\n",
       "      <th>xfr</th>\n",
       "      <th>stmk</th>\n",
       "      <th>ltmk</th>\n",
       "      <th>lpr</th>\n",
       "      <th>str</th>\n",
       "      <th>ltr</th>\n",
       "      <th>lfr</th>\n",
       "      <th>...</th>\n",
       "      <th>ktmk</th>\n",
       "      <th>rep_bert</th>\n",
       "      <th>ktr</th>\n",
       "      <th>bert</th>\n",
       "      <th>sfr</th>\n",
       "      <th>xtmk</th>\n",
       "      <th>xlnet_softmax</th>\n",
       "      <th>xpr</th>\n",
       "      <th>label</th>\n",
       "      <th>fold_id</th>\n",
       "    </tr>\n",
       "  </thead>\n",
       "  <tbody>\n",
       "    <tr>\n",
       "      <th>0</th>\n",
       "      <td>16</td>\n",
       "      <td>16</td>\n",
       "      <td>16</td>\n",
       "      <td>16</td>\n",
       "      <td>44</td>\n",
       "      <td>44</td>\n",
       "      <td>16</td>\n",
       "      <td>16</td>\n",
       "      <td>16</td>\n",
       "      <td>16</td>\n",
       "      <td>...</td>\n",
       "      <td>44</td>\n",
       "      <td>16</td>\n",
       "      <td>16</td>\n",
       "      <td>16</td>\n",
       "      <td>16</td>\n",
       "      <td>44</td>\n",
       "      <td>16</td>\n",
       "      <td>16</td>\n",
       "      <td>2</td>\n",
       "      <td>0</td>\n",
       "    </tr>\n",
       "    <tr>\n",
       "      <th>1</th>\n",
       "      <td>16</td>\n",
       "      <td>16</td>\n",
       "      <td>16</td>\n",
       "      <td>16</td>\n",
       "      <td>44</td>\n",
       "      <td>44</td>\n",
       "      <td>16</td>\n",
       "      <td>16</td>\n",
       "      <td>16</td>\n",
       "      <td>16</td>\n",
       "      <td>...</td>\n",
       "      <td>44</td>\n",
       "      <td>16</td>\n",
       "      <td>2</td>\n",
       "      <td>16</td>\n",
       "      <td>16</td>\n",
       "      <td>44</td>\n",
       "      <td>16</td>\n",
       "      <td>16</td>\n",
       "      <td>2</td>\n",
       "      <td>0</td>\n",
       "    </tr>\n",
       "    <tr>\n",
       "      <th>2</th>\n",
       "      <td>24</td>\n",
       "      <td>16</td>\n",
       "      <td>24</td>\n",
       "      <td>24</td>\n",
       "      <td>24</td>\n",
       "      <td>24</td>\n",
       "      <td>16</td>\n",
       "      <td>24</td>\n",
       "      <td>24</td>\n",
       "      <td>24</td>\n",
       "      <td>...</td>\n",
       "      <td>16</td>\n",
       "      <td>3</td>\n",
       "      <td>16</td>\n",
       "      <td>24</td>\n",
       "      <td>24</td>\n",
       "      <td>24</td>\n",
       "      <td>24</td>\n",
       "      <td>16</td>\n",
       "      <td>3</td>\n",
       "      <td>0</td>\n",
       "    </tr>\n",
       "    <tr>\n",
       "      <th>3</th>\n",
       "      <td>3</td>\n",
       "      <td>3</td>\n",
       "      <td>3</td>\n",
       "      <td>3</td>\n",
       "      <td>3</td>\n",
       "      <td>3</td>\n",
       "      <td>3</td>\n",
       "      <td>3</td>\n",
       "      <td>3</td>\n",
       "      <td>3</td>\n",
       "      <td>...</td>\n",
       "      <td>3</td>\n",
       "      <td>3</td>\n",
       "      <td>3</td>\n",
       "      <td>3</td>\n",
       "      <td>3</td>\n",
       "      <td>3</td>\n",
       "      <td>3</td>\n",
       "      <td>3</td>\n",
       "      <td>3</td>\n",
       "      <td>0</td>\n",
       "    </tr>\n",
       "    <tr>\n",
       "      <th>4</th>\n",
       "      <td>3</td>\n",
       "      <td>3</td>\n",
       "      <td>3</td>\n",
       "      <td>3</td>\n",
       "      <td>3</td>\n",
       "      <td>3</td>\n",
       "      <td>3</td>\n",
       "      <td>3</td>\n",
       "      <td>3</td>\n",
       "      <td>3</td>\n",
       "      <td>...</td>\n",
       "      <td>3</td>\n",
       "      <td>3</td>\n",
       "      <td>3</td>\n",
       "      <td>3</td>\n",
       "      <td>3</td>\n",
       "      <td>3</td>\n",
       "      <td>3</td>\n",
       "      <td>3</td>\n",
       "      <td>3</td>\n",
       "      <td>0</td>\n",
       "    </tr>\n",
       "  </tbody>\n",
       "</table>\n",
       "<p>5 rows × 22 columns</p>\n",
       "</div>"
      ],
      "text/plain": [
       "   spr  kpr  xtr  xfr  stmk  ltmk  lpr  str  ltr  lfr  ...  ktmk  rep_bert  \\\n",
       "0   16   16   16   16    44    44   16   16   16   16  ...    44        16   \n",
       "1   16   16   16   16    44    44   16   16   16   16  ...    44        16   \n",
       "2   24   16   24   24    24    24   16   24   24   24  ...    16         3   \n",
       "3    3    3    3    3     3     3    3    3    3    3  ...     3         3   \n",
       "4    3    3    3    3     3     3    3    3    3    3  ...     3         3   \n",
       "\n",
       "   ktr  bert  sfr  xtmk  xlnet_softmax  xpr  label  fold_id  \n",
       "0   16    16   16    44             16   16      2        0  \n",
       "1    2    16   16    44             16   16      2        0  \n",
       "2   16    24   24    24             24   16      3        0  \n",
       "3    3     3    3     3              3    3      3        0  \n",
       "4    3     3    3     3              3    3      3        0  \n",
       "\n",
       "[5 rows x 22 columns]"
      ]
     },
     "execution_count": 6,
     "metadata": {},
     "output_type": "execute_result"
    }
   ],
   "source": [
    "df.head()"
   ]
  },
  {
   "cell_type": "code",
   "execution_count": 7,
   "metadata": {},
   "outputs": [
    {
     "data": {
      "text/plain": [
       "0.293016407606806"
      ]
     },
     "execution_count": 7,
     "metadata": {},
     "output_type": "execute_result"
    }
   ],
   "source": [
    "from sklearn.metrics import f1_score\n",
    "\n",
    "f1_score(df.bert.values, df.label.values, average=\"macro\")"
   ]
  },
  {
   "cell_type": "code",
   "execution_count": null,
   "metadata": {},
   "outputs": [],
   "source": []
  }
 ],
 "metadata": {
  "kernelspec": {
   "display_name": "Python 3.8.10 ('.env': venv)",
   "language": "python",
   "name": "python3"
  },
  "language_info": {
   "codemirror_mode": {
    "name": "ipython",
    "version": 3
   },
   "file_extension": ".py",
   "mimetype": "text/x-python",
   "name": "python",
   "nbconvert_exporter": "python",
   "pygments_lexer": "ipython3",
   "version": "3.8.10"
  },
  "orig_nbformat": 4,
  "vscode": {
   "interpreter": {
    "hash": "f3135864b85fc339145ed731976b9bcbd775d49eba38ad5ba8da470ad91643c0"
   }
  }
 },
 "nbformat": 4,
 "nbformat_minor": 2
}
