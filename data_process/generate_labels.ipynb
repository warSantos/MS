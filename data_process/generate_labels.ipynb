{
 "cells": [
  {
   "cell_type": "code",
   "execution_count": 1,
   "metadata": {},
   "outputs": [],
   "source": [
    "import os\n",
    "import numpy as np\n",
    "import pandas as pd\n",
    "from itertools import product\n",
    "\n",
    "from utils import read_texts, fix_labels"
   ]
  },
  {
   "cell_type": "code",
   "execution_count": 35,
   "metadata": {},
   "outputs": [],
   "source": [
    "DATA_SOURCE = \"/home/welton/data/datasets\"\n",
    "DATASETS = [\"webkb\", \"20ng\", \"reut\", \"acm\"]\n",
    "SPLITS = [\"split_10\", \"split_10_with_val\"]"
   ]
  },
  {
   "cell_type": "markdown",
   "metadata": {},
   "source": [
    "# Setting fold labels"
   ]
  },
  {
   "cell_type": "code",
   "execution_count": 57,
   "metadata": {},
   "outputs": [
    {
     "name": "stdout",
     "output_type": "stream",
     "text": [
      "[WEBKB - SPLIT_10]\n",
      "[WEBKB - SPLIT_10_WITH_VAL]\n",
      "[20NG - SPLIT_10]\n",
      "[20NG - SPLIT_10_WITH_VAL]\n",
      "[REUT - SPLIT_10]\n",
      "[REUT - SPLIT_10_WITH_VAL]\n",
      "[ACM - SPLIT_10]\n",
      "[ACM - SPLIT_10_WITH_VAL]\n"
     ]
    }
   ],
   "source": [
    "# For each dataset.\n",
    "for dataset, sp  in product(DATASETS, SPLITS):\n",
    "    print(f\"[{dataset.upper()} - {sp.upper()}]\")\n",
    "    # Reading labels settings.\n",
    "    labels_path = f\"{DATA_SOURCE}/data/{dataset}/score.txt\"\n",
    "    labels = [ int (l) for l in read_texts(labels_path) ]\n",
    "    labels = fix_labels(np.array(labels))\n",
    "    split = pd.read_pickle(f\"{DATA_SOURCE}/data/{dataset}/splits/{sp}.pkl\")\n",
    "    # For each fold.\n",
    "    for fold in np.arange(split.shape[0]):\n",
    "        \n",
    "        output_dir = f\"{DATA_SOURCE}/labels/{sp}/{dataset}/{fold}\"\n",
    "        os.makedirs(output_dir, exist_ok=True)\n",
    "        \n",
    "        y_train = labels[split.iloc[fold][\"train_idxs\"]]\n",
    "        y_test = labels[split.iloc[fold][\"test_idxs\"]]\n",
    "\n",
    "        np.save(f\"{output_dir}/train\", y_train)\n",
    "        np.save(f\"{output_dir}/test\", y_test)\n",
    "        \n",
    "        if sp == \"split_10_with_val\":\n",
    "            y_val = labels[split.iloc[fold][\"val_idxs\"]]\n",
    "            np.save(f\"{output_dir}/val\", y_val)"
   ]
  },
  {
   "cell_type": "code",
   "execution_count": 2,
   "metadata": {},
   "outputs": [],
   "source": [
    "with open(\"/home/welton/data/datasets/documents/split_10/webkb/0/test.txt\", 'r') as fd:\n",
    "    X = fd.read().split('\\n')"
   ]
  },
  {
   "cell_type": "code",
   "execution_count": 9,
   "metadata": {},
   "outputs": [
    {
     "data": {
      "text/plain": [
       "1647"
      ]
     },
     "execution_count": 9,
     "metadata": {},
     "output_type": "execute_result"
    }
   ],
   "source": [
    "len(X)"
   ]
  },
  {
   "cell_type": "code",
   "execution_count": 11,
   "metadata": {},
   "outputs": [
    {
     "data": {
      "text/plain": [
       "(823,)"
      ]
     },
     "execution_count": 11,
     "metadata": {},
     "output_type": "execute_result"
    }
   ],
   "source": [
    "np.load(\"/home/welton/data/datasets/labels/split_10/webkb/0/test.npy\").shape"
   ]
  },
  {
   "cell_type": "code",
   "execution_count": null,
   "metadata": {},
   "outputs": [],
   "source": []
  }
 ],
 "metadata": {
  "kernelspec": {
   "display_name": "Python 3.8.10 ('.env': venv)",
   "language": "python",
   "name": "python3"
  },
  "language_info": {
   "codemirror_mode": {
    "name": "ipython",
    "version": 3
   },
   "file_extension": ".py",
   "mimetype": "text/x-python",
   "name": "python",
   "nbconvert_exporter": "python",
   "pygments_lexer": "ipython3",
   "version": "3.8.10"
  },
  "orig_nbformat": 4,
  "vscode": {
   "interpreter": {
    "hash": "f3135864b85fc339145ed731976b9bcbd775d49eba38ad5ba8da470ad91643c0"
   }
  }
 },
 "nbformat": 4,
 "nbformat_minor": 2
}
