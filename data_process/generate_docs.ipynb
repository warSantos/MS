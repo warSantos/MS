{
 "cells": [
  {
   "cell_type": "code",
   "execution_count": 9,
   "metadata": {},
   "outputs": [],
   "source": [
    "import os\n",
    "import numpy as np\n",
    "import pandas as pd\n",
    "from itertools import product\n",
    "\n",
    "from utils import read_texts\n",
    "from tqdm import tqdm"
   ]
  },
  {
   "cell_type": "code",
   "execution_count": 10,
   "metadata": {},
   "outputs": [],
   "source": [
    "DATA_SOURCE = \"/home/welton/data/datasets\"\n",
    "DATASETS = [\"webkb\", \"20ng\", \"reut\", \"acm\"]\n",
    "SPLITS = [\"split_10\"]#, \"split_10_with_val\"]"
   ]
  },
  {
   "cell_type": "markdown",
   "metadata": {},
   "source": [
    "# Setting fold labels"
   ]
  },
  {
   "cell_type": "code",
   "execution_count": 11,
   "metadata": {},
   "outputs": [
    {
     "name": "stdout",
     "output_type": "stream",
     "text": [
      "[WEBKB - SPLIT_10]\n"
     ]
    },
    {
     "name": "stderr",
     "output_type": "stream",
     "text": [
      "100%|██████████| 10/10 [00:19<00:00,  1.94s/it]\n"
     ]
    },
    {
     "name": "stdout",
     "output_type": "stream",
     "text": [
      "[20NG - SPLIT_10]\n"
     ]
    },
    {
     "name": "stderr",
     "output_type": "stream",
     "text": [
      "100%|██████████| 10/10 [00:40<00:00,  4.07s/it]\n"
     ]
    },
    {
     "name": "stdout",
     "output_type": "stream",
     "text": [
      "[REUT - SPLIT_10]\n"
     ]
    },
    {
     "name": "stderr",
     "output_type": "stream",
     "text": [
      "100%|██████████| 10/10 [00:03<00:00,  2.76it/s]\n"
     ]
    },
    {
     "name": "stdout",
     "output_type": "stream",
     "text": [
      "[ACM - SPLIT_10]\n"
     ]
    },
    {
     "name": "stderr",
     "output_type": "stream",
     "text": [
      "100%|██████████| 10/10 [00:09<00:00,  1.10it/s]\n"
     ]
    }
   ],
   "source": [
    "def get_documents_by_id(documents: list, idxs: list):\n",
    "\n",
    "    return [ documents[idx] for idx in idxs ]\n",
    "\n",
    "# For each dataset.\n",
    "for dataset, sp  in product(DATASETS, SPLITS):\n",
    "    print(f\"[{dataset.upper()} - {sp.upper()}]\")\n",
    "    # Reading documents settings.\n",
    "    docs_path = f\"{DATA_SOURCE}/data/{dataset}/texts.txt\"\n",
    "    documents = [ text for text in read_texts(docs_path) ]\n",
    "    split = pd.read_pickle(f\"{DATA_SOURCE}/data/{dataset}/splits/{sp}.pkl\")\n",
    "    # For each fold.\n",
    "    for fold in tqdm(np.arange(split.shape[0]), miniters=10000):\n",
    "        \n",
    "        output_dir = f\"{DATA_SOURCE}/documents/{sp}/{dataset}/{fold}\"\n",
    "        os.makedirs(output_dir, exist_ok=True)\n",
    "        \n",
    "        X_train = np.array(get_documents_by_id(documents, split.iloc[fold][\"train_idxs\"]))\n",
    "        X_test = np.array(get_documents_by_id(documents, split.iloc[fold][\"test_idxs\"]))\n",
    "        pd.DataFrame(X_train, columns=[\"docs\"]).to_csv(f\"{output_dir}/train.csv\", index=False, sep=';')\n",
    "        pd.DataFrame(X_test, columns=[\"docs\"]).to_csv(f\"{output_dir}/test.csv\", index=False, sep=';')\n",
    "\n",
    "        if sp == \"split_10_with_val\":\n",
    "            X_val = np.array(get_documents_by_id(documents, split.iloc[fold][\"val_idxs\"]))\n",
    "            pd.DataFrame(X_val, columns=[\"docs\"]).to_csv(f\"{output_dir}/val.csv\", index=False, sep=';')"
   ]
  },
  {
   "cell_type": "code",
   "execution_count": 16,
   "metadata": {},
   "outputs": [],
   "source": [
    "df = pd.read_csv(\"/home/welton/data/datasets/documents/split_10/webkb/0/test.csv\")"
   ]
  },
  {
   "cell_type": "code",
   "execution_count": 18,
   "metadata": {},
   "outputs": [
    {
     "data": {
      "text/plain": [
       "(823, 1)"
      ]
     },
     "execution_count": 18,
     "metadata": {},
     "output_type": "execute_result"
    }
   ],
   "source": [
    "df.shape"
   ]
  },
  {
   "cell_type": "code",
   "execution_count": null,
   "metadata": {},
   "outputs": [],
   "source": []
  }
 ],
 "metadata": {
  "kernelspec": {
   "display_name": "Python 3.8.10 ('.env': venv)",
   "language": "python",
   "name": "python3"
  },
  "language_info": {
   "codemirror_mode": {
    "name": "ipython",
    "version": 3
   },
   "file_extension": ".py",
   "mimetype": "text/x-python",
   "name": "python",
   "nbconvert_exporter": "python",
   "pygments_lexer": "ipython3",
   "version": "3.8.10"
  },
  "orig_nbformat": 4,
  "vscode": {
   "interpreter": {
    "hash": "f3135864b85fc339145ed731976b9bcbd775d49eba38ad5ba8da470ad91643c0"
   }
  }
 },
 "nbformat": 4,
 "nbformat_minor": 2
}
