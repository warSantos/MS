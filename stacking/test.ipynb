{
 "cells": [
  {
   "cell_type": "code",
   "execution_count": 1,
   "metadata": {},
   "outputs": [],
   "source": [
    "import numpy as np\n",
    "import pandas as pd\n",
    "from typing import List, Tuple\n",
    "from sklearn.ensemble import RandomForestClassifier"
   ]
  },
  {
   "cell_type": "code",
   "execution_count": 47,
   "metadata": {},
   "outputs": [],
   "source": [
    "def fwls(X_mf, X_meta):\n",
    "\n",
    "    R_list = []\n",
    "    for row in np.arange(X_meta.shape[0]):\n",
    "        M = X_mf[row].reshape(X_mf.shape[1], 1)\n",
    "        P = X_meta[row].reshape(X_meta.shape[1], 1)\n",
    "        F = np.multiply(M, P.T)\n",
    "        r = F.shape[0]\n",
    "        c = F.shape[1]\n",
    "        f = F.reshape(r * c)\n",
    "        R_list.append(f)\n",
    "    return np.vstack(R_list)\n"
   ]
  },
  {
   "cell_type": "code",
   "execution_count": 57,
   "metadata": {},
   "outputs": [],
   "source": [
    "M = np.array([[1,2], [1,2], [1,2]])"
   ]
  },
  {
   "cell_type": "code",
   "execution_count": 53,
   "metadata": {},
   "outputs": [
    {
     "data": {
      "text/plain": [
       "array([[1., 1.],\n",
       "       [1., 1.],\n",
       "       [1., 1.]])"
      ]
     },
     "execution_count": 53,
     "metadata": {},
     "output_type": "execute_result"
    }
   ],
   "source": [
    "M = np.zeros((3, 2)) + 1\n",
    "M"
   ]
  },
  {
   "cell_type": "code",
   "execution_count": 54,
   "metadata": {},
   "outputs": [
    {
     "data": {
      "text/plain": [
       "array([[1, 2, 3, 4, 5, 6],\n",
       "       [1, 2, 3, 4, 5, 6],\n",
       "       [1, 2, 3, 4, 5, 6]])"
      ]
     },
     "execution_count": 54,
     "metadata": {},
     "output_type": "execute_result"
    }
   ],
   "source": [
    "P = np.array([[1,2,3,4,5,6], [1,2,3,4,5,6], [1,2,3,4,5,6]])\n",
    "P"
   ]
  },
  {
   "cell_type": "code",
   "execution_count": 58,
   "metadata": {},
   "outputs": [
    {
     "data": {
      "text/plain": [
       "array([[ 1,  2,  3,  4,  5,  6,  2,  4,  6,  8, 10, 12],\n",
       "       [ 1,  2,  3,  4,  5,  6,  2,  4,  6,  8, 10, 12],\n",
       "       [ 1,  2,  3,  4,  5,  6,  2,  4,  6,  8, 10, 12]])"
      ]
     },
     "execution_count": 58,
     "metadata": {},
     "output_type": "execute_result"
    }
   ],
   "source": [
    "fwls(M, P)"
   ]
  },
  {
   "cell_type": "code",
   "execution_count": 56,
   "metadata": {},
   "outputs": [
    {
     "data": {
      "text/plain": [
       "array([[1., 1., 2., 2., 3., 3., 4., 4., 5., 5., 6., 6.],\n",
       "       [1., 1., 2., 2., 3., 3., 4., 4., 5., 5., 6., 6.],\n",
       "       [1., 1., 2., 2., 3., 3., 4., 4., 5., 5., 6., 6.]])"
      ]
     },
     "execution_count": 56,
     "metadata": {},
     "output_type": "execute_result"
    }
   ],
   "source": [
    "fwls(P, M)"
   ]
  },
  {
   "cell_type": "code",
   "execution_count": 61,
   "metadata": {},
   "outputs": [
    {
     "data": {
      "text/plain": [
       "array([0, 1, 2, 3, 4, 5, 6, 7, 8, 9])"
      ]
     },
     "execution_count": 61,
     "metadata": {},
     "output_type": "execute_result"
    }
   ],
   "source": [
    "np.arange(10).argsort()"
   ]
  },
  {
   "cell_type": "code",
   "execution_count": 11,
   "metadata": {},
   "outputs": [
    {
     "data": {
      "text/plain": [
       "(823, 7)"
      ]
     },
     "execution_count": 11,
     "metadata": {},
     "output_type": "execute_result"
    }
   ],
   "source": [
    "np.load(\"../data/clfs_output/split_10_with_val/webkb/10_folds/gbm/0/probas.npy\", allow_pickle=True).shape"
   ]
  },
  {
   "cell_type": "code",
   "execution_count": 10,
   "metadata": {},
   "outputs": [
    {
     "data": {
      "text/plain": [
       "(6638, 7)"
      ]
     },
     "execution_count": 10,
     "metadata": {},
     "output_type": "execute_result"
    }
   ],
   "source": [
    "np.load(\"../data/clfs_output/split_10_with_val/webkb/10_folds/gbm/0/train_probas.npy\", allow_pickle=True).shape"
   ]
  },
  {
   "cell_type": "code",
   "execution_count": 9,
   "metadata": {},
   "outputs": [
    {
     "data": {
      "text/plain": [
       "(6638,)"
      ]
     },
     "execution_count": 9,
     "metadata": {},
     "output_type": "execute_result"
    }
   ],
   "source": [
    "np.load(\"../data/labels/split_10_with_val/webkb/0/train.npy\", allow_pickle=True).shape"
   ]
  },
  {
   "cell_type": "code",
   "execution_count": 8,
   "metadata": {},
   "outputs": [
    {
     "data": {
      "text/plain": [
       "(823,)"
      ]
     },
     "execution_count": 8,
     "metadata": {},
     "output_type": "execute_result"
    }
   ],
   "source": [
    "np.load(\"../data/labels/split_10_with_val/webkb/0/test.npy\", allow_pickle=True).shape"
   ]
  },
  {
   "cell_type": "code",
   "execution_count": 1,
   "metadata": {},
   "outputs": [
    {
     "data": {
      "text/html": [
       "<span title=\"attention: 0.6555555555555556\" style=\"background-color: rgb(255,0,0, 0.6555555555555556)\"> the  </span><span title=\"attention: 0.12222222222222222\" style=\"background-color: rgb(255,0,0, 0.12222222222222222)\"> USS  </span><span title=\"attention: 0.4777777777777778\" style=\"background-color: rgb(255,0,0, 0.4777777777777778)\"> Ronald  </span><span title=\"attention: 0.022222222222222223\" style=\"background-color: rgb(255,0,0, 0.022222222222222223)\"> Reagan  </span><span title=\"attention: 0.8111111111111111\" style=\"background-color: rgb(255,0,0, 0.8111111111111111)\"> -  </span><span title=\"attention: 0.7444444444444445\" style=\"background-color: rgb(255,0,0, 0.7444444444444445)\"> an  </span><span title=\"attention: 0.17777777777777778\" style=\"background-color: rgb(255,0,0, 0.17777777777777778)\"> aircraft  </span><span title=\"attention: 0.3\" style=\"background-color: rgb(255,0,0, 0.3)\"> carrier  </span><span title=\"attention: 0.45555555555555555\" style=\"background-color: rgb(255,0,0, 0.45555555555555555)\"> docked  </span><span title=\"attention: 0.36666666666666664\" style=\"background-color: rgb(255,0,0, 0.36666666666666664)\"> in  </span><span title=\"attention: 0.5111111111111111\" style=\"background-color: rgb(255,0,0, 0.5111111111111111)\"> Japan  </span><span title=\"attention: 0.5333333333333333\" style=\"background-color: rgb(255,0,0, 0.5333333333333333)\"> -  </span><span title=\"attention: 0.7555555555555555\" style=\"background-color: rgb(255,0,0, 0.7555555555555555)\"> during  </span><span title=\"attention: 0.2222222222222222\" style=\"background-color: rgb(255,0,0, 0.2222222222222222)\"> his  </span><span title=\"attention: 0.6666666666666666\" style=\"background-color: rgb(255,0,0, 0.6666666666666666)\"> tour  </span><span title=\"attention: 0.6222222222222222\" style=\"background-color: rgb(255,0,0, 0.6222222222222222)\"> of  </span><span title=\"attention: 0.7\" style=\"background-color: rgb(255,0,0, 0.7)\"> the  </span><span title=\"attention: 0.7888888888888889\" style=\"background-color: rgb(255,0,0, 0.7888888888888889)\"> region,  </span><span title=\"attention: 0.5777777777777777\" style=\"background-color: rgb(255,0,0, 0.5777777777777777)\"> vowing  </span><span title=\"attention: 0.6333333333333333\" style=\"background-color: rgb(255,0,0, 0.6333333333333333)\"> to  </span><span title=\"attention: 0.5555555555555556\" style=\"background-color: rgb(255,0,0, 0.5555555555555556)\"> \"defeat  </span><span title=\"attention: 0.9555555555555556\" style=\"background-color: rgb(255,0,0, 0.9555555555555556)\"> any  </span><span title=\"attention: 0.8888888888888888\" style=\"background-color: rgb(255,0,0, 0.8888888888888888)\"> attack  </span><span title=\"attention: 0.7111111111111111\" style=\"background-color: rgb(255,0,0, 0.7111111111111111)\"> and  </span><span title=\"attention: 0.37777777777777777\" style=\"background-color: rgb(255,0,0, 0.37777777777777777)\"> meet  </span><span title=\"attention: 0.1\" style=\"background-color: rgb(255,0,0, 0.1)\"> any  </span><span title=\"attention: 0.4222222222222222\" style=\"background-color: rgb(255,0,0, 0.4222222222222222)\"> use  </span><span title=\"attention: 0.8\" style=\"background-color: rgb(255,0,0, 0.8)\"> of  </span><span title=\"attention: 0.34444444444444444\" style=\"background-color: rgb(255,0,0, 0.34444444444444444)\"> conventional  </span><span title=\"attention: 0.4888888888888889\" style=\"background-color: rgb(255,0,0, 0.4888888888888889)\"> or  </span><span title=\"attention: 0.6888888888888889\" style=\"background-color: rgb(255,0,0, 0.6888888888888889)\"> nuclear  </span><span title=\"attention: 0.4666666666666667\" style=\"background-color: rgb(255,0,0, 0.4666666666666667)\"> weapons  </span><span title=\"attention: 0.4444444444444444\" style=\"background-color: rgb(255,0,0, 0.4444444444444444)\"> with  </span><span title=\"attention: 0.9888888888888889\" style=\"background-color: rgb(255,0,0, 0.9888888888888889)\"> an  </span><span title=\"attention: 0.5222222222222223\" style=\"background-color: rgb(255,0,0, 0.5222222222222223)\"> overwhelming  </span><span title=\"attention: 0.8666666666666667\" style=\"background-color: rgb(255,0,0, 0.8666666666666667)\"> and  </span><span title=\"attention: 0.14444444444444443\" style=\"background-color: rgb(255,0,0, 0.14444444444444443)\"> effective  </span><span title=\"attention: 0.4111111111111111\" style=\"background-color: rgb(255,0,0, 0.4111111111111111)\"> American  </span><span title=\"attention: 0.26666666666666666\" style=\"background-color: rgb(255,0,0, 0.26666666666666666)\"> response\".  </span><span title=\"attention: 0.2111111111111111\" style=\"background-color: rgb(255,0,0, 0.2111111111111111)\"> North  </span><span title=\"attention: 0.7333333333333333\" style=\"background-color: rgb(255,0,0, 0.7333333333333333)\"> Korea  </span><span title=\"attention: 0.7666666666666667\" style=\"background-color: rgb(255,0,0, 0.7666666666666667)\"> and  </span><span title=\"attention: 0.5888888888888889\" style=\"background-color: rgb(255,0,0, 0.5888888888888889)\"> the  </span><span title=\"attention: 0.08888888888888889\" style=\"background-color: rgb(255,0,0, 0.08888888888888889)\"> US  </span><span title=\"attention: 0.3888888888888889\" style=\"background-color: rgb(255,0,0, 0.3888888888888889)\"> have  </span><span title=\"attention: 0.8222222222222222\" style=\"background-color: rgb(255,0,0, 0.8222222222222222)\"> ratcheted  </span><span title=\"attention: 0.03333333333333333\" style=\"background-color: rgb(255,0,0, 0.03333333333333333)\"> up  </span><span title=\"attention: 0.18888888888888888\" style=\"background-color: rgb(255,0,0, 0.18888888888888888)\"> tensions  </span><span title=\"attention: 0.43333333333333335\" style=\"background-color: rgb(255,0,0, 0.43333333333333335)\"> in  </span><span title=\"attention: 0.5666666666666667\" style=\"background-color: rgb(255,0,0, 0.5666666666666667)\"> recent  </span><span title=\"attention: 0.25555555555555554\" style=\"background-color: rgb(255,0,0, 0.25555555555555554)\"> weeks  </span><span title=\"attention: 0.8777777777777778\" style=\"background-color: rgb(255,0,0, 0.8777777777777778)\"> and  </span><span title=\"attention: 0.2777777777777778\" style=\"background-color: rgb(255,0,0, 0.2777777777777778)\"> the  </span><span title=\"attention: 0.06666666666666667\" style=\"background-color: rgb(255,0,0, 0.06666666666666667)\"> movement  </span><span title=\"attention: 0.07777777777777778\" style=\"background-color: rgb(255,0,0, 0.07777777777777778)\"> of  </span><span title=\"attention: 0.6777777777777778\" style=\"background-color: rgb(255,0,0, 0.6777777777777778)\"> the  </span><span title=\"attention: 0.5444444444444444\" style=\"background-color: rgb(255,0,0, 0.5444444444444444)\"> strike  </span><span title=\"attention: 0.9222222222222223\" style=\"background-color: rgb(255,0,0, 0.9222222222222223)\"> group  </span><span title=\"attention: 0.1111111111111111\" style=\"background-color: rgb(255,0,0, 0.1111111111111111)\"> had  </span><span title=\"attention: 0.9333333333333333\" style=\"background-color: rgb(255,0,0, 0.9333333333333333)\"> raised  </span><span title=\"attention: 0.24444444444444444\" style=\"background-color: rgb(255,0,0, 0.24444444444444444)\"> the  </span><span title=\"attention: 0.8333333333333334\" style=\"background-color: rgb(255,0,0, 0.8333333333333334)\"> question  </span><span title=\"attention: 0.5\" style=\"background-color: rgb(255,0,0, 0.5)\"> of  </span><span title=\"attention: 0.23333333333333334\" style=\"background-color: rgb(255,0,0, 0.23333333333333334)\"> a  </span><span title=\"attention: 0.011111111111111112\" style=\"background-color: rgb(255,0,0, 0.011111111111111112)\"> pre-emptive  </span><span title=\"attention: 0.9666666666666667\" style=\"background-color: rgb(255,0,0, 0.9666666666666667)\"> strike  </span><span title=\"attention: 0.6444444444444445\" style=\"background-color: rgb(255,0,0, 0.6444444444444445)\"> by  </span><span title=\"attention: 0.9444444444444444\" style=\"background-color: rgb(255,0,0, 0.9444444444444444)\"> the  </span><span title=\"attention: 0.6\" style=\"background-color: rgb(255,0,0, 0.6)\"> US.  </span><span title=\"attention: 1.0\" style=\"background-color: rgb(255,0,0, 1.0)\"> On  </span><span title=\"attention: 0.28888888888888886\" style=\"background-color: rgb(255,0,0, 0.28888888888888886)\"> Wednesday,  </span><span title=\"attention: 0.8555555555555555\" style=\"background-color: rgb(255,0,0, 0.8555555555555555)\"> Mr  </span><span title=\"attention: 0.7222222222222222\" style=\"background-color: rgb(255,0,0, 0.7222222222222222)\"> Pence  </span><span title=\"attention: 0.3333333333333333\" style=\"background-color: rgb(255,0,0, 0.3333333333333333)\"> described  </span><span title=\"attention: 0.3111111111111111\" style=\"background-color: rgb(255,0,0, 0.3111111111111111)\"> the  </span><span title=\"attention: 0.9\" style=\"background-color: rgb(255,0,0, 0.9)\"> country  </span><span title=\"attention: 0.9777777777777777\" style=\"background-color: rgb(255,0,0, 0.9777777777777777)\"> as  </span><span title=\"attention: 0.05555555555555555\" style=\"background-color: rgb(255,0,0, 0.05555555555555555)\"> the  </span><span title=\"attention: 0.6111111111111112\" style=\"background-color: rgb(255,0,0, 0.6111111111111112)\"> \"most  </span><span title=\"attention: 0.8444444444444444\" style=\"background-color: rgb(255,0,0, 0.8444444444444444)\"> dangerous  </span><span title=\"attention: 0.13333333333333333\" style=\"background-color: rgb(255,0,0, 0.13333333333333333)\"> and  </span><span title=\"attention: 0.7777777777777778\" style=\"background-color: rgb(255,0,0, 0.7777777777777778)\"> urgent  </span><span title=\"attention: 0.15555555555555556\" style=\"background-color: rgb(255,0,0, 0.15555555555555556)\"> threat  </span><span title=\"attention: 0.2\" style=\"background-color: rgb(255,0,0, 0.2)\"> to  </span><span title=\"attention: 0.32222222222222224\" style=\"background-color: rgb(255,0,0, 0.32222222222222224)\"> peace  </span><span title=\"attention: 0.35555555555555557\" style=\"background-color: rgb(255,0,0, 0.35555555555555557)\"> and  </span><span title=\"attention: 0.4\" style=\"background-color: rgb(255,0,0, 0.4)\"> security\"  </span><span title=\"attention: 0.044444444444444446\" style=\"background-color: rgb(255,0,0, 0.044444444444444446)\"> in  </span><span title=\"attention: 0.16666666666666666\" style=\"background-color: rgb(255,0,0, 0.16666666666666666)\"> the  </span><span title=\"attention: 0.9111111111111111\" style=\"background-color: rgb(255,0,0, 0.9111111111111111)\"> Asia-Pacific.  </span>"
      ],
      "text/plain": [
       "<IPython.core.display.HTML object>"
      ]
     },
     "metadata": {},
     "output_type": "display_data"
    }
   ],
   "source": [
    "from IPython.core.display import display, HTML\n",
    "import random\n",
    "rawdata = '''the USS Ronald Reagan - an aircraft carrier docked in Japan - during his tour of the region, vowing to \"defeat any attack and meet any use of conventional or nuclear weapons with an overwhelming and effective American response\".\n",
    "North Korea and the US have ratcheted up tensions in recent weeks and the movement of the strike group had raised the question of a pre-emptive strike by the US.\n",
    "On Wednesday, Mr Pence described the country as the \"most dangerous and urgent threat to peace and security\" in the Asia-Pacific.'''\n",
    "words = rawdata.split()\n",
    "word_num = len(words)\n",
    "attention = [(x+1.) / word_num for x in range(word_num)]  # estabelecendo pesos aleatórios só para exemplificar: pode ser usado a importancia de feature do modelo\n",
    "random.seed(42)\n",
    "random.shuffle(attention)\n",
    "heatmap_source = \"\"\n",
    "\n",
    "for i in range (len(words)):\n",
    "        heatmap_source =  heatmap_source +  \"<span title=\\\"attention: \"+str(attention[i])+\"\\\" style=\\\"background-color: rgb(255,0,0, \"+str(attention[i]) +  \")\\\"> \" + words[i] + \"  </span>\"\n",
    "display(HTML(heatmap_source))"
   ]
  },
  {
   "cell_type": "code",
   "execution_count": null,
   "metadata": {},
   "outputs": [],
   "source": []
  }
 ],
 "metadata": {
  "kernelspec": {
   "display_name": "Python 3.8.10 64-bit",
   "language": "python",
   "name": "python3"
  },
  "language_info": {
   "codemirror_mode": {
    "name": "ipython",
    "version": 3
   },
   "file_extension": ".py",
   "mimetype": "text/x-python",
   "name": "python",
   "nbconvert_exporter": "python",
   "pygments_lexer": "ipython3",
   "version": "3.8.10"
  },
  "orig_nbformat": 4,
  "vscode": {
   "interpreter": {
    "hash": "916dbcbb3f70747c44a77c7bcd40155683ae19c65e1c03b4aa3499c5328201f1"
   }
  }
 },
 "nbformat": 4,
 "nbformat_minor": 2
}
