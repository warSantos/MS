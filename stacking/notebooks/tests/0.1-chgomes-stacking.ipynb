{
 "cells": [
  {
   "cell_type": "markdown",
   "id": "0d2ff685",
   "metadata": {},
   "source": [
    "# Description\n",
    "\n",
    "Stacking of probabilities + TFIDF representation."
   ]
  },
  {
   "cell_type": "markdown",
   "id": "6e77ed12",
   "metadata": {},
   "source": [
    "# Libraries/Configs"
   ]
  },
  {
   "cell_type": "code",
   "execution_count": 1,
   "id": "0fa88d33",
   "metadata": {
    "ExecuteTime": {
     "end_time": "2022-01-08T16:14:02.310654Z",
     "start_time": "2022-01-08T16:14:02.301276Z"
    }
   },
   "outputs": [],
   "source": [
    "%load_ext autoreload\n",
    "%autoreload 2"
   ]
  },
  {
   "cell_type": "code",
   "execution_count": 2,
   "id": "611c0acf",
   "metadata": {
    "ExecuteTime": {
     "end_time": "2022-01-08T16:14:04.007770Z",
     "start_time": "2022-01-08T16:14:02.311813Z"
    }
   },
   "outputs": [],
   "source": [
    "import os\n",
    "import itertools\n",
    "import warnings\n",
    "\n",
    "from typing import List, Tuple\n",
    "\n",
    "import numpy as np\n",
    "import scipy as scp\n",
    "\n",
    "# Modelling\n",
    "from sklearn.metrics import f1_score\n",
    "from sklearn.preprocessing import StandardScaler\n",
    "from sklearn.model_selection import StratifiedKFold\n",
    "from sklearn.pipeline import Pipeline\n",
    "from optuna.integration import OptunaSearchCV\n",
    "from joblib import load, dump\n",
    "\n",
    "import optuna\n",
    "optuna.logging.set_verbosity(optuna.logging.WARNING)\n",
    "\n",
    "warnings.filterwarnings(\"ignore\")"
   ]
  },
  {
   "cell_type": "code",
   "execution_count": 3,
   "id": "3c6d15e7",
   "metadata": {
    "ExecuteTime": {
     "end_time": "2022-01-08T16:14:04.026317Z",
     "start_time": "2022-01-08T16:14:04.008715Z"
    }
   },
   "outputs": [],
   "source": [
    "import sys\n",
    "sys.path.append(\"../../scr\")\n",
    "from constants import DATASETS, REPRESENTATIONS, ALGORITHMS\n",
    "from models import get_classifier"
   ]
  },
  {
   "cell_type": "markdown",
   "id": "e9f9f0a1",
   "metadata": {},
   "source": [
    "Execution configurations:"
   ]
  },
  {
   "cell_type": "code",
   "execution_count": 4,
   "id": "0b7ecdea",
   "metadata": {
    "ExecuteTime": {
     "end_time": "2022-01-08T16:14:04.041339Z",
     "start_time": "2022-01-08T16:14:04.027718Z"
    }
   },
   "outputs": [],
   "source": [
    "dir_projeto = \"/home/christian/Documentos/mestrado/projetos/projeto_stacking2/stacking_text_classification\"\n",
    "\n",
    "dir_cls_input = f\"{dir_projeto}/data/classification_input\"\n",
    "dir_meta_input = f\"{dir_projeto}/data/meta_layer_input\"\n",
    "\n",
    "dir_output = f\"{dir_projeto}/data/stacking_output\"\n",
    "\n",
    "algorithms_execution = list(ALGORITHMS.values())  # All 18 algorithms\n",
    "datasets_execution = [\"webkb\", \"20ng\", \"acm\", \"reut\"]\n",
    "representation = \"tmk\"\n",
    "meta_layer = \"linear_svm\"\n",
    "n_folds = 10\n",
    "seed = 42\n",
    "\n",
    "# Otimization\n",
    "opt_cv = 5\n",
    "opt_n_iter = 10\n",
    "opt_scoring = \"f1_macro\""
   ]
  },
  {
   "cell_type": "markdown",
   "id": "4a35114a",
   "metadata": {},
   "source": [
    "Functions:"
   ]
  },
  {
   "cell_type": "code",
   "execution_count": 5,
   "id": "456478ba",
   "metadata": {
    "ExecuteTime": {
     "end_time": "2022-01-08T16:14:04.057502Z",
     "start_time": "2022-01-08T16:14:04.042479Z"
    },
    "code_folding": [
     21
    ]
   },
   "outputs": [],
   "source": [
    "def load_x_y(\n",
    "    file, \n",
    "    test_train : str\n",
    ") -> Tuple[np.ndarray, np.ndarray]:\n",
    "    loaded = np.load(file, allow_pickle=True)\n",
    "    \n",
    "    X = loaded[f\"X_{test_train}\"]\n",
    "    y = loaded[f\"y_{test_train}\"]\n",
    "    \n",
    "    if X.size == 1:\n",
    "        X = X.item()\n",
    "\n",
    "    return X, y\n",
    "\n",
    "\n",
    "def read_train_test_meta(\n",
    "    dir_meta_input: str,\n",
    "    dataset: str,\n",
    "    n_folds: int,\n",
    "    fold_id: int,\n",
    "    algorithms: List[str]\n",
    ") -> Tuple[np.ndarray, np.ndarray]:\n",
    "    Xs_train, Xs_test = [], []\n",
    "\n",
    "    for alg in algorithms:\n",
    "        file_train_meta = f\"{dir_meta_input}/{dataset}/{n_folds}_folds/{alg}/{fold_id}/train.npz\"\n",
    "        file_test_meta = f\"{dir_meta_input}/{dataset}/{n_folds}_folds/{alg}/{fold_id}/test.npz\"\n",
    "\n",
    "        X_train_meta, _ = load_x_y(file_train_meta, 'train')\n",
    "        X_test_meta, _ = load_x_y(file_test_meta, 'test')\n",
    "\n",
    "        Xs_train.append(X_train_meta)\n",
    "        Xs_test.append(X_test_meta)\n",
    "\n",
    "    X_train_meta = np.hstack(Xs_train)\n",
    "    X_test_meta = np.hstack(Xs_test)\n",
    "    \n",
    "    return X_train_meta, X_test_meta"
   ]
  },
  {
   "cell_type": "markdown",
   "id": "39dafe2c",
   "metadata": {},
   "source": [
    "# Execution"
   ]
  },
  {
   "cell_type": "code",
   "execution_count": 6,
   "id": "63d3407a",
   "metadata": {
    "ExecuteTime": {
     "end_time": "2022-01-08T16:14:04.073880Z",
     "start_time": "2022-01-08T16:14:04.058820Z"
    },
    "code_folding": [
     0,
     9
    ]
   },
   "outputs": [],
   "source": [
    "def execute_optimization(\n",
    "    classifier_name: str, \n",
    "    file_model: str,\n",
    "    opt_cv: int, \n",
    "    opt_n_iter: int,\n",
    "    opt_scoring: str,\n",
    "    X_train: np.ndarray,\n",
    "    y_train: np.ndarray,\n",
    "    seed: int = 42\n",
    "):\n",
    "    # Optimization/Training\n",
    "    classifier, hyperparameters = get_classifier(classifier_name=classifier_name)\n",
    "    pipeline = Pipeline([\n",
    "        (\"scaler\", StandardScaler(with_mean=False)), \n",
    "        (\"classifier\", classifier)\n",
    "    ])\n",
    "    hyperparameters = {f\"classifier__{k}\": v for k, v in hyperparameters.items()}\n",
    "    \n",
    "    optuna_search = OptunaSearchCV(\n",
    "        pipeline,\n",
    "        hyperparameters,\n",
    "        cv=StratifiedKFold(opt_cv, shuffle=True, random_state=seed),\n",
    "        error_score=\"raise\",\n",
    "        n_trials=opt_n_iter,\n",
    "        random_state=seed,\n",
    "        scoring=opt_scoring\n",
    "    )\n",
    "    \n",
    "    os.makedirs(os.path.dirname(file_model), exist_ok=True)\n",
    "    if os.path.exists(file_model):\n",
    "        print(\"\\tModel already executed! Loading model...\", end=\"\")\n",
    "        optuna_search = load(file_model)\n",
    "    else:\n",
    "        print(\"\\tExecuting model...\", end=\"\")\n",
    "        optuna_search.fit(X_train, y_train)\n",
    "        dump(optuna_search, file_model)\n",
    "        \n",
    "    return optuna_search"
   ]
  },
  {
   "cell_type": "code",
   "execution_count": 8,
   "id": "a8c048de",
   "metadata": {
    "ExecuteTime": {
     "end_time": "2022-01-08T16:22:30.682884Z",
     "start_time": "2022-01-08T16:22:29.357226Z"
    },
    "code_folding": [
     27
    ],
    "scrolled": false
   },
   "outputs": [
    {
     "name": "stdout",
     "output_type": "stream",
     "text": [
      "Dataset REUT       - Fold 0    \n"
     ]
    },
    {
     "ename": "AssertionError",
     "evalue": "X meta input differs from y shape.",
     "output_type": "error",
     "traceback": [
      "\u001b[0;31m---------------------------------------------------------------------------\u001b[0m",
      "\u001b[0;31mAssertionError\u001b[0m                            Traceback (most recent call last)",
      "\u001b[0;32m/tmp/ipykernel_7254/1912215030.py\u001b[0m in \u001b[0;36m<module>\u001b[0;34m\u001b[0m\n\u001b[1;32m     18\u001b[0m     \u001b[0;31m# Check shapes\u001b[0m\u001b[0;34m\u001b[0m\u001b[0;34m\u001b[0m\u001b[0m\n\u001b[1;32m     19\u001b[0m     \u001b[0;32massert\u001b[0m \u001b[0mlen\u001b[0m\u001b[0;34m(\u001b[0m\u001b[0my_test\u001b[0m\u001b[0;34m)\u001b[0m \u001b[0;34m==\u001b[0m \u001b[0mlen\u001b[0m\u001b[0;34m(\u001b[0m\u001b[0mX_test_meta\u001b[0m\u001b[0;34m)\u001b[0m\u001b[0;34m,\u001b[0m \u001b[0;34m\"X meta input differs from y shape.\"\u001b[0m\u001b[0;34m\u001b[0m\u001b[0;34m\u001b[0m\u001b[0m\n\u001b[0;32m---> 20\u001b[0;31m     \u001b[0;32massert\u001b[0m \u001b[0mlen\u001b[0m\u001b[0;34m(\u001b[0m\u001b[0my_train\u001b[0m\u001b[0;34m)\u001b[0m \u001b[0;34m==\u001b[0m \u001b[0mlen\u001b[0m\u001b[0;34m(\u001b[0m\u001b[0mX_train_meta\u001b[0m\u001b[0;34m)\u001b[0m\u001b[0;34m,\u001b[0m \u001b[0;34m\"X meta input differs from y shape.\"\u001b[0m\u001b[0;34m\u001b[0m\u001b[0;34m\u001b[0m\u001b[0m\n\u001b[0m\u001b[1;32m     21\u001b[0m \u001b[0;34m\u001b[0m\u001b[0m\n\u001b[1;32m     22\u001b[0m     \u001b[0;31m# Concat proba + TFIDF MetaFeat\u001b[0m\u001b[0;34m\u001b[0m\u001b[0;34m\u001b[0m\u001b[0m\n",
      "\u001b[0;31mAssertionError\u001b[0m: X meta input differs from y shape."
     ]
    }
   ],
   "source": [
    "iterations = itertools.product(datasets_execution, range(n_folds))\n",
    "for (dataset, fold_id) in iterations:\n",
    "    if dataset != \"reut\":\n",
    "        continue\n",
    "    print(f\"Dataset {dataset.upper():10s} - Fold {str(fold_id):5s}\")\n",
    "    \n",
    "    # Reading classification input (TFIDF MetaFeat)\n",
    "    file_train_cls = f\"{dir_cls_input}/{dataset}/{n_folds}_folds/{representation}/{fold_id}/train.npz\"\n",
    "    file_test_cls = f\"{dir_cls_input}/{dataset}/{n_folds}_folds/{representation}/{fold_id}/test.npz\"\n",
    "\n",
    "    X_train_cls, y_train = load_x_y(file_train_cls, \"train\")\n",
    "    X_test_cls, y_test = load_x_y(file_test_cls, \"test\")\n",
    "    \n",
    "    # Reading meta-layer input (classification probabilities)\n",
    "    X_train_meta, X_test_meta = read_train_test_meta(\n",
    "        dir_meta_input, dataset, n_folds, fold_id, algorithms_execution)\n",
    "    \n",
    "    # Check shapes\n",
    "    assert len(y_test) == len(X_test_meta), \"X meta input differs from y shape.\"\n",
    "    assert len(y_train) == len(X_train_meta), \"X meta input differs from y shape.\"\n",
    "    \n",
    "    # Concat proba + TFIDF MetaFeat\n",
    "    new_X_train_meta = scp.sparse.hstack([X_train_cls, X_train_meta]).tocsr()\n",
    "    new_X_test_meta = scp.sparse.hstack([X_test_cls, X_test_meta]).tocsr()\n",
    "    \n",
    "    # Optimization/Training\n",
    "    file_model = f\"{dir_output}/{dataset}/{n_folds}_folds/{meta_layer}/proba_tmk_input/fold_{fold_id}/model.joblib\"\n",
    "    optuna_search = execute_optimization(\n",
    "        meta_layer, \n",
    "        file_model,\n",
    "        opt_cv, \n",
    "        opt_n_iter,\n",
    "        opt_scoring,\n",
    "        new_X_train_meta,\n",
    "        y_train\n",
    "    )\n",
    "    \n",
    "    # Prediction\n",
    "    y_pred = optuna_search.predict(new_X_test_meta)\n",
    "    f1_macro = f1_score(y_test, y_pred, average=\"macro\")\n",
    "    f1_micro = f1_score(y_test, y_pred, average=\"micro\")\n",
    "    \n",
    "    msg = f\"\"\"\n",
    "    \\tF1-Macro: {f1_macro:.4f}\n",
    "    \\tF1-Micro: {f1_micro:.4f}\n",
    "    \"\"\"\n",
    "    print(msg)"
   ]
  },
  {
   "cell_type": "code",
   "execution_count": 26,
   "id": "679f86c0",
   "metadata": {
    "ExecuteTime": {
     "end_time": "2022-01-08T18:21:49.815233Z",
     "start_time": "2022-01-08T18:21:49.800134Z"
    }
   },
   "outputs": [
    {
     "data": {
      "text/plain": [
       "(11977, 1620)"
      ]
     },
     "execution_count": 26,
     "metadata": {},
     "output_type": "execute_result"
    }
   ],
   "source": [
    "X_train_meta.shape"
   ]
  },
  {
   "cell_type": "code",
   "execution_count": null,
   "id": "4b8122d8",
   "metadata": {},
   "outputs": [],
   "source": []
  },
  {
   "cell_type": "code",
   "execution_count": 28,
   "id": "ad6bd751",
   "metadata": {
    "ExecuteTime": {
     "end_time": "2022-01-08T18:22:24.960504Z",
     "start_time": "2022-01-08T18:22:24.943750Z"
    }
   },
   "outputs": [
    {
     "data": {
      "text/plain": [
       "<12117x900 sparse matrix of type '<class 'numpy.float64'>'\n",
       "\twith 10902358 stored elements in Compressed Sparse Row format>"
      ]
     },
     "execution_count": 28,
     "metadata": {},
     "output_type": "execute_result"
    }
   ],
   "source": [
    "X_train_cls"
   ]
  },
  {
   "cell_type": "code",
   "execution_count": null,
   "id": "692441cf",
   "metadata": {},
   "outputs": [],
   "source": []
  },
  {
   "cell_type": "code",
   "execution_count": 19,
   "id": "6767db38",
   "metadata": {
    "ExecuteTime": {
     "end_time": "2022-01-08T18:20:31.457098Z",
     "start_time": "2022-01-08T18:20:30.963328Z"
    }
   },
   "outputs": [],
   "source": [
    "X_train_cls, y_train = load_x_y(file_train_cls, \"train\")\n",
    "X_test_cls, y_test = load_x_y(file_test_cls, \"test\")"
   ]
  },
  {
   "cell_type": "code",
   "execution_count": 20,
   "id": "c7189748",
   "metadata": {
    "ExecuteTime": {
     "end_time": "2022-01-08T18:20:31.471944Z",
     "start_time": "2022-01-08T18:20:31.458176Z"
    }
   },
   "outputs": [
    {
     "data": {
      "text/plain": [
       "(11977, 1620)"
      ]
     },
     "execution_count": 20,
     "metadata": {},
     "output_type": "execute_result"
    }
   ],
   "source": [
    "X_train_meta.shape"
   ]
  },
  {
   "cell_type": "code",
   "execution_count": 21,
   "id": "24ae444c",
   "metadata": {
    "ExecuteTime": {
     "end_time": "2022-01-08T18:20:31.577710Z",
     "start_time": "2022-01-08T18:20:31.561769Z"
    }
   },
   "outputs": [
    {
     "data": {
      "text/plain": [
       "(12117, 900)"
      ]
     },
     "execution_count": 21,
     "metadata": {},
     "output_type": "execute_result"
    }
   ],
   "source": [
    "X_train_cls.shape"
   ]
  },
  {
   "cell_type": "code",
   "execution_count": null,
   "id": "04f1d8ef",
   "metadata": {},
   "outputs": [],
   "source": []
  },
  {
   "cell_type": "code",
   "execution_count": null,
   "id": "49c9dbde",
   "metadata": {},
   "outputs": [],
   "source": []
  },
  {
   "cell_type": "code",
   "execution_count": null,
   "id": "02db398a",
   "metadata": {},
   "outputs": [],
   "source": []
  },
  {
   "cell_type": "code",
   "execution_count": 12,
   "id": "2faf044a",
   "metadata": {
    "ExecuteTime": {
     "end_time": "2022-01-08T16:23:08.394851Z",
     "start_time": "2022-01-08T16:23:08.381253Z"
    }
   },
   "outputs": [
    {
     "data": {
      "text/plain": [
       "((1350, 1620), (1350,))"
      ]
     },
     "execution_count": 12,
     "metadata": {},
     "output_type": "execute_result"
    }
   ],
   "source": [
    "X_test_meta.shape, y_test.shape"
   ]
  },
  {
   "cell_type": "code",
   "execution_count": 13,
   "id": "ba3c1ab3",
   "metadata": {
    "ExecuteTime": {
     "end_time": "2022-01-08T16:24:45.598347Z",
     "start_time": "2022-01-08T16:24:45.583015Z"
    }
   },
   "outputs": [
    {
     "data": {
      "text/plain": [
       "((11977, 1620), (12117,))"
      ]
     },
     "execution_count": 13,
     "metadata": {},
     "output_type": "execute_result"
    }
   ],
   "source": [
    "X_train_meta.shape, y_train.shape"
   ]
  }
 ],
 "metadata": {
  "kernelspec": {
   "display_name": "Python 3 (ipykernel)",
   "language": "python",
   "name": "python3"
  },
  "language_info": {
   "codemirror_mode": {
    "name": "ipython",
    "version": 3
   },
   "file_extension": ".py",
   "mimetype": "text/x-python",
   "name": "python",
   "nbconvert_exporter": "python",
   "pygments_lexer": "ipython3",
   "version": "3.9.7"
  },
  "toc": {
   "base_numbering": 1,
   "nav_menu": {},
   "number_sections": true,
   "sideBar": true,
   "skip_h1_title": false,
   "title_cell": "Table of Contents",
   "title_sidebar": "Contents",
   "toc_cell": false,
   "toc_position": {},
   "toc_section_display": true,
   "toc_window_display": false
  }
 },
 "nbformat": 4,
 "nbformat_minor": 5
}
