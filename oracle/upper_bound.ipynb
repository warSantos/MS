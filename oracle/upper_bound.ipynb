{
 "cells": [
  {
   "cell_type": "code",
   "execution_count": 1,
   "metadata": {},
   "outputs": [],
   "source": [
    "import os\n",
    "import numpy as np\n",
    "import pandas as pd\n",
    "\n",
    "from sys import path\n",
    "path.append(\"../analysis/utils/\")\n",
    "\n",
    "from utils import get_datasets"
   ]
  },
  {
   "cell_type": "code",
   "execution_count": 2,
   "metadata": {},
   "outputs": [],
   "source": [
    "DATASETS = [\"webkb\", \"20ng\", \"reut\", \"acm\"]\n",
    "\n",
    "DATA_SOURCE = \"/home/welton/data\"\n",
    "\n",
    "ORACLE_DIR = f\"{DATA_SOURCE}/oracle/upper_bound\""
   ]
  },
  {
   "cell_type": "code",
   "execution_count": 3,
   "metadata": {},
   "outputs": [],
   "source": [
    "pd_datasets = get_datasets(DATASETS, path=f\"{DATA_SOURCE}/pd_datasets/__dset__.csv\", sep=';')"
   ]
  },
  {
   "cell_type": "code",
   "execution_count": 10,
   "metadata": {},
   "outputs": [],
   "source": [
    "# For each dataset.\n",
    "for dset in DATASETS:\n",
    "    df = pd_datasets[dset]\n",
    "    labels = df[[\"label\", \"fold_id\"]]\n",
    "    try:\n",
    "        preds = df.drop(columns=[\"label\", \"fold_id\", \"rep_bert_bkp\", \"bert\"])\n",
    "    except:\n",
    "        preds = df.drop(columns=[\"label\", \"fold_id\", \"bert\"])\n",
    "    # For each classifier.\n",
    "    for clf in preds.columns:\n",
    "        # For each fold.\n",
    "        for fold in np.arange(10):\n",
    "            # Making train upper bound.\n",
    "            fold_preds = preds[labels.fold_id != fold]\n",
    "            fold_labels = labels[labels.fold_id != fold]\n",
    "            train_upper = np.zeros(fold_preds.shape[0])\n",
    "            # Set Hit/True (value 1) on documents right classifieds.\n",
    "            train_upper[fold_preds[clf].values == fold_labels.label.values] = 1\n",
    "            output_dir = f\"{ORACLE_DIR}/{dset}/{clf}/{fold}/\"\n",
    "            os.makedirs(output_dir, exist_ok=True)\n",
    "            output = f\"{output_dir}/train\"\n",
    "            # Save the upper_ground.\n",
    "            np.savez(output, y=train_upper)\n",
    "\n",
    "            # Making test upper bound.\n",
    "            fold_preds = preds[labels.fold_id == fold]\n",
    "            fold_labels = labels[labels.fold_id == fold]\n",
    "            test_upper = np.zeros(fold_preds.shape[0])\n",
    "            # Set Hit/True (value 1) on documents right classifieds.\n",
    "            test_upper[fold_preds[clf].values == fold_labels.label.values] = 1\n",
    "            output = f\"{output_dir}/test\"\n",
    "            # Save the upper_ground.\n",
    "            np.savez(output, y=test_upper)\n",
    "\n",
    "            # Generating upper test and train test.\n",
    "            output_dir = f\"{ORACLE_DIR.replace('bound', 'train')}/{dset}/{clf}/{fold}/\"\n",
    "            os.makedirs(output_dir, exist_ok=True)\n",
    "            output = f\"{output_dir}/train\"\n",
    "            np.savez(output, y=train_upper)\n",
    "            output = f\"{output_dir}/test\"\n",
    "            fake_test = np.zeros(test_upper.shape[0]) + 1\n",
    "            np.savez(output, y=fake_test)\n",
    "\n",
    "            output_dir = f\"{ORACLE_DIR.replace('bound', 'test')}/{dset}/{clf}/{fold}/\"\n",
    "            os.makedirs(output_dir, exist_ok=True)\n",
    "            output = f\"{output_dir}/train\"\n",
    "            fake_train = np.zeros(train_upper.shape[0]) + 1\n",
    "            np.savez(output, y=fake_train)\n",
    "            output = f\"{output_dir}/test\"\n",
    "            np.savez(output, y=test_upper)\n",
    "            "
   ]
  },
  {
   "cell_type": "code",
   "execution_count": null,
   "metadata": {},
   "outputs": [],
   "source": [
    "(np.load(\"/home/welton/data/oracle/upper_bound/20ng/kfr/0/train.npz\")['y'].shape,\n",
    "np.load(\"/home/welton/data/oracle/upper_bound/20ng/kfr/0/test.npz\")['y'].shape)"
   ]
  },
  {
   "cell_type": "code",
   "execution_count": 11,
   "metadata": {},
   "outputs": [
    {
     "data": {
      "text/plain": [
       "((16954,), (1892,))"
      ]
     },
     "execution_count": 11,
     "metadata": {},
     "output_type": "execute_result"
    }
   ],
   "source": [
    "(np.load(\"/home/welton/data/oracle/upper_test/20ng/kfr/0/train.npz\")['y'].shape,\n",
    "np.load(\"/home/welton/data/oracle/upper_test/20ng/kfr/0/test.npz\")['y'].shape)"
   ]
  },
  {
   "cell_type": "code",
   "execution_count": 15,
   "metadata": {},
   "outputs": [
    {
     "data": {
      "text/plain": [
       "(array([1.]), array([1.]))"
      ]
     },
     "execution_count": 15,
     "metadata": {},
     "output_type": "execute_result"
    }
   ],
   "source": [
    "np.unique(np.load(\"/home/welton/data/oracle/upper_test/20ng/kfr/0/train.npz\")['y']), np.unique(np.load(\"/home/welton/data/oracle/upper_train/20ng/kfr/0/test.npz\")['y'])"
   ]
  },
  {
   "cell_type": "code",
   "execution_count": null,
   "metadata": {},
   "outputs": [],
   "source": [
    "m = np.array([[1,1,1],[1,1,1],[1,1,1]])\n",
    "m"
   ]
  },
  {
   "cell_type": "code",
   "execution_count": null,
   "metadata": {},
   "outputs": [],
   "source": [
    "p = np.array([1,0,1])\n",
    "p"
   ]
  },
  {
   "cell_type": "code",
   "execution_count": null,
   "metadata": {},
   "outputs": [],
   "source": [
    "m * p[:, None]"
   ]
  },
  {
   "cell_type": "code",
   "execution_count": null,
   "metadata": {},
   "outputs": [],
   "source": []
  }
 ],
 "metadata": {
  "kernelspec": {
   "display_name": "Python 3.8.10 ('.env': venv)",
   "language": "python",
   "name": "python3"
  },
  "language_info": {
   "codemirror_mode": {
    "name": "ipython",
    "version": 3
   },
   "file_extension": ".py",
   "mimetype": "text/x-python",
   "name": "python",
   "nbconvert_exporter": "python",
   "pygments_lexer": "ipython3",
   "version": "3.8.10"
  },
  "orig_nbformat": 4,
  "vscode": {
   "interpreter": {
    "hash": "22f5c821af8e0907655ca5fb88a86cc74c2a7ea210a5948302ed109ba043326b"
   }
  }
 },
 "nbformat": 4,
 "nbformat_minor": 2
}
