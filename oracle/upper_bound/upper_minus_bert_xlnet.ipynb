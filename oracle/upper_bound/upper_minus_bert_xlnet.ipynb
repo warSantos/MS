{
 "cells": [
  {
   "cell_type": "code",
   "execution_count": 1,
   "metadata": {},
   "outputs": [],
   "source": [
    "import os\n",
    "import numpy as np\n",
    "import pandas as pd\n",
    "\n",
    "from sys import path\n",
    "path.append(\"../analysis/utils/\")\n",
    "\n",
    "from utils import get_datasets"
   ]
  },
  {
   "cell_type": "code",
   "execution_count": 5,
   "metadata": {},
   "outputs": [],
   "source": [
    "DATASETS = [\"webkb\", \"20ng\", \"acm\"]\n",
    "\n",
    "CLFS = [\"kpr\", \"ktr\", \"lpr\", \"ltr\", \"sfr\", \"stmk\", \"xfr\", \"xpr\", \"xtr\", \"kfr\", \"ktmk\", \"lfr\", \"ltmk\", \"spr\", \"str\", \"xlnet_softmax\", \"xtmk\", \"rep_bert\"]\n",
    "\n",
    "DATA_SOURCE = \"/home/welton/data\"\n",
    "\n",
    "ORACLE_DIR = f\"{DATA_SOURCE}/oracle/upper_minus_bert_xlnet\""
   ]
  },
  {
   "cell_type": "code",
   "execution_count": 6,
   "metadata": {},
   "outputs": [],
   "source": [
    "pd_datasets = get_datasets(DATASETS, path=f\"{DATA_SOURCE}/pd_datasets/__dset__.csv\", sep=';')"
   ]
  },
  {
   "cell_type": "code",
   "execution_count": 7,
   "metadata": {},
   "outputs": [],
   "source": [
    "# For each dataset.\n",
    "for dset in DATASETS:\n",
    "    df = pd_datasets[dset]\n",
    "    try:\n",
    "        preds = df.drop(columns=[\"label\", \"fold_id\", \"rep_bert_bkp\", \"bert\"])\n",
    "    except:\n",
    "        preds = df.drop(columns=[\"label\", \"fold_id\", \"bert\"])\n",
    "    # For each classifier.\n",
    "    for clf in CLFS:\n",
    "        # For each fold.\n",
    "        for fold in np.arange(10):\n",
    "\n",
    "            train_load = np.load(f\"/home/welton/data/clfs_output/split_10/{dset}/10_folds/{clf}/{fold}/train.npz\")\n",
    "            train_preds = train_load[\"X_train\"].argmax(axis=1)\n",
    "            train_labels = np.load(f\"/home/welton/data/datasets/labels/split_10/{dset}/{fold}/train.npy\")\n",
    "            \n",
    "            test_load = np.load(f\"/home/welton/data/clfs_output/split_10/{dset}/10_folds/{clf}/{fold}/test.npz\")\n",
    "            test_preds = test_load[\"X_test\"].argmax(axis=1)\n",
    "            test_labels = np.load(f\"/home/welton/data/datasets/labels/split_10/{dset}/{fold}/test.npy\")\n",
    "\n",
    "            # Creating dir.\n",
    "            output_dir = f\"{ORACLE_DIR}/{dset}/{clf}/{fold}/\"\n",
    "            os.makedirs(output_dir, exist_ok=True)\n",
    "            \n",
    "            # Making train/test upper bound.\n",
    "            train_upper = np.zeros(train_preds.shape[0])\n",
    "            test_upper = np.zeros(test_preds.shape[0])\n",
    "\n",
    "            if clf in ['xlnet_softmax', 'rep_bert']:\n",
    "                train_upper = train_upper + 1\n",
    "                test_upper = test_upper + 1\n",
    "            else:\n",
    "                # Set Hit/True (value 1) on documents right classifieds.\n",
    "                train_upper[train_preds == train_labels] = 1\n",
    "                test_upper[test_preds == test_labels] = 1\n",
    "                \n",
    "            # Save the upper_ground.\n",
    "            output = f\"{output_dir}/train\"\n",
    "            np.savez(output, y=train_upper)\n",
    "            output = f\"{output_dir}/test\"\n",
    "            np.savez(output, y=test_upper)"
   ]
  },
  {
   "cell_type": "code",
   "execution_count": 10,
   "metadata": {},
   "outputs": [
    {
     "data": {
      "text/plain": [
       "[array([1.]), array([1.])]"
      ]
     },
     "execution_count": 10,
     "metadata": {},
     "output_type": "execute_result"
    }
   ],
   "source": [
    "[np.unique(np.load(\"/home/welton/data/oracle/upper_minus_bert_xlnet/webkb/xlnet_softmax/0/test.npz\")['y']),\n",
    "np.unique(np.load(\"/home/welton/data/oracle/upper_minus_bert_xlnet/webkb/xlnet_softmax/0/train.npz\")['y'])]"
   ]
  },
  {
   "cell_type": "code",
   "execution_count": 11,
   "metadata": {},
   "outputs": [
    {
     "data": {
      "text/plain": [
       "[array([0., 1.]), array([0., 1.])]"
      ]
     },
     "execution_count": 11,
     "metadata": {},
     "output_type": "execute_result"
    }
   ],
   "source": [
    "[np.unique(np.load(\"/home/welton/data/oracle/upper_minus_bert_xlnet/webkb/lfr/0/test.npz\")['y']),\n",
    "np.unique(np.load(\"/home/welton/data/oracle/upper_minus_bert_xlnet/webkb/lfr/0/train.npz\")['y'])]"
   ]
  },
  {
   "cell_type": "code",
   "execution_count": null,
   "metadata": {},
   "outputs": [
    {
     "data": {
      "text/plain": [
       "array([ True])"
      ]
     },
     "execution_count": 5,
     "metadata": {},
     "output_type": "execute_result"
    }
   ],
   "source": [
    "ct = np.load(\"/home/welton/data/oracle/upper_test/webkb/rep_bert/0/train.npz\")[\"y\"]\n",
    "ct2 = np.load(\"/home/welton/data/oracle/upper_test/webkb/ltr/0/train.npz\")[\"y\"]\n",
    "np.unique(ct2 == ct)"
   ]
  },
  {
   "cell_type": "code",
   "execution_count": null,
   "metadata": {},
   "outputs": [
    {
     "data": {
      "text/plain": [
       "array([ True])"
      ]
     },
     "execution_count": 6,
     "metadata": {},
     "output_type": "execute_result"
    }
   ],
   "source": [
    "y = np.load(\"/home/welton/data/datasets/labels/split_10/webkb/1/train.npy\")\n",
    "yc = np.load(\"/home/welton/data/clfs_output/split_10/webkb/10_folds/ltr/1/train.npz\")['y_train']\n",
    "np.unique(y == yc)"
   ]
  },
  {
   "cell_type": "code",
   "execution_count": null,
   "metadata": {},
   "outputs": [
    {
     "data": {
      "text/plain": [
       "array([[2, 0, 2],\n",
       "       [0, 0, 0],\n",
       "       [2, 2, 2]])"
      ]
     },
     "execution_count": 7,
     "metadata": {},
     "output_type": "execute_result"
    }
   ],
   "source": [
    "np.multiply([[1,0,1], [0,0,0], [1,1,1]], [[2,2,2],[2,2,2],[2,2,2]])"
   ]
  },
  {
   "cell_type": "code",
   "execution_count": null,
   "metadata": {},
   "outputs": [
    {
     "data": {
      "text/plain": [
       "(array([1.]), array([823]))"
      ]
     },
     "execution_count": 4,
     "metadata": {},
     "output_type": "execute_result"
    }
   ],
   "source": [
    "np.unique(np.load(\"/home/welton/data/oracle/upper_train/webkb/kfr/0/test.npz\")['y'], return_counts=True)"
   ]
  },
  {
   "cell_type": "code",
   "execution_count": null,
   "metadata": {},
   "outputs": [
    {
     "data": {
      "text/plain": [
       "(array([0., 1.]), array([1682, 5694]))"
      ]
     },
     "execution_count": 5,
     "metadata": {},
     "output_type": "execute_result"
    }
   ],
   "source": [
    "np.unique(np.load(\"/home/welton/data/oracle/upper_train/webkb/kfr/0/train.npz\")['y'], return_counts=True)"
   ]
  },
  {
   "cell_type": "code",
   "execution_count": null,
   "metadata": {},
   "outputs": [],
   "source": []
  }
 ],
 "metadata": {
  "kernelspec": {
   "display_name": "Python 3.8.10 ('.env': venv)",
   "language": "python",
   "name": "python3"
  },
  "language_info": {
   "codemirror_mode": {
    "name": "ipython",
    "version": 3
   },
   "file_extension": ".py",
   "mimetype": "text/x-python",
   "name": "python",
   "nbconvert_exporter": "python",
   "pygments_lexer": "ipython3",
   "version": "3.8.10 (default, Nov 14 2022, 12:59:47) \n[GCC 9.4.0]"
  },
  "orig_nbformat": 4,
  "vscode": {
   "interpreter": {
    "hash": "22f5c821af8e0907655ca5fb88a86cc74c2a7ea210a5948302ed109ba043326b"
   }
  }
 },
 "nbformat": 4,
 "nbformat_minor": 2
}
