{
 "cells": [
  {
   "cell_type": "code",
   "execution_count": 4,
   "metadata": {},
   "outputs": [],
   "source": [
    "import os\n",
    "import numpy as np\n",
    "import pandas as pd\n",
    "\n",
    "from sys import path\n",
    "path.append(\"../../analysis/utils/\")\n",
    "\n",
    "from utils import get_datasets"
   ]
  },
  {
   "cell_type": "code",
   "execution_count": 5,
   "metadata": {},
   "outputs": [],
   "source": [
    "DATA_SOURCE = \"/home/welton/data\"\n",
    "ORACLE_DIR = f\"{DATA_SOURCE}/oracle/upper_bound\"\n",
    "LABELS_DIR = \"/home/welton/data/datasets/labels\"\n",
    "DATASETS = [\"20ng\", \"acm\"]\n",
    "\n",
    "CLFS = [\n",
    "    [\"bert\", \"normal_probas\"],\n",
    "    [\"xlnet\", \"normal_probas\"],\n",
    "    [\"ktmk\", \"normal_probas\"],\n",
    "    [\"ktr\", \"normal_probas\"],\n",
    "    [\"lstmk\", \"normal_probas\"],\n",
    "    [\"lstr\", \"normal_probas\"],\n",
    "    [\"ltr\", \"normal_probas\"]\n",
    "\n",
    "]\n",
    "\n",
    "\n",
    "N_FOLDS = 10"
   ]
  },
  {
   "cell_type": "code",
   "execution_count": 6,
   "metadata": {},
   "outputs": [],
   "source": [
    "# For each dataset.\n",
    "for dataset in DATASETS:\n",
    "    # For each classifier.\n",
    "    for clf_name, proba_type in CLFS:\n",
    "        # For each fold.\n",
    "        for fold in np.arange(10):\n",
    "\n",
    "            probas_dir = f\"{DATA_SOURCE}/{proba_type}/split_{N_FOLDS}/{dataset}/{N_FOLDS}_folds/{clf_name}/{fold}\"\n",
    "\n",
    "            train_probas = np.load(f\"{probas_dir}/train.npz\")[\"X_train\"]\n",
    "            test_probas = np.load(f\"{probas_dir}/test.npz\")[\"X_test\"]\n",
    "            \n",
    "            train_labels = np.load(f\"{LABELS_DIR}/split_{N_FOLDS}/{dataset}/{fold}/train.npy\")\n",
    "            test_labels = np.load(f\"{LABELS_DIR}/split_{N_FOLDS}/{dataset}/{fold}/test.npy\")\n",
    "            \n",
    "            train_preds = train_probas.argmax(axis=1)\n",
    "            test_preds = test_probas.argmax(axis=1)\n",
    "\n",
    "            output_dir = f\"{ORACLE_DIR}/{proba_type}/{dataset}/{N_FOLDS}_folds/{clf_name}/{fold}/\"\n",
    "            os.makedirs(output_dir, exist_ok=True)\n",
    "            \n",
    "            # Making train upper bound.\n",
    "            train_upper = np.zeros(train_preds.shape[0])\n",
    "            # Set Hit/True (value 1) on documents right classifieds.\n",
    "            train_upper[train_preds == train_labels] = 1\n",
    "            # Save the upper_ground.\n",
    "            np.savez(f\"{output_dir}/train\", y=train_upper)\n",
    "\n",
    "            # Making test upper bound.\n",
    "            test_upper = np.zeros(test_preds.shape[0])\n",
    "            # Set Hit/True (value 1) on documents right classifieds.\n",
    "            test_upper[test_preds == test_labels] = 1\n",
    "            # Save the upper_ground.\n",
    "            np.savez(f\"{output_dir}/test\", y=test_upper)\n",
    "\n",
    "            \"\"\"\n",
    "            # Generating upper test and train test.\n",
    "            output_dir = f\"{ORACLE_DIR.replace('bound', 'train')}/{dataset}/{clf}/{fold}/\"\n",
    "            os.makedirs(output_dir, exist_ok=True)\n",
    "            output = f\"{output_dir}/train\"\n",
    "            np.savez(output, y=train_upper)\n",
    "            output = f\"{output_dir}/test\"\n",
    "            fake_test = np.zeros(test_upper.shape[0]) + 1\n",
    "            np.savez(output, y=fake_test)\n",
    "\n",
    "            output_dir = f\"{ORACLE_DIR.replace('bound', 'test')}/{dataset}/{clf}/{fold}/\"\n",
    "            os.makedirs(output_dir, exist_ok=True)\n",
    "            output = f\"{output_dir}/train\"\n",
    "            fake_train = np.zeros(train_upper.shape[0]) + 1\n",
    "            np.savez(output, y=fake_train)\n",
    "            output = f\"{output_dir}/test\"\n",
    "            np.savez(output, y=test_upper)\n",
    "            \"\"\"            \n",
    "            "
   ]
  },
  {
   "cell_type": "code",
   "execution_count": 9,
   "metadata": {},
   "outputs": [
    {
     "data": {
      "text/plain": [
       "array([ True])"
      ]
     },
     "execution_count": 9,
     "metadata": {},
     "output_type": "execute_result"
    }
   ],
   "source": [
    "ct = np.load(\"/home/welton/data/oracle/upper_test/webkb/rep_bert/0/train.npz\")[\"y\"]\n",
    "ct2 = np.load(\"/home/welton/data/oracle/upper_test/webkb/ltr/0/train.npz\")[\"y\"]\n",
    "np.unique(ct2 == ct)"
   ]
  },
  {
   "cell_type": "code",
   "execution_count": 10,
   "metadata": {},
   "outputs": [
    {
     "data": {
      "text/plain": [
       "array([ True])"
      ]
     },
     "execution_count": 10,
     "metadata": {},
     "output_type": "execute_result"
    }
   ],
   "source": [
    "y = np.load(\"/home/welton/data/datasets/labels/split_10/webkb/1/train.npy\")\n",
    "yc = np.load(\"/home/welton/data/clfs_output/split_10/webkb/10_folds/ltr/1/train.npz\")['y_train']\n",
    "np.unique(y == yc)"
   ]
  },
  {
   "cell_type": "code",
   "execution_count": 11,
   "metadata": {},
   "outputs": [
    {
     "data": {
      "text/plain": [
       "array([[2, 0, 2],\n",
       "       [0, 0, 0],\n",
       "       [2, 2, 2]])"
      ]
     },
     "execution_count": 11,
     "metadata": {},
     "output_type": "execute_result"
    }
   ],
   "source": [
    "np.multiply([[1,0,1], [0,0,0], [1,1,1]], [[2,2,2],[2,2,2],[2,2,2]])"
   ]
  },
  {
   "cell_type": "code",
   "execution_count": 12,
   "metadata": {},
   "outputs": [
    {
     "data": {
      "text/plain": [
       "(array([1.]), array([823]))"
      ]
     },
     "execution_count": 12,
     "metadata": {},
     "output_type": "execute_result"
    }
   ],
   "source": [
    "np.unique(np.load(\"/home/welton/data/oracle/upper_train/webkb/kfr/0/test.npz\")['y'], return_counts=True)"
   ]
  },
  {
   "cell_type": "code",
   "execution_count": 13,
   "metadata": {},
   "outputs": [
    {
     "data": {
      "text/plain": [
       "(array([0., 1.]), array([1682, 5694]))"
      ]
     },
     "execution_count": 13,
     "metadata": {},
     "output_type": "execute_result"
    }
   ],
   "source": [
    "np.unique(np.load(\"/home/welton/data/oracle/upper_train/webkb/kfr/0/train.npz\")['y'], return_counts=True)"
   ]
  },
  {
   "cell_type": "code",
   "execution_count": null,
   "metadata": {},
   "outputs": [],
   "source": []
  }
 ],
 "metadata": {
  "kernelspec": {
   "display_name": "Python 3.8.10 ('.env': venv)",
   "language": "python",
   "name": "python3"
  },
  "language_info": {
   "codemirror_mode": {
    "name": "ipython",
    "version": 3
   },
   "file_extension": ".py",
   "mimetype": "text/x-python",
   "name": "python",
   "nbconvert_exporter": "python",
   "pygments_lexer": "ipython3",
   "version": "3.8.10"
  },
  "orig_nbformat": 4,
  "vscode": {
   "interpreter": {
    "hash": "22f5c821af8e0907655ca5fb88a86cc74c2a7ea210a5948302ed109ba043326b"
   }
  }
 },
 "nbformat": 4,
 "nbformat_minor": 2
}
