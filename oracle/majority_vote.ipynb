{
 "cells": [
  {
   "cell_type": "code",
   "execution_count": null,
   "metadata": {},
   "outputs": [],
   "source": [
    "import numpy as np\n",
    "import pandas as pd\n",
    "\n",
    "from sklearn.metrics import f1_score, precision_score, recall_score\n",
    "\n",
    "from sys import path\n",
    "\n",
    "path.append(\"../analysis/utils/\")\n",
    "\n",
    "from utils import get_datasets\n",
    "from local_utils import build_clf_beans"
   ]
  },
  {
   "cell_type": "code",
   "execution_count": null,
   "metadata": {},
   "outputs": [],
   "source": [
    "DATASETS = [\"webkb\"]\n",
    "CLFS = [\"kpr\", \"ktr\", \"lpr\", \"ltr\", \"sfr\", \"stmk\", \"xfr\", \"xpr\", \"xtr\", \"kfr\", \"ktmk\", \"lfr\", \"ltmk\", \"spr\", \"str\", \"xlnet_softmax\", \"xtmk\", \"rep_bert\"]"
   ]
  },
  {
   "cell_type": "code",
   "execution_count": null,
   "metadata": {},
   "outputs": [],
   "source": [
    "pd_path = \"/home/welton/data/pd_datasets/__dset__.csv\"\n",
    "pd_datasets = get_datasets(DATASETS, path=pd_path, sep=';')"
   ]
  },
  {
   "cell_type": "code",
   "execution_count": null,
   "metadata": {},
   "outputs": [],
   "source": [
    "def load_stacking_probs(dataset: str, CLFS: list, train_test: str = \"train\"):\n",
    "\n",
    "    probs = {}\n",
    "    for clf in CLFS:\n",
    "        probs[clf] = {}\n",
    "        for fold in np.arange(10):\n",
    "            probs[clf][fold] = {}\n",
    "            prob_dir = f\"/home/welton/data/clfs_output/split_10/{dataset}/10_folds/{clf}/{fold}/\"\n",
    "            if train_test == \"train\":\n",
    "                file_path = f\"{prob_dir}/train.npz\"\n",
    "                probs[clf][fold][\"train\"] = np.load(file_path)[f\"X_tain\"]\n",
    "            elif train_test == \"test\":\n",
    "                file_path = f\"{prob_dir}/test.npz\"\n",
    "                probs[clf][fold][\"test\"] = np.load(file_path)[f\"X_test\"]\n",
    "            else:\n",
    "                file_path = f\"{prob_dir}/train.npz\"\n",
    "                probs[clf][fold][\"train\"] = np.load(file_path)[f\"X_train\"]\n",
    "                file_path = f\"{prob_dir}/test.npz\"\n",
    "                probs[clf][fold][\"test\"] = np.load(file_path)[f\"X_test\"]\n",
    "    return probs"
   ]
  },
  {
   "cell_type": "code",
   "execution_count": null,
   "metadata": {},
   "outputs": [],
   "source": [
    "probs = load_stacking_probs(\"webkb\", CLFS, \"train_test\")"
   ]
  },
  {
   "cell_type": "code",
   "execution_count": 49,
   "metadata": {},
   "outputs": [],
   "source": [
    "for fold in np.arange(10):\n",
    "    for clf in [\"lfr\"]:\n",
    "        df = pd_datasets[\"webkb\"]\n",
    "        test = df[df.fold_id == fold]\n",
    "        train = df[df.fold_id != fold]\n",
    "        conf_freq, hit_counts = build_clf_beans(probs[clf][fold][\"train\"], train.label.values)\n",
    "        hits_by_conf = { key: hit_counts[key] / conf_freq[key] if key in hit_counts else 0 for key in conf_freq }"
   ]
  },
  {
   "cell_type": "code",
   "execution_count": 50,
   "metadata": {},
   "outputs": [
    {
     "data": {
      "text/plain": [
       "{0.5: 0.2878787878787879,\n",
       " 0.9: 0.2930417495029821,\n",
       " 0.4: 0.2254335260115607,\n",
       " 0.8: 0.28783783783783784,\n",
       " 0.7: 0.2617702448210923,\n",
       " 0.6: 0.2808988764044944,\n",
       " 0.3: 0.22807017543859648,\n",
       " 0.2: 0.1}"
      ]
     },
     "execution_count": 50,
     "metadata": {},
     "output_type": "execute_result"
    }
   ],
   "source": [
    "hits_by_conf"
   ]
  },
  {
   "cell_type": "code",
   "execution_count": 32,
   "metadata": {},
   "outputs": [
    {
     "data": {
      "text/plain": [
       "{0.9: 668, 0.8: 17, 0.7: 14, 0.6: 10, 0.5: 5}"
      ]
     },
     "execution_count": 32,
     "metadata": {},
     "output_type": "execute_result"
    }
   ],
   "source": [
    "hit_counts"
   ]
  },
  {
   "cell_type": "code",
   "execution_count": 33,
   "metadata": {},
   "outputs": [
    {
     "data": {
      "text/plain": [
       "{0.9: 737, 0.8: 25, 0.7: 25, 0.6: 17, 0.5: 10, 0.4: 3}"
      ]
     },
     "execution_count": 33,
     "metadata": {},
     "output_type": "execute_result"
    }
   ],
   "source": [
    "conf_freq"
   ]
  },
  {
   "cell_type": "code",
   "execution_count": null,
   "metadata": {},
   "outputs": [],
   "source": []
  }
 ],
 "metadata": {
  "kernelspec": {
   "display_name": "Python 3.8.10 ('.env': venv)",
   "language": "python",
   "name": "python3"
  },
  "language_info": {
   "codemirror_mode": {
    "name": "ipython",
    "version": 3
   },
   "file_extension": ".py",
   "mimetype": "text/x-python",
   "name": "python",
   "nbconvert_exporter": "python",
   "pygments_lexer": "ipython3",
   "version": "3.8.10"
  },
  "orig_nbformat": 4,
  "vscode": {
   "interpreter": {
    "hash": "f3135864b85fc339145ed731976b9bcbd775d49eba38ad5ba8da470ad91643c0"
   }
  }
 },
 "nbformat": 4,
 "nbformat_minor": 2
}
