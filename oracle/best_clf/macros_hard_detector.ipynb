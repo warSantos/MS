{
 "cells": [
  {
   "cell_type": "code",
   "execution_count": 1,
   "metadata": {},
   "outputs": [],
   "source": [
    "import numpy as np\n",
    "from sklearn.linear_model import LogisticRegression\n",
    "from sklearn.ensemble import RandomForestClassifier\n",
    "from sklearn.metrics import f1_score, precision_score, recall_score\n",
    "\n",
    "from utils import load_full_labels, load_full_probas, load_meta_features"
   ]
  },
  {
   "cell_type": "code",
   "execution_count": 2,
   "metadata": {},
   "outputs": [],
   "source": [
    "DATASETS = [[\"acm\", 10], [\"20ng\", 10], [\"webkb\", 10]]\n",
    "\n",
    "CLFS_SET = [\n",
    "    [\"bert\", \"temperature_scaling\"],\n",
    "    [\"xlnet\", \"temperature_scaling\"],\n",
    "    [\"ktmk\", \"isotonic\"],\n",
    "    [\"ktr\", \"isotonic\"],\n",
    "    [\"lstmk\", \"isotonic\"],\n",
    "    [\"lstr\", \"isotonic\"],\n",
    "    [\"ltr\", \"isotonic\"]\n",
    "]\n",
    "CLFS_SET.sort(key=lambda x: x[0])\n",
    "\n",
    "FEATURES_SET = [\n",
    "    \"probas-based\"\n",
    "]\n",
    "\n",
    "USE_FS = [\n",
    "    \"probas-based\"\n",
    "]\n",
    "\n",
    "FEATURES_SET.sort()\n",
    "STACKING_DIR = \"/home/welton/data/stacking/stacking_output\"\n",
    "meta_layer = \"multi_output\"\n",
    "\n",
    "idx_to_clf = {idx: clf for idx, (clf, _) in enumerate(CLFS_SET)}\n",
    "\n",
    "clf_sufix = '/'.join([ f\"{c[0]}_{c[1]}\" for c in CLFS_SET ])\n",
    "mf_sufix = '_'.join(FEATURES_SET)\n"
   ]
  },
  {
   "cell_type": "code",
   "execution_count": 3,
   "metadata": {},
   "outputs": [],
   "source": [
    "DATA_SOURCE = \"/home/welton/data\"\n",
    "STACKING_DIR = f\"{DATA_SOURCE}/stacking/stacking_output\"\n",
    "ORACLE_DIR = f\"{DATA_SOURCE}/oracle/hard_docs\""
   ]
  },
  {
   "cell_type": "code",
   "execution_count": 4,
   "metadata": {},
   "outputs": [],
   "source": [
    "pkl = np.load(\"/home/welton/data/oracle/hard_docs/webkb/bert_temperature_scaling/ktmk_isotonic/ktr_isotonic/lstmk_isotonic/lstr_isotonic/ltr_isotonic/xlnet_temperature_scaling/probas-based/fold_9/output.pkl\", allow_pickle=True)"
   ]
  },
  {
   "cell_type": "code",
   "execution_count": 5,
   "metadata": {},
   "outputs": [
    {
     "data": {
      "text/plain": [
       "['avg_macro',\n",
       " 'full_macro',\n",
       " 'train_labels',\n",
       " 'test_labels',\n",
       " 'train_counts',\n",
       " 'test_counts',\n",
       " 'y_pred',\n",
       " 'importances']"
      ]
     },
     "execution_count": 5,
     "metadata": {},
     "output_type": "execute_result"
    }
   ],
   "source": [
    "list(pkl.keys())"
   ]
  },
  {
   "cell_type": "code",
   "execution_count": 6,
   "metadata": {},
   "outputs": [],
   "source": [
    "outputs = {}\n",
    "for dataset, n_folds in DATASETS:\n",
    "    outputs[dataset] = {}\n",
    "    for fold in np.arange(n_folds):\n",
    "        outputs[dataset][fold] = pkl = np.load(f\"{ORACLE_DIR}/{dataset}/{clf_sufix}/{mf_sufix}/fold_{fold}/output.pkl\", allow_pickle=True)"
   ]
  },
  {
   "cell_type": "code",
   "execution_count": 7,
   "metadata": {},
   "outputs": [
    {
     "name": "stdout",
     "output_type": "stream",
     "text": [
      "0.7685942031749224 [0.88629118 0.65089723]\n",
      "0.7448089946628512 [0.87373468 0.61588331]\n",
      "0.7402228323464504 [0.86797526 0.6124704 ]\n",
      "0.7567378433500924 [0.88632792 0.62714777]\n",
      "0.7543754894027126 [0.87985114 0.62889984]\n",
      "0.7399203674823972 [0.86724231 0.61259843]\n",
      "0.7526745824673511 [0.87931951 0.62602965]\n",
      "0.7381375545737816 [0.87817658 0.59809853]\n",
      "0.765465081010926 [0.88641189 0.64451827]\n",
      "0.7562194344708599 [0.87374423 0.63869464]\n",
      "ACM \n",
      "\n",
      "\n",
      "0.8106351725868431 [0.95776324 0.66350711]\n",
      "0.822924157976747 [0.95449029 0.69135802]\n",
      "0.7953312510274536 [0.94996986 0.64069264]\n",
      "0.8376072370216705 [0.96189619 0.71331828]\n",
      "0.8163697685830679 [0.95462795 0.67811159]\n",
      "0.8458526698508406 [0.96529025 0.72641509]\n",
      "0.8184158874382497 [0.95793269 0.67889908]\n",
      "0.8185138897257429 [0.95472501 0.68230277]\n",
      "0.7981222656939281 [0.95194923 0.6442953 ]\n",
      "0.8301679782082325 [0.9594431  0.70089286]\n",
      "20NG \n",
      "\n",
      "\n",
      "0.8037627585358162 [0.93156733 0.67595819]\n",
      "0.79964066288902 [0.92809489 0.67118644]\n",
      "0.8189752775362265 [0.93363162 0.70431894]\n",
      "0.7794299967711484 [0.91859597 0.64026403]\n",
      "0.724089259309047 [0.9132948  0.53488372]\n",
      "0.7553225806451613 [0.88064516 0.63      ]\n",
      "0.8266761945333863 [0.94391843 0.70943396]\n",
      "0.8045931055639793 [0.92905153 0.68013468]\n",
      "0.7376453488372092 [0.91715116 0.55813953]\n",
      "0.8012700970096749 [0.9311621  0.67137809]\n",
      "WEBKB \n",
      "\n",
      "\n"
     ]
    }
   ],
   "source": [
    "metrics = {}\n",
    "for dataset, n_folds in DATASETS:\n",
    "    metrics[dataset] = {}\n",
    "    for fold in np.arange(n_folds):\n",
    "        \n",
    "        y_test = outputs[dataset][fold][\"test_labels\"]\n",
    "        y_pred = outputs[dataset][fold][\"y_pred\"]\n",
    "        macro = f1_score(y_test, y_pred, average=\"macro\")\n",
    "        full_macro = f1_score(y_test, y_pred, average=None)\n",
    "        \n",
    "        print(macro, full_macro)\n",
    "    print(dataset.upper(),\"\\n\\n\")"
   ]
  },
  {
   "cell_type": "code",
   "execution_count": 8,
   "metadata": {},
   "outputs": [
    {
     "name": "stdout",
     "output_type": "stream",
     "text": [
      "[0.93262061 0.82932632]\n",
      "[0.97729344 0.93723254]\n",
      "[0.93923264 0.90720774]\n"
     ]
    }
   ],
   "source": [
    "for dataset in outputs:\n",
    "    scores = []\n",
    "    for fold in outputs[dataset]:\n",
    "        y_pred = outputs[dataset][fold][\"y_pred\"]\n",
    "        y_test = outputs[dataset][fold][\"test_labels\"]\n",
    "        scores.append([\n",
    "            precision_score(y_test, y_pred, pos_label=0),\n",
    "            recall_score(y_test, y_pred, pos_label=0)]\n",
    "        )\n",
    "    print(np.mean(scores, axis=0))"
   ]
  },
  {
   "attachments": {},
   "cell_type": "markdown",
   "metadata": {},
   "source": [
    "# Number of docs at each class"
   ]
  },
  {
   "cell_type": "code",
   "execution_count": 9,
   "metadata": {},
   "outputs": [
    {
     "name": "stdout",
     "output_type": "stream",
     "text": [
      "ACM N Docs: 24897, N Soft: 19877-79.83692814395309, N Hards: 5020-20.163071856046912\n",
      "20NG N Docs: 18846, N Soft: 16942-89.89706038416641, N Hards: 1904-10.102939615833598\n",
      "WEBKB N Docs: 8199, N Soft: 6841-83.43700451274546, N Hards: 1358-16.562995487254543\n"
     ]
    }
   ],
   "source": [
    "\n",
    "for dataset in outputs:\n",
    "    total_docs = 0\n",
    "    total_soft = 0\n",
    "    total_hard = 0\n",
    "    for fold in outputs[dataset]:\n",
    "        y_test = outputs[dataset][fold][\"test_labels\"]\n",
    "        total = len(y_test)\n",
    "        n_hard = np.sum(y_test)\n",
    "        n_soft = total - n_hard\n",
    "\n",
    "        total_docs += total\n",
    "        total_soft += n_soft\n",
    "        total_hard += n_hard\n",
    "\n",
    "    print(dataset.upper(), f\"N Docs: {total_docs}, N Soft: {total_soft}-{100 * (total_soft / total_docs)}, N Hards: {total_hard}-{100 * (total_hard / total_docs)}\")"
   ]
  },
  {
   "attachments": {},
   "cell_type": "markdown",
   "metadata": {},
   "source": [
    "# Feature Importance"
   ]
  },
  {
   "cell_type": "code",
   "execution_count": 10,
   "metadata": {},
   "outputs": [],
   "source": [
    "imps_datasets = {}\n",
    "for dataset in outputs:\n",
    "    imps = []\n",
    "    for fold in outputs[dataset]:\n",
    "        imps.append(outputs[dataset][fold][\"importances\"])\n",
    "    imps_datasets[dataset] = np.mean(imps, axis=0)\n"
   ]
  },
  {
   "cell_type": "code",
   "execution_count": 11,
   "metadata": {},
   "outputs": [],
   "source": [
    "features_labels = [\n",
    "            \"Peso da Classe\",\n",
    "            \"Acertos na Classe\",\n",
    "            \"Confiança\",\n",
    "            \"Divergência\",\n",
    "            \"Tam. Unanimidade\",\n",
    "            \"N Classes Preditas\",\n",
    "            \"Entropia das Predições\"]\n",
    "\n",
    "features_labels = [\n",
    "            \"PC\",\n",
    "            \"AC\",\n",
    "            \"Conf\",\n",
    "            \"Div\",\n",
    "            \"TU\",\n",
    "            \"NCP\",\n",
    "            \"EP\"]"
   ]
  },
  {
   "cell_type": "code",
   "execution_count": 12,
   "metadata": {},
   "outputs": [],
   "source": [
    "clfs_labels = [\n",
    "    \"BERT\",\n",
    "    \"KNN MFC\",\n",
    "    \"KNN TF\",\n",
    "    \"SVM MFC\",\n",
    "    \"SVM TF\",\n",
    "    \"LR TF\",\n",
    "    \"XLNet\"\n",
    "]"
   ]
  },
  {
   "cell_type": "code",
   "execution_count": 13,
   "metadata": {},
   "outputs": [],
   "source": [
    "from itertools import product\n",
    "import matplotlib.pyplot as plt"
   ]
  },
  {
   "cell_type": "code",
   "execution_count": 17,
   "metadata": {},
   "outputs": [
    {
     "data": {
      "text/plain": [
       "array(['BERT-PC', 'BERT-AC', 'BERT-Conf', 'BERT-Div', 'BERT-TU',\n",
       "       'BERT-NCP', 'BERT-EP', 'KNN MFC-PC', 'KNN MFC-AC', 'KNN MFC-Conf',\n",
       "       'KNN MFC-Div', 'KNN MFC-TU', 'KNN MFC-NCP', 'KNN MFC-EP',\n",
       "       'KNN TF-PC', 'KNN TF-AC', 'KNN TF-Conf', 'KNN TF-Div', 'KNN TF-TU',\n",
       "       'KNN TF-NCP', 'KNN TF-EP', 'SVM MFC-PC', 'SVM MFC-AC',\n",
       "       'SVM MFC-Conf', 'SVM MFC-Div', 'SVM MFC-TU', 'SVM MFC-NCP',\n",
       "       'SVM MFC-EP', 'SVM TF-PC', 'SVM TF-AC', 'SVM TF-Conf',\n",
       "       'SVM TF-Div', 'SVM TF-TU', 'SVM TF-NCP', 'SVM TF-EP', 'LR TF-PC',\n",
       "       'LR TF-AC', 'LR TF-Conf', 'LR TF-Div', 'LR TF-TU', 'LR TF-NCP',\n",
       "       'LR TF-EP', 'XLNet-PC', 'XLNet-AC', 'XLNet-Conf', 'XLNet-Div',\n",
       "       'XLNet-TU', 'XLNet-NCP', 'XLNet-EP'], dtype='<U12')"
      ]
     },
     "execution_count": 17,
     "metadata": {},
     "output_type": "execute_result"
    }
   ],
   "source": [
    "xl = np.array([ f\"{c}-{f}\" for c, f in product(clfs_labels, features_labels) ])\n",
    "xl"
   ]
  },
  {
   "cell_type": "code",
   "execution_count": 19,
   "metadata": {},
   "outputs": [
    {
     "data": {
      "image/png": "[encoded data removed]",
      "text/plain": [
       "<Figure size 1200x400 with 2 Axes>"
      ]
     },
     "metadata": {},
     "output_type": "display_data"
    }
   ],
   "source": [
    "\n",
    "n_feats = 20\n",
    "fig = plt.figure(figsize=(12,4))\n",
    "for plot_idx, dataset in enumerate([\"acm\", \"20ng\"]):\n",
    "    sort = (1 - imps_datasets[dataset]).argsort()\n",
    "    rf = imps_datasets[dataset][sort][:n_feats]\n",
    "    rl = xl[sort][:n_feats]\n",
    "    x = np.arange(n_feats)\n",
    "    plt.subplot(1, 2, plot_idx + 1)\n",
    "    plt.bar(x, rf)\n",
    "    plt.xticks(ticks=x, labels=rl, fontsize=12, rotation=90)\n",
    "    plt.yticks(fontsize=12)\n",
    "    plt.xlabel(\"Meta-features\", fontsize=12)\n",
    "    plt.ylabel(\"Importância\", fontsize=12)\n",
    "    plt.title(dataset.upper(), fontsize=12)\n",
    "plt.tight_layout()\n",
    "plt.savefig(\"data/ranking-mf.pdf\")"
   ]
  },
  {
   "cell_type": "code",
   "execution_count": 16,
   "metadata": {},
   "outputs": [
    {
     "ename": "NameError",
     "evalue": "name 'xtick_labels' is not defined",
     "output_type": "error",
     "traceback": [
      "\u001b[0;31m---------------------------------------------------------------------------\u001b[0m",
      "\u001b[0;31mNameError\u001b[0m                                 Traceback (most recent call last)",
      "\u001b[1;32m/home/welton/project/oracle/best_clf/macros_hard_detector.ipynb Cell 18\u001b[0m in \u001b[0;36m1\n\u001b[0;32m----> <a href='vscode-notebook-cell://ssh-remote%2Bfiji/home/welton/project/oracle/best_clf/macros_hard_detector.ipynb#X23sdnNjb2RlLXJlbW90ZQ%3D%3D?line=0'>1</a>\u001b[0m xtick_labels[sort]\n",
      "\u001b[0;31mNameError\u001b[0m: name 'xtick_labels' is not defined"
     ]
    }
   ],
   "source": [
    "xtick_labels[sort]"
   ]
  },
  {
   "cell_type": "code",
   "execution_count": null,
   "metadata": {},
   "outputs": [],
   "source": []
  }
 ],
 "metadata": {
  "kernelspec": {
   "display_name": ".env",
   "language": "python",
   "name": "python3"
  },
  "language_info": {
   "codemirror_mode": {
    "name": "ipython",
    "version": 3
   },
   "file_extension": ".py",
   "mimetype": "text/x-python",
   "name": "python",
   "nbconvert_exporter": "python",
   "pygments_lexer": "ipython3",
   "version": "3.8.10"
  },
  "orig_nbformat": 4
 },
 "nbformat": 4,
 "nbformat_minor": 2
}
