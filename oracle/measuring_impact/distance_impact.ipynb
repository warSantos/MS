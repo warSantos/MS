{
 "cells": [
  {
   "cell_type": "code",
   "execution_count": 1,
   "metadata": {},
   "outputs": [],
   "source": [
    "import jsonlines\n",
    "import numpy as np\n",
    "import pandas as pd\n",
    "from typing import Tuple\n",
    "from joblib import load\n",
    "from sklearn.model_selection import train_test_split\n",
    "from sklearn.metrics import f1_score, accuracy_score\n",
    "from sklearn.metrics.pairwise import euclidean_distances\n",
    "import matplotlib.pyplot as plt\n",
    "from sklearn.preprocessing import normalize"
   ]
  },
  {
   "cell_type": "code",
   "execution_count": 2,
   "metadata": {},
   "outputs": [],
   "source": [
    "DATA_DIR = \"/home/welton/data\"\n",
    "PROBS_DIR = f\"{DATA_DIR}/normal_probas/split_10\"\n",
    "LABELS_DIR = f\"{DATA_DIR}/datasets/labels/split_10\"\n",
    "LABELS_DIR_VAL = f\"{DATA_DIR}/datasets/labels/split_10_with_val/\"\n",
    "UPPER_DIR = f\"{DATA_DIR}/oracle/upper_bound/normal_probas\"\n",
    "STACKING_DIR = f\"{DATA_DIR}/stacking/stacking_output\"\n",
    "CLFS = [\"bert\", \"xlnet\", \"ktmk\", \"ktr\", \"lstmk\", \"lstr\", \"ltr\"]\n",
    "N_FOLDS = 10"
   ]
  },
  {
   "cell_type": "code",
   "execution_count": 3,
   "metadata": {},
   "outputs": [
    {
     "data": {
      "text/plain": [
       "'bert_normal_probas/ktmk_normal_probas/ktr_normal_probas/lstmk_normal_probas/lstr_normal_probas/ltr_normal_probas/xlnet_normal_probas'"
      ]
     },
     "execution_count": 3,
     "metadata": {},
     "output_type": "execute_result"
    }
   ],
   "source": [
    "clfs_stack = '/'.join(sorted([f\"{clf}_normal_probas\" for clf in CLFS ]))\n",
    "clfs_stack"
   ]
  },
  {
   "cell_type": "code",
   "execution_count": 4,
   "metadata": {},
   "outputs": [],
   "source": [
    "def get_cdf(values):\n",
    "\n",
    "    counts = pd.Series(values).value_counts()\n",
    "    keys = list(counts.keys())\n",
    "    keys.sort()\n",
    "    total = values.shape[0]\n",
    "    cdf = []\n",
    "    acc = 0\n",
    "    for key in keys:\n",
    "        acc += counts[key] / total\n",
    "        cdf.append(acc)\n",
    "    return keys, cdf\n",
    "\n",
    "def load_probs(probs_source: str,\n",
    "               dataset: str,\n",
    "               clfs: list,\n",
    "               fold: int):\n",
    "\n",
    "    probas = {}\n",
    "    for clf in clfs:\n",
    "        probas[clf] = {}\n",
    "        probas_dir = f\"{probs_source}/{dataset}/10_folds/{clf}/{fold}/\"\n",
    "        train_load = np.load(f\"{probas_dir}/train.npz\")\n",
    "        test_load = np.load(f\"{probas_dir}/test.npz\")\n",
    "        probas[clf][\"X_train\"] = train_load[\"X_train\"]\n",
    "        probas[clf][\"X_test\"] = test_load[\"X_test\"]\n",
    "    return probas\n",
    "\n",
    "def load_y(labels_dir: int, dataset: str, fold: int):\n",
    "\n",
    "    ldir = f\"{labels_dir}/{dataset}/{fold}\"\n",
    "    return np.load(f\"{ldir}/train.npy\"), np.load(f\"{ldir}/test.npy\")\n",
    "\n",
    "def load_upper(data_source: str, dataset: str, clfs: str, fold: int):\n",
    "\n",
    "    upper = {}\n",
    "    for clf in clfs:\n",
    "        upper[clf] = {}\n",
    "        upper_dir = f\"{data_source}/{dataset}/10_folds/{clf}/{fold}/\"\n",
    "        upper[clf][\"y_train\"] = np.load(f\"{upper_dir}/train.npz\")['y']\n",
    "        upper[clf][\"y_test\"] = np.load(f\"{upper_dir}/test.npz\")['y']\n",
    "    return upper\n",
    "\n",
    "def load_reps(reps_dir: str,\n",
    "               dataset: str,\n",
    "               rep: str,\n",
    "               fold: int) -> Tuple[np.ndarray, np.ndarray]:\n",
    "    if rep == \"bert_reps\":\n",
    "\n",
    "        ids = pd.read_pickle(f\"/home/welton/data/datasets/data/{dataset}/splits/split_10_with_val.pkl\")\n",
    "        lines = jsonlines.open(f\"/home/welton/data/kaggle/{dataset}/{dataset}_bert{fold}.json\")\n",
    "        reps = [ [ l[\"id\"], l[\"bert\"] ] for l in lines ]\n",
    "        df = pd.DataFrame(reps, columns=[\"id\", \"reps\"])\n",
    "\n",
    "        X_train = np.vstack(df.query(f\"id == {ids['train_idxs'][fold]}\").reps.values.tolist())\n",
    "        X_test = np.vstack(df.query(f\"id == {ids['test_idxs'][fold]}\").reps.values.tolist())\n",
    "        return X_train, X_test\n",
    "\n",
    "    probs_dir = f\"{reps_dir}/{dataset}/10_folds/{rep}/{fold}/\"\n",
    "    X_train = np.load(f\"{probs_dir}/train.npz\", allow_pickle=True)[\"X_train\"].tolist().toarray()\n",
    "    X_test = np.load(f\"{probs_dir}/test.npz\", allow_pickle=True)[\"X_test\"].tolist().toarray()\n",
    "\n",
    "    return X_train, X_test\n",
    "\n",
    "\n",
    "def fix_probas(clfs: list,\n",
    "               probas: dict, \n",
    "               upper: dict,\n",
    "               dists: np.ndarray,\n",
    "               interval: int):\n",
    "    \n",
    "    new_probas = []\n",
    "    for clf in clfs:\n",
    "        clf_probas = []\n",
    "        y_pred = probas[clf][\"X_test\"].argmax(axis=1)\n",
    "\n",
    "        dists_class_pred = [ dists[doc_idx][class_pred] for doc_idx, class_pred in enumerate(y_pred) ]\n",
    "\n",
    "        max_dist = np.max(dists_class_pred)\n",
    "        factor = max_dist / 10\n",
    "\n",
    "        intervals = [ [i * factor, (i + 1) * factor ] for i in range(10) ]\n",
    "        #print(intervals[interval])\n",
    "        for doc_idx, doc_proba in enumerate(probas[clf][\"X_test\"]):\n",
    "            \n",
    "            dist_pred = dists_class_pred[doc_idx]\n",
    "\n",
    "            if upper[clf][\"y_test\"][doc_idx] == 0 and dist_pred > intervals[interval][0] and dist_pred < intervals[interval][1]:\n",
    "                clf_probas.append(np.zeros(doc_proba.shape[0]))\n",
    "            else:\n",
    "                clf_probas.append(doc_proba)\n",
    "\n",
    "        new_probas.append(np.vstack(clf_probas))\n",
    "    \n",
    "    return np.hstack(new_probas)\n",
    "\n"
   ]
  },
  {
   "cell_type": "code",
   "execution_count": 79,
   "metadata": {},
   "outputs": [],
   "source": [
    "all_dists = dists.reshape(-1)"
   ]
  },
  {
   "cell_type": "code",
   "execution_count": 80,
   "metadata": {},
   "outputs": [],
   "source": [
    "all_dists = all_dists[all_dists.argsort()]"
   ]
  },
  {
   "cell_type": "code",
   "execution_count": 81,
   "metadata": {},
   "outputs": [],
   "source": [
    "x = np.arange(all_dists.shape[0])"
   ]
  },
  {
   "cell_type": "code",
   "execution_count": 82,
   "metadata": {},
   "outputs": [
    {
     "data": {
      "text/plain": [
       "[<matplotlib.lines.Line2D at 0x7f0d0cc0c940>]"
      ]
     },
     "execution_count": 82,
     "metadata": {},
     "output_type": "execute_result"
    },
    {
     "data": {
      "image/png": "[encoded data removed]",
      "text/plain": [
       "<Figure size 640x480 with 1 Axes>"
      ]
     },
     "metadata": {},
     "output_type": "display_data"
    }
   ],
   "source": [
    "plt.plot(x, all_dists)"
   ]
  },
  {
   "cell_type": "code",
   "execution_count": 84,
   "metadata": {},
   "outputs": [],
   "source": [
    "keys, cdf = get_cdf(all_dists)"
   ]
  },
  {
   "cell_type": "code",
   "execution_count": 116,
   "metadata": {},
   "outputs": [
    {
     "data": {
      "text/plain": [
       "Text(0, 0.5, '(%) Distances')"
      ]
     },
     "execution_count": 116,
     "metadata": {},
     "output_type": "execute_result"
    },
    {
     "data": {
      "image/png": "[encoded data removed]",
      "text/plain": [
       "<Figure size 640x480 with 1 Axes>"
      ]
     },
     "metadata": {},
     "output_type": "display_data"
    }
   ],
   "source": [
    "plt.plot(keys, cdf)\n",
    "plt.xlabel(\"Euclidean Distance\")\n",
    "plt.ylabel(\"(%) Distances\")"
   ]
  },
  {
   "cell_type": "code",
   "execution_count": 5,
   "metadata": {},
   "outputs": [],
   "source": [
    "meta_layer = \"10_folds/logistic_regression/normal_probas\"\n",
    "dataset = \"acm\""
   ]
  },
  {
   "cell_type": "code",
   "execution_count": 6,
   "metadata": {},
   "outputs": [
    {
     "name": "stderr",
     "output_type": "stream",
     "text": [
      "/home/welton/project/.env/lib/python3.8/site-packages/tqdm/auto.py:22: TqdmWarning: IProgress not found. Please update jupyter and ipywidgets. See https://ipywidgets.readthedocs.io/en/stable/user_install.html\n",
      "  from .autonotebook import tqdm as notebook_tqdm\n"
     ]
    }
   ],
   "source": [
    "stats = {}\n",
    "\n",
    "max_fixes = 0\n",
    "for fold in np.arange(10):\n",
    "    \n",
    "    stats[fold] = {}\n",
    "\n",
    "    y_train, y_test = load_y(LABELS_DIR_VAL, dataset, fold)\n",
    "    probas = load_probs(PROBS_DIR, dataset, CLFS, fold)\n",
    "    X_train, X_test = load_reps(\"\", dataset, \"bert_reps\", fold)\n",
    "    upper = load_upper(UPPER_DIR, dataset, CLFS, fold)\n",
    "    model = load(f\"{STACKING_DIR}/{dataset}/{meta_layer}/{clfs_stack}/fold_{fold}/model.joblib\")\n",
    "    centroids = []\n",
    "    for c in set(y_train):\n",
    "        centroids.append(np.mean(X_train[y_train == c], axis=0))\n",
    "    centroids = np.vstack(centroids)\n",
    "    \n",
    "    dists = euclidean_distances(X_test, centroids)\n",
    "    \n",
    "    for interval in np.arange(10):\n",
    "        X_test = fix_probas(CLFS, probas, upper, dists, interval)\n",
    "        y_pred = model.predict(X_test)\n",
    "        stats[fold][interval] = f1_score(y_test, y_pred, average=\"macro\")"
   ]
  },
  {
   "cell_type": "code",
   "execution_count": 7,
   "metadata": {},
   "outputs": [],
   "source": [
    "mean_intervals = { interval: 0 for interval in np.arange(10) }\n",
    "for interval in mean_intervals:\n",
    "    for fold in np.arange(10):\n",
    "        mean_intervals[interval] += stats[fold][interval] / 10"
   ]
  },
  {
   "cell_type": "code",
   "execution_count": 9,
   "metadata": {},
   "outputs": [
    {
     "data": {
      "text/plain": [
       "{0: 0.7390976807930711,\n",
       " 1: 0.7438402947627327,\n",
       " 2: 0.7431347840573369,\n",
       " 3: 0.7436498004781386,\n",
       " 4: 0.7403584134175134,\n",
       " 5: 0.740313757525746,\n",
       " 6: 0.732196766774852,\n",
       " 7: 0.7316019225379503,\n",
       " 8: 0.7340182696928751,\n",
       " 9: 0.741828638627035}"
      ]
     },
     "execution_count": 9,
     "metadata": {},
     "output_type": "execute_result"
    }
   ],
   "source": [
    "mean_intervals"
   ]
  },
  {
   "cell_type": "code",
   "execution_count": null,
   "metadata": {},
   "outputs": [],
   "source": []
  }
 ],
 "metadata": {
  "kernelspec": {
   "display_name": ".env",
   "language": "python",
   "name": "python3"
  },
  "language_info": {
   "codemirror_mode": {
    "name": "ipython",
    "version": 3
   },
   "file_extension": ".py",
   "mimetype": "text/x-python",
   "name": "python",
   "nbconvert_exporter": "python",
   "pygments_lexer": "ipython3",
   "version": "3.8.10"
  },
  "orig_nbformat": 4,
  "vscode": {
   "interpreter": {
    "hash": "f3135864b85fc339145ed731976b9bcbd775d49eba38ad5ba8da470ad91643c0"
   }
  }
 },
 "nbformat": 4,
 "nbformat_minor": 2
}
