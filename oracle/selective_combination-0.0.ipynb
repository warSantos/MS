{
 "cells": [
  {
   "cell_type": "code",
   "execution_count": 74,
   "metadata": {},
   "outputs": [],
   "source": [
    "import numpy as np\n",
    "import pandas as pd\n",
    "from sklearn.model_selection import train_test_split\n",
    "from sklearn.metrics import f1_score, accuracy_score\n",
    "import matplotlib.pyplot as plt"
   ]
  },
  {
   "cell_type": "code",
   "execution_count": null,
   "metadata": {},
   "outputs": [],
   "source": [
    "from optuna.integration import OptunaSearchCV\n",
    "from sklearn.base import BaseEstimator\n",
    "from sklearn.model_selection import StratifiedKFold\n",
    "from sklearn.pipeline import Pipeline\n",
    "from sklearn.preprocessing import StandardScaler\n",
    "import warnings\n",
    "from optuna.distributions import UniformDistribution, CategoricalDistribution, IntUniformDistribution, LogUniformDistribution\n",
    "from sklearn import svm\n",
    "from sklearn.linear_model import LogisticRegression\n",
    "\n",
    "warnings.filterwarnings(\"ignore\")\n",
    "AVAILABLE_CLASSIFIER = [\"linear_svm\", \"logistic_regression\", \"knn\", \"xgboost\"]\n",
    "\n",
    "\n",
    "# Logistic Regression\n",
    "CLF_LOGISTIC = LogisticRegression(random_state=42, solver=\"sag\")\n",
    "HYP_LOGISTIC = {\n",
    "    \"C\": UniformDistribution(low=1e-8, high=20.),\n",
    "    \"penalty\": CategoricalDistribution([\"none\", \"l2\"]),\n",
    "    \"class_weight\": CategoricalDistribution([None, \"balanced\"])\n",
    "}\n",
    "\n",
    "def get_classifier(\n",
    "        classifier_name: str,\n",
    "        *,\n",
    "        n_jobs: int = -1\n",
    "):\n",
    "    if classifier_name == \"logistic_regression\":\n",
    "        classifier, hyperparameters = CLF_LOGISTIC, HYP_LOGISTIC\n",
    "        classifier.set_params(**{\"n_jobs\": n_jobs})\n",
    "    else:\n",
    "        raise ValueError(f\"Classifier {classifier_name} does not exits. Possible values: {AVAILABLE_CLASSIFIER}\")\n",
    "\n",
    "    return classifier, hyperparameters\n",
    "\n",
    "\n",
    "def execute_optimization(\n",
    "        classifier_name: str,\n",
    "        X_train: np.ndarray,\n",
    "        y_train: np.ndarray,\n",
    "        *,\n",
    "        opt_cv: int = 5,\n",
    "        opt_n_iter: int = 30,\n",
    "        opt_scoring: str = \"f1_macro\",\n",
    "        opt_n_jobs: int = 3,\n",
    "        clf_n_jobs: int = 10,\n",
    "        seed: int = 42\n",
    ") -> BaseEstimator:\n",
    "    classifier, hyperparameters = get_classifier(classifier_name, n_jobs=clf_n_jobs)\n",
    "    pipeline = Pipeline([\n",
    "        (\"scaler\", StandardScaler(with_mean=False)),\n",
    "        (\"classifier\", classifier)\n",
    "    ])\n",
    "    hyperparameters = {f\"classifier__{k}\": v for k, v in hyperparameters.items()}\n",
    "\n",
    "    optuna_search = OptunaSearchCV(\n",
    "        pipeline,\n",
    "        hyperparameters,\n",
    "        cv=StratifiedKFold(opt_cv, shuffle=True, random_state=seed),\n",
    "        error_score=\"raise\",\n",
    "        n_trials=opt_n_iter,\n",
    "        random_state=seed,\n",
    "        scoring=opt_scoring,\n",
    "        n_jobs=opt_n_jobs\n",
    "    )\n",
    "    print(\"\\tExecuting model...\", end=\"\")\n",
    "    optuna_search.fit(X_train, y_train)\n",
    "\n",
    "    return optuna_search\n"
   ]
  },
  {
   "cell_type": "code",
   "execution_count": null,
   "metadata": {},
   "outputs": [],
   "source": [
    "DATA_DIR = \"/home/welton/data\"\n",
    "PROBS_DIR = f\"{DATA_DIR}/clfs_output/split_10/webkb/10_folds/\"\n",
    "LABELS_DIR = f\"{DATA_DIR}/datasets/labels/split_10/webkb/\"\n",
    "UPPER_DIR = f\"{DATA_DIR}/oracle/upper_bound/webkb/\"\n",
    "CLFS = [\"rep_bert\", \"xlnet_rep\", \"lfr\", \"xtmk\", \"str\", \"kpr\"]"
   ]
  },
  {
   "cell_type": "code",
   "execution_count": null,
   "metadata": {},
   "outputs": [],
   "source": [
    "def load_probs(base_dir, clfs, fold):\n",
    "\n",
    "    probas = {}\n",
    "    for clf in clfs:\n",
    "        probas[clf] = {}\n",
    "        probas_dir = f\"{base_dir}/{clf}/{fold}/\"\n",
    "        train_load = np.load(f\"{probas_dir}/train.npz\")\n",
    "        test_load = np.load(f\"{probas_dir}/test.npz\")\n",
    "\n",
    "        probas[clf][\"X_train\"] = train_load[\"X_train\"]\n",
    "        probas[clf][\"X_test\"] = test_load[\"X_test\"]\n",
    "    return probas\n",
    "\n",
    "def load_y(labels_dir, fold):\n",
    "\n",
    "    return np.load(f\"{labels_dir}/{fold}/train.npy\"), np.load(f\"{labels_dir}/{fold}/test.npy\")\n",
    "\n",
    "def load_upper(base_dir, clfs, fold):\n",
    "\n",
    "    upper = {}\n",
    "    for clf in clfs:\n",
    "        upper[clf] = {}\n",
    "        upper_dir = f\"{base_dir}/{clf}/{fold}/\"\n",
    "        upper[clf][\"y_train\"] = np.load(f\"{upper_dir}/train.npz\")['y']\n",
    "        upper[clf][\"y_test\"] = np.load(f\"{upper_dir}/test.npz\")['y']\n",
    "    return upper"
   ]
  },
  {
   "cell_type": "code",
   "execution_count": null,
   "metadata": {},
   "outputs": [],
   "source": [
    "probas = load_probs(PROBS_DIR, CLFS, 0)"
   ]
  },
  {
   "cell_type": "code",
   "execution_count": null,
   "metadata": {},
   "outputs": [],
   "source": [
    "y_train, y_test = load_y(LABELS_DIR, 0)"
   ]
  },
  {
   "cell_type": "code",
   "execution_count": null,
   "metadata": {},
   "outputs": [],
   "source": [
    "upper = load_upper(UPPER_DIR, CLFS, 0)"
   ]
  },
  {
   "cell_type": "code",
   "execution_count": null,
   "metadata": {},
   "outputs": [],
   "source": [
    "idxs = np.arange(probas[\"lfr\"][\"X_train\"].shape[0])\n",
    "train_idxs, val_idxs = train_test_split(idxs, stratify=y_train, test_size=.1)"
   ]
  },
  {
   "cell_type": "code",
   "execution_count": null,
   "metadata": {},
   "outputs": [],
   "source": [
    "X_train = []\n",
    "for clf in probas:\n",
    "    X_train.append(probas[clf][\"X_train\"][train_idxs] * upper[clf][\"y_train\"][train_idxs][:, None])\n",
    "X_train = np.hstack(X_train)"
   ]
  },
  {
   "cell_type": "code",
   "execution_count": null,
   "metadata": {},
   "outputs": [],
   "source": [
    "X_train.shape"
   ]
  },
  {
   "cell_type": "code",
   "execution_count": null,
   "metadata": {},
   "outputs": [],
   "source": [
    "train_labels = y_train[train_idxs]"
   ]
  },
  {
   "cell_type": "code",
   "execution_count": null,
   "metadata": {},
   "outputs": [],
   "source": [
    "optuna_search = execute_optimization(\"logistic_regression\", X_train, train_labels)"
   ]
  },
  {
   "attachments": {},
   "cell_type": "markdown",
   "metadata": {},
   "source": [
    "## Criando a combinação das probabilidades no espaço de validação."
   ]
  },
  {
   "cell_type": "code",
   "execution_count": null,
   "metadata": {},
   "outputs": [],
   "source": [
    "val_labels = y_train[val_idxs]"
   ]
  },
  {
   "cell_type": "code",
   "execution_count": null,
   "metadata": {},
   "outputs": [],
   "source": [
    "CLFS, val_labels.shape"
   ]
  },
  {
   "cell_type": "code",
   "execution_count": null,
   "metadata": {},
   "outputs": [],
   "source": [
    "clfs_idx = {clf:idx for idx, clf in enumerate(CLFS)}\n",
    "clfs_idx"
   ]
  },
  {
   "cell_type": "code",
   "execution_count": null,
   "metadata": {},
   "outputs": [],
   "source": [
    "def get_zero_array(probas):\n",
    "    return np.zeros(probas[\"rep_bert\"][\"X_train\"][0].shape[0])"
   ]
  },
  {
   "cell_type": "code",
   "execution_count": null,
   "metadata": {},
   "outputs": [],
   "source": [
    "N = 2 ** 6\n",
    "N"
   ]
  },
  {
   "cell_type": "code",
   "execution_count": null,
   "metadata": {},
   "outputs": [],
   "source": [
    "truth_table = np.array([[bool(i & (1 << j)) for j in range(6)] for i in range(N)], dtype=bool)\n",
    "truth_table = np.where(truth_table == 1, 1, 0)\n",
    "truth_table[:10]"
   ]
  },
  {
   "cell_type": "code",
   "execution_count": null,
   "metadata": {},
   "outputs": [],
   "source": [
    "expanded_docs = {}\n",
    "# Para cada documento.\n",
    "for doc_idx in np.arange(val_labels.shape[0]):\n",
    "    X_docs = []\n",
    "    for row in truth_table:\n",
    "        doc_probas = []\n",
    "        for idx_clf in np.arange(len(CLFS)):\n",
    "            if row[idx_clf] == 0:\n",
    "                doc_probas.append(get_zero_array(probas))\n",
    "            else:\n",
    "                doc_probas.append(probas[CLFS[idx_clf]][\"X_train\"][val_idxs][doc_idx])\n",
    "        X_docs.append(np.hstack(doc_probas))\n",
    "    expanded_docs[doc_idx] = np.vstack(X_docs)\n",
    "    "
   ]
  },
  {
   "cell_type": "code",
   "execution_count": 84,
   "metadata": {},
   "outputs": [],
   "source": [
    "right_preds = {}\n",
    "docs_scores = []\n",
    "docs_preds = []"
   ]
  },
  {
   "cell_type": "code",
   "execution_count": 85,
   "metadata": {},
   "outputs": [],
   "source": [
    "for doc_idx in np.arange(val_labels.shape[0]):\n",
    "    preds = optuna_search.predict(expanded_docs[doc_idx])\n",
    "    true_class = val_labels[doc_idx]\n",
    "    y = np.full(N, true_class, dtype=int)\n",
    "    docs_scores.append(accuracy_score(y, preds))\n",
    "    docs_preds.append(preds)"
   ]
  },
  {
   "cell_type": "code",
   "execution_count": 86,
   "metadata": {},
   "outputs": [
    {
     "data": {
      "image/png": "[encoded data removed]",
      "text/plain": [
       "<Figure size 640x480 with 1 Axes>"
      ]
     },
     "metadata": {},
     "output_type": "display_data"
    }
   ],
   "source": [
    "def get_cdf(values):\n",
    "    counts = pd.Series(values).value_counts()\n",
    "    keys = sorted(list(counts.keys()))\n",
    "    acc = 0\n",
    "    cdf = []\n",
    "    n_docs = len(values)\n",
    "    for key in keys:\n",
    "        acc += counts[key] / n_docs\n",
    "        cdf.append(acc)\n",
    "    return keys, cdf\n",
    "\n",
    "keys, cdf = get_cdf(docs_scores)\n",
    "plt.plot(np.array(keys) * 100, cdf)\n",
    "plt.xlabel(\"Acurácia (%)\")\n",
    "plt.ylabel(\"(%) Documentos\")\n",
    "plt.grid()"
   ]
  },
  {
   "cell_type": "code",
   "execution_count": 90,
   "metadata": {},
   "outputs": [],
   "source": [
    "encoder_labels = []\n",
    "for doc_idx in np.arange(val_labels.shape[0]):\n",
    "    good_combs = []\n",
    "    for pred_idx in np.arange(N):\n",
    "        # Se a combinação de modelos resultou em um acerto da meta-camada.\n",
    "        if docs_preds[doc_idx][pred_idx] == val_labels[doc_idx]:\n",
    "            # Adicione essa combinação como um label.\n",
    "            good_combs.append(truth_table[pred_idx])\n",
    "    if good_combs:\n",
    "        encoder_labels.append(np.vstack(good_combs))"
   ]
  },
  {
   "cell_type": "code",
   "execution_count": 88,
   "metadata": {},
   "outputs": [
    {
     "ename": "IndexError",
     "evalue": "list index out of range",
     "output_type": "error",
     "traceback": [
      "\u001b[0;31m---------------------------------------------------------------------------\u001b[0m",
      "\u001b[0;31mIndexError\u001b[0m                                Traceback (most recent call last)",
      "Cell \u001b[0;32mIn [88], line 1\u001b[0m\n\u001b[0;32m----> 1\u001b[0m encoder_labels[\u001b[39m0\u001b[39;49m]\n",
      "\u001b[0;31mIndexError\u001b[0m: list index out of range"
     ]
    }
   ],
   "source": [
    "encoder_labels[0]"
   ]
  },
  {
   "cell_type": "code",
   "execution_count": 81,
   "metadata": {},
   "outputs": [],
   "source": [
    "import torch\n",
    "import torch.nn as nn\n",
    "import torch.optim as optim\n",
    "\n",
    "def rounding_activation(x):\n",
    "    return torch.round(torch.clamp(x, 0, 1))\n",
    "\n",
    "def custom_loss(y_true, y_pred):\n",
    "\n",
    "    loss = 0\n",
    "    for idx in range(y_true.shape[0]):\n",
    "        torch.sub(y_pred[idx], y_pred[idx][:, None])\n",
    "\n",
    "# Define the class for the neural network encoder\n",
    "class Encoder(nn.Module):\n",
    "    def __init__(self, input_size, hidden_size, output_size):\n",
    "        super(Encoder, self).__init__()\n",
    "        self.fc1 = nn.Linear(input_size, hidden_size)\n",
    "        self.fc2 = nn.Linear(hidden_size, hidden_size)\n",
    "        self.fc3 = nn.Linear(hidden_size, output_size)\n",
    "        \n",
    "    def forward(self, x):\n",
    "        x = torch.relu(self.fc1(x))\n",
    "        x = torch.relu(self.fc2(x))\n",
    "        x = rounding_activation(self.fc3(x))\n",
    "        return x"
   ]
  },
  {
   "cell_type": "code",
   "execution_count": null,
   "metadata": {},
   "outputs": [],
   "source": [
    "# Check if CUDA is available\n",
    "device = torch.device(\"cuda\" if torch.cuda.is_available() else \"cpu\")\n",
    "\n",
    "# Create an instance of the Encoder class\n",
    "input_size = \n",
    "hidden_size = ... # Specify the hidden size\n",
    "output_size = ... # Specify the output size (N)\n",
    "encoder = Encoder(input_size, hidden_size, output_size).to(device)\n",
    "\n",
    "# Specify the optimizer\n",
    "optimizer = optim.AdamW(encoder.parameters())\n",
    "\n",
    "# Specify the number of epochs\n",
    "num_epochs = 30"
   ]
  },
  {
   "cell_type": "code",
   "execution_count": null,
   "metadata": {},
   "outputs": [],
   "source": [
    "# Train the neural network\n",
    "for epoch in range(num_epochs):\n",
    "    # ...\n",
    "    # Move the data and labels to the GPU\n",
    "    data = data.to(device)\n",
    "    labels = labels.to(device)\n",
    "    \n",
    "    # Compute the loss\n",
    "    output = encoder(data)\n",
    "    loss = ...\n",
    "    \n",
    "    # Zero the gradients\n",
    "    optimizer.zero_grad()\n",
    "    \n",
    "    # Compute the gradients\n",
    "    loss.backward()\n",
    "    \n",
    "    # Update the weights\n",
    "    optimizer.step()\n",
    "    \n",
    "    # Validation step\n",
    "    with torch.no_grad():\n",
    "        # Move the validation data to the GPU\n",
    "        val_data = val_data.to(device)\n",
    "        val_labels = val_labels.to(device)\n",
    "        \n",
    "        # Compute the validation loss\n",
    "        val_output = encoder(val_data)\n",
    "        val_loss = ...\n",
    "    \n",
    "    # ..."
   ]
  },
  {
   "cell_type": "code",
   "execution_count": null,
   "metadata": {},
   "outputs": [],
   "source": [
    "# Prediction step\n",
    "with torch.no_grad():\n",
    "    # Move the test data to the GPU\n",
    "    test_data = test_data.to(device)\n",
    "    \n",
    "    # Compute the predictions\n",
    "    predictions = encoder(test_data)"
   ]
  }
 ],
 "metadata": {
  "kernelspec": {
   "display_name": ".env",
   "language": "python",
   "name": "python3"
  },
  "language_info": {
   "codemirror_mode": {
    "name": "ipython",
    "version": 3
   },
   "file_extension": ".py",
   "mimetype": "text/x-python",
   "name": "python",
   "nbconvert_exporter": "python",
   "pygments_lexer": "ipython3",
   "version": "3.8.10"
  },
  "orig_nbformat": 4,
  "vscode": {
   "interpreter": {
    "hash": "f3135864b85fc339145ed731976b9bcbd775d49eba38ad5ba8da470ad91643c0"
   }
  }
 },
 "nbformat": 4,
 "nbformat_minor": 2
}
