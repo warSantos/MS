{
 "cells": [
  {
   "cell_type": "code",
   "execution_count": 44,
   "metadata": {},
   "outputs": [],
   "source": [
    "import os\n",
    "from collections import Counter\n",
    "\n",
    "import numpy as np\n",
    "from tqdm import tqdm\n",
    "from xgboost import XGBClassifier\n",
    "from scipy.sparse import csr_matrix\n",
    "from sklearn.metrics import precision_score, recall_score, f1_score, accuracy_score\n",
    "from sklearn.ensemble import GradientBoostingClassifier, RandomForestClassifier\n",
    "from sklearn.model_selection import StratifiedKFold\n",
    "from sklearn.preprocessing import MinMaxScaler\n",
    "from sklearn.pipeline import Pipeline\n",
    "from sklearn.base import BaseEstimator\n",
    "from sklearn.preprocessing import StandardScaler\n",
    "from optuna.integration import OptunaSearchCV\n",
    "from optuna.distributions import (IntDistribution,\n",
    "                                    FloatDistribution)\n",
    "from joblib import load, dump\n",
    "\n",
    "from local_utils import load_stacking_probs, build_clf_beans\n",
    "\n",
    "# Configs Optuna\n",
    "import warnings\n",
    "from optuna.exceptions import ExperimentalWarning\n",
    "from optuna.logging import set_verbosity, WARNING\n",
    "\n",
    "set_verbosity(WARNING)\n",
    "warnings.filterwarnings(\"ignore\", category=ExperimentalWarning)"
   ]
  },
  {
   "cell_type": "code",
   "execution_count": 53,
   "metadata": {},
   "outputs": [],
   "source": [
    "DATASETS = [\"webkb\"]\n",
    "CLFS = [\"kpr\", \"ktr\", \"lpr\", \"ltr\", \"sfr\", \"stmk\", \"xfr\", \"xpr\", \"xtr\", \"kfr\", \"ktmk\", \"lfr\", \"ltmk\", \"spr\", \"str\", \"xlnet_softmax\", \"xtmk\", \"rep_bert\"]\n",
    "CLFS = [\"rep_bert\", \"sfr\", \"lpr\", \"ltr\", \"xtmk\"]\n",
    "ORACLE_DIR = \"/home/welton/data/oracle\"\n",
    "ESTIMATOR_NAME = \"xgboost\""
   ]
  },
  {
   "cell_type": "code",
   "execution_count": 54,
   "metadata": {},
   "outputs": [],
   "source": [
    "dataset = DATASETS[0]\n",
    "probas = load_stacking_probs(dataset, CLFS, \"train_test\")"
   ]
  },
  {
   "cell_type": "code",
   "execution_count": 60,
   "metadata": {},
   "outputs": [],
   "source": [
    "def build_means(probas, fold, train_test):\n",
    "\n",
    "    upper_bound = {}\n",
    "    for clf in CLFS:\n",
    "        if train_test == \"train\":\n",
    "            upper_bound[clf] = np.load(f\"/home/welton/data/oracle/upper_test/{dataset}/{clf}/{fold}/{train_test}.npz\")['y']\n",
    "        else:\n",
    "            upper_bound[clf] = np.load(f\"/home/welton/data/oracle/local_gbm_75/{dataset}/{clf}/{fold}/{train_test}.npz\")['y']\n",
    "    \n",
    "    mean_vecs = []\n",
    "    # Para cada documento.\n",
    "    for idx in np.arange(probas['rep_bert'][fold][train_test].shape[0]):\n",
    "        docs_vecs = []\n",
    "        for clf in CLFS:\n",
    "            # Se o classificador acertou a predição.\n",
    "            if upper_bound[clf][idx] == 1:\n",
    "                docs_vecs.append(probas[clf][fold][train_test][idx])\n",
    "        # Se ao menos um classificador acertou.\n",
    "        if docs_vecs:\n",
    "            docs_vecs = np.mean(docs_vecs, axis=0)\n",
    "        else:\n",
    "            docs_vecs = np.zeros(probas['rep_bert'][fold][train_test].shape[1])\n",
    "        mean_vecs.append(docs_vecs)\n",
    "    return np.vstack(mean_vecs), upper_bound\n",
    "\n",
    "def build_rep(probas, upper_bound, mean_vecs, fold, train_test):\n",
    "\n",
    "    meta_features = []\n",
    "    # Para cada documento.\n",
    "    for idx in np.arange(probas['rep_bert'][fold][train_test].shape[0]):\n",
    "        docs_vecs = []\n",
    "        for clf in CLFS:\n",
    "            # Se o classificador acertou a predição use a predição dele.\n",
    "            if upper_bound[clf][idx] == 1:\n",
    "                docs_vecs.append(probas[clf][fold][train_test][idx])\n",
    "            # Se não use a média dos que acertaram.\n",
    "            else:\n",
    "                docs_vecs.append(mean_vecs[idx])\n",
    "        docs_vecs = np.hstack(docs_vecs)\n",
    "        meta_features.append(docs_vecs)\n",
    "    return np.vstack(meta_features)"
   ]
  },
  {
   "cell_type": "code",
   "execution_count": 61,
   "metadata": {},
   "outputs": [],
   "source": [
    "for fold in np.arange(10):\n",
    "    \n",
    "    mean_vecs, upper_bound = build_means(probas, fold, \"train\")\n",
    "    X_train = build_rep(probas, upper_bound, mean_vecs, fold, \"train\")\n",
    "    output_dir = f\"{ORACLE_DIR}/upper_mean/{dataset}/all_clfs/{fold}\"\n",
    "    os.makedirs(output_dir, exist_ok=True)\n",
    "    np.savez(f\"{output_dir}/train\", X_train=X_train)\n",
    "\n",
    "    mean_vecs, upper_bound = build_means(probas, fold, \"test\")\n",
    "    X_test = build_rep(probas, upper_bound, mean_vecs, fold, \"test\")\n",
    "    output_dir = f\"{ORACLE_DIR}/upper_mean/{dataset}/all_clfs/{fold}\"\n",
    "    os.makedirs(output_dir, exist_ok=True)\n",
    "    np.savez(f\"{output_dir}/test\", X_test=X_test)"
   ]
  },
  {
   "cell_type": "code",
   "execution_count": 49,
   "metadata": {},
   "outputs": [
    {
     "data": {
      "text/plain": [
       "array([[8.33333333e-01, 1.66666667e-01, 0.00000000e+00, ...,\n",
       "        4.21319244e-04, 5.94284793e-04, 3.99486191e-04],\n",
       "       [8.46153846e-01, 0.00000000e+00, 0.00000000e+00, ...,\n",
       "        2.18985413e-04, 4.91496059e-04, 2.07096644e-04],\n",
       "       [7.85714286e-01, 7.14285714e-02, 0.00000000e+00, ...,\n",
       "        3.79652047e-04, 5.02866087e-03, 3.04593123e-04],\n",
       "       ...,\n",
       "       [7.69230769e-02, 7.69230769e-02, 0.00000000e+00, ...,\n",
       "        3.65561433e-03, 7.89485499e-03, 9.73121524e-01],\n",
       "       [0.00000000e+00, 4.16666667e-01, 0.00000000e+00, ...,\n",
       "        1.44314524e-02, 5.46286954e-03, 7.20474720e-01],\n",
       "       [0.00000000e+00, 1.53846154e-01, 0.00000000e+00, ...,\n",
       "        2.58800550e-03, 2.26827920e-03, 9.89969313e-01]])"
      ]
     },
     "execution_count": 49,
     "metadata": {},
     "output_type": "execute_result"
    }
   ],
   "source": [
    "meta_features"
   ]
  },
  {
   "cell_type": "code",
   "execution_count": 50,
   "metadata": {},
   "outputs": [
    {
     "data": {
      "text/plain": [
       "(7376, 126)"
      ]
     },
     "execution_count": 50,
     "metadata": {},
     "output_type": "execute_result"
    }
   ],
   "source": [
    "np.load(f\"{ORACLE_DIR}/upper_mean/webkb/all_clfs/0/train.npz\")[\"X_train\"].shape"
   ]
  },
  {
   "cell_type": "code",
   "execution_count": null,
   "metadata": {},
   "outputs": [],
   "source": []
  }
 ],
 "metadata": {
  "kernelspec": {
   "display_name": "Python 3.8.10 ('.env': venv)",
   "language": "python",
   "name": "python3"
  },
  "language_info": {
   "codemirror_mode": {
    "name": "ipython",
    "version": 3
   },
   "file_extension": ".py",
   "mimetype": "text/x-python",
   "name": "python",
   "nbconvert_exporter": "python",
   "pygments_lexer": "ipython3",
   "version": "3.8.10"
  },
  "orig_nbformat": 4,
  "vscode": {
   "interpreter": {
    "hash": "f3135864b85fc339145ed731976b9bcbd775d49eba38ad5ba8da470ad91643c0"
   }
  }
 },
 "nbformat": 4,
 "nbformat_minor": 2
}
