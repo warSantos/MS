{
 "cells": [
  {
   "cell_type": "code",
   "execution_count": 1,
   "metadata": {},
   "outputs": [],
   "source": [
    "import pandas as pd\n",
    "from sklearn.metrics import precision_score, recall_score"
   ]
  },
  {
   "cell_type": "code",
   "execution_count": 27,
   "metadata": {},
   "outputs": [],
   "source": [
    "THRESHOLD = [0.1, 0.3, 0.5]"
   ]
  },
  {
   "cell_type": "code",
   "execution_count": 28,
   "metadata": {},
   "outputs": [],
   "source": [
    "for tr in THRESHOLD:\n",
    "    df = pd.read_excel(f\"data/{tr}.xlsx\")\n",
    "    maps = {\n",
    "        \"Precision\": [\"mean\", \"std\"],\n",
    "        \"Recall\": [\"mean\", \"std\"]\n",
    "    }\n",
    "\n",
    "    df.groupby([\"DATASET\", \"CLF\"], as_index=True).agg(maps).to_excel(f\"data/scores_{tr}.xlsx\")"
   ]
  },
  {
   "cell_type": "code",
   "execution_count": 4,
   "metadata": {},
   "outputs": [],
   "source": [
    "\n",
    "df = pd.read_excel(f\"data/hits_agree.xlsx\")\n",
    "maps = {\n",
    "    \"Precision\": [\"mean\", \"std\"],\n",
    "    \"Recall\": [\"mean\", \"std\"],\n",
    "    \"Macro\": [\"mean\", \"std\"]\n",
    "}\n",
    "\n",
    "df.groupby([\"DATASET\", \"CLF\"], as_index=True).agg(maps).to_excel(f\"data/scores_hits_agree.xlsx\")"
   ]
  },
  {
   "cell_type": "code",
   "execution_count": null,
   "metadata": {},
   "outputs": [],
   "source": []
  }
 ],
 "metadata": {
  "kernelspec": {
   "display_name": "Python 3.8.10 ('.env': venv)",
   "language": "python",
   "name": "python3"
  },
  "language_info": {
   "codemirror_mode": {
    "name": "ipython",
    "version": 3
   },
   "file_extension": ".py",
   "mimetype": "text/x-python",
   "name": "python",
   "nbconvert_exporter": "python",
   "pygments_lexer": "ipython3",
   "version": "3.8.10"
  },
  "orig_nbformat": 4,
  "vscode": {
   "interpreter": {
    "hash": "f3135864b85fc339145ed731976b9bcbd775d49eba38ad5ba8da470ad91643c0"
   }
  }
 },
 "nbformat": 4,
 "nbformat_minor": 2
}
