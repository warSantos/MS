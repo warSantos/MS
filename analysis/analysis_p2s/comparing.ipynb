{
 "cells": [
  {
   "cell_type": "code",
   "execution_count": 1,
   "metadata": {},
   "outputs": [],
   "source": [
    "import numpy as np\n",
    "import pandas as pd"
   ]
  },
  {
   "cell_type": "code",
   "execution_count": 2,
   "metadata": {},
   "outputs": [
    {
     "data": {
      "text/plain": [
       "('bert_temperature_scaling/ktmk_isotonic/ktr_isotonic/lstmk_isotonic/lstr_isotonic/ltr_isotonic/xlnet_temperature_scaling',\n",
       " 'probas-based')"
      ]
     },
     "execution_count": 2,
     "metadata": {},
     "output_type": "execute_result"
    }
   ],
   "source": [
    "DATASETS = [[\"acm\", 10], [\"20ng\", 10], [\"webkb\", 10]]\n",
    "\n",
    "CLFS_SET = [\n",
    "    [\"bert\", \"temperature_scaling\"],\n",
    "    [\"xlnet\", \"temperature_scaling\"],\n",
    "    [\"ktmk\", \"isotonic\"],\n",
    "    [\"ktr\", \"isotonic\"],\n",
    "    [\"lstmk\", \"isotonic\"],\n",
    "    [\"lstr\", \"isotonic\"],\n",
    "    [\"ltr\", \"isotonic\"]\n",
    "]\n",
    "CLFS_SET.sort(key=lambda x: x[0])\n",
    "\n",
    "FEATURES_SET = [\n",
    "    \"probas-based\"\n",
    "]\n",
    "\n",
    "FEATURES_SET.sort()\n",
    "STACKING_DIR = \"/home/welton/data/stacking/stacking_output\"\n",
    "\n",
    "idx_to_clf = {idx: clf for idx, (clf, _) in enumerate(CLFS_SET)}\n",
    "clf_sufix = '/'.join(sorted([ f\"{c[0]}_{c[1]}\" for c in CLFS_SET ]))\n",
    "mf_sufix = '_'.join(sorted(FEATURES_SET))\n",
    "clf_sufix, mf_sufix"
   ]
  },
  {
   "cell_type": "code",
   "execution_count": 3,
   "metadata": {},
   "outputs": [],
   "source": [
    "output = []\n",
    "for dataset, n_folds in DATASETS:\n",
    "    rows = []\n",
    "    for fold in np.arange(n_folds):\n",
    "        base_dir = f\"{STACKING_DIR}/{dataset}/{n_folds}_folds/logistic_regression/hard_docs_upper_bound/{clf_sufix}/{mf_sufix}/fold_{fold}\"\n",
    "        loader = np.load(f\"{base_dir}/output.npz\")\n",
    "\n",
    "        loader[\"test_hard_docs\"]\n",
    "        y = loader[\"y_test\"]\n",
    "        hard_docs = loader[\"test_hard_docs\"]\n",
    "        spec_preds = loader[\"spec_preds\"]\n",
    "        preds = loader[\"normal_preds\"]\n",
    "        hards = hard_docs == 1\n",
    "        softs = hard_docs == 0\n",
    "        rows.append([np.sum(hards),\n",
    "            np.sum(spec_preds[hards] == y[hards]),\n",
    "            np.sum(preds[hards] == y[hards]),\n",
    "            np.sum(softs),\n",
    "            np.sum(spec_preds[softs] == y[softs]),\n",
    "            np.sum(preds[softs] == y[softs])])\n",
    "\n",
    "    output.append([dataset] + np.sum(rows, axis=0).tolist())\n",
    "    "
   ]
  },
  {
   "cell_type": "code",
   "execution_count": 4,
   "metadata": {},
   "outputs": [
    {
     "data": {
      "text/html": [
       "<div>\n",
       "<style scoped>\n",
       "    .dataframe tbody tr th:only-of-type {\n",
       "        vertical-align: middle;\n",
       "    }\n",
       "\n",
       "    .dataframe tbody tr th {\n",
       "        vertical-align: top;\n",
       "    }\n",
       "\n",
       "    .dataframe thead th {\n",
       "        text-align: right;\n",
       "    }\n",
       "</style>\n",
       "<table border=\"1\" class=\"dataframe\">\n",
       "  <thead>\n",
       "    <tr style=\"text-align: right;\">\n",
       "      <th></th>\n",
       "      <th>0</th>\n",
       "      <th>1</th>\n",
       "      <th>2</th>\n",
       "      <th>3</th>\n",
       "      <th>4</th>\n",
       "      <th>5</th>\n",
       "      <th>6</th>\n",
       "    </tr>\n",
       "  </thead>\n",
       "  <tbody>\n",
       "    <tr>\n",
       "      <th>0</th>\n",
       "      <td>acm</td>\n",
       "      <td>5020</td>\n",
       "      <td>1630</td>\n",
       "      <td>1107</td>\n",
       "      <td>19877</td>\n",
       "      <td>7831</td>\n",
       "      <td>19571</td>\n",
       "    </tr>\n",
       "    <tr>\n",
       "      <th>1</th>\n",
       "      <td>20ng</td>\n",
       "      <td>1904</td>\n",
       "      <td>669</td>\n",
       "      <td>629</td>\n",
       "      <td>16942</td>\n",
       "      <td>10251</td>\n",
       "      <td>16777</td>\n",
       "    </tr>\n",
       "    <tr>\n",
       "      <th>2</th>\n",
       "      <td>webkb</td>\n",
       "      <td>1358</td>\n",
       "      <td>781</td>\n",
       "      <td>565</td>\n",
       "      <td>6841</td>\n",
       "      <td>2591</td>\n",
       "      <td>6664</td>\n",
       "    </tr>\n",
       "  </tbody>\n",
       "</table>\n",
       "</div>"
      ],
      "text/plain": [
       "       0     1     2     3      4      5      6\n",
       "0    acm  5020  1630  1107  19877   7831  19571\n",
       "1   20ng  1904   669   629  16942  10251  16777\n",
       "2  webkb  1358   781   565   6841   2591   6664"
      ]
     },
     "execution_count": 4,
     "metadata": {},
     "output_type": "execute_result"
    }
   ],
   "source": [
    "pd.DataFrame(output)"
   ]
  },
  {
   "cell_type": "code",
   "execution_count": 5,
   "metadata": {},
   "outputs": [
    {
     "data": {
      "text/html": [
       "<div>\n",
       "<style scoped>\n",
       "    .dataframe tbody tr th:only-of-type {\n",
       "        vertical-align: middle;\n",
       "    }\n",
       "\n",
       "    .dataframe tbody tr th {\n",
       "        vertical-align: top;\n",
       "    }\n",
       "\n",
       "    .dataframe thead th {\n",
       "        text-align: right;\n",
       "    }\n",
       "</style>\n",
       "<table border=\"1\" class=\"dataframe\">\n",
       "  <thead>\n",
       "    <tr style=\"text-align: right;\">\n",
       "      <th></th>\n",
       "      <th>N Hards</th>\n",
       "      <th>hard_spec</th>\n",
       "      <th>hard_trad</th>\n",
       "      <th>N Softs</th>\n",
       "      <th>soft_spec</th>\n",
       "      <th>soft_trad</th>\n",
       "    </tr>\n",
       "  </thead>\n",
       "  <tbody>\n",
       "    <tr>\n",
       "      <th>0</th>\n",
       "      <td>131</td>\n",
       "      <td>74</td>\n",
       "      <td>62</td>\n",
       "      <td>692</td>\n",
       "      <td>242</td>\n",
       "      <td>666</td>\n",
       "    </tr>\n",
       "    <tr>\n",
       "      <th>1</th>\n",
       "      <td>143</td>\n",
       "      <td>86</td>\n",
       "      <td>67</td>\n",
       "      <td>679</td>\n",
       "      <td>266</td>\n",
       "      <td>661</td>\n",
       "    </tr>\n",
       "    <tr>\n",
       "      <th>2</th>\n",
       "      <td>143</td>\n",
       "      <td>80</td>\n",
       "      <td>52</td>\n",
       "      <td>678</td>\n",
       "      <td>256</td>\n",
       "      <td>667</td>\n",
       "    </tr>\n",
       "    <tr>\n",
       "      <th>3</th>\n",
       "      <td>138</td>\n",
       "      <td>83</td>\n",
       "      <td>59</td>\n",
       "      <td>683</td>\n",
       "      <td>282</td>\n",
       "      <td>656</td>\n",
       "    </tr>\n",
       "    <tr>\n",
       "      <th>4</th>\n",
       "      <td>128</td>\n",
       "      <td>66</td>\n",
       "      <td>43</td>\n",
       "      <td>693</td>\n",
       "      <td>281</td>\n",
       "      <td>679</td>\n",
       "    </tr>\n",
       "    <tr>\n",
       "      <th>5</th>\n",
       "      <td>162</td>\n",
       "      <td>67</td>\n",
       "      <td>58</td>\n",
       "      <td>658</td>\n",
       "      <td>189</td>\n",
       "      <td>638</td>\n",
       "    </tr>\n",
       "    <tr>\n",
       "      <th>6</th>\n",
       "      <td>125</td>\n",
       "      <td>89</td>\n",
       "      <td>62</td>\n",
       "      <td>694</td>\n",
       "      <td>270</td>\n",
       "      <td>685</td>\n",
       "    </tr>\n",
       "    <tr>\n",
       "      <th>7</th>\n",
       "      <td>141</td>\n",
       "      <td>89</td>\n",
       "      <td>59</td>\n",
       "      <td>677</td>\n",
       "      <td>274</td>\n",
       "      <td>656</td>\n",
       "    </tr>\n",
       "    <tr>\n",
       "      <th>8</th>\n",
       "      <td>111</td>\n",
       "      <td>66</td>\n",
       "      <td>51</td>\n",
       "      <td>706</td>\n",
       "      <td>259</td>\n",
       "      <td>693</td>\n",
       "    </tr>\n",
       "    <tr>\n",
       "      <th>9</th>\n",
       "      <td>136</td>\n",
       "      <td>81</td>\n",
       "      <td>52</td>\n",
       "      <td>681</td>\n",
       "      <td>272</td>\n",
       "      <td>663</td>\n",
       "    </tr>\n",
       "  </tbody>\n",
       "</table>\n",
       "</div>"
      ],
      "text/plain": [
       "   N Hards  hard_spec  hard_trad  N Softs  soft_spec  soft_trad\n",
       "0      131         74         62      692        242        666\n",
       "1      143         86         67      679        266        661\n",
       "2      143         80         52      678        256        667\n",
       "3      138         83         59      683        282        656\n",
       "4      128         66         43      693        281        679\n",
       "5      162         67         58      658        189        638\n",
       "6      125         89         62      694        270        685\n",
       "7      141         89         59      677        274        656\n",
       "8      111         66         51      706        259        693\n",
       "9      136         81         52      681        272        663"
      ]
     },
     "execution_count": 5,
     "metadata": {},
     "output_type": "execute_result"
    }
   ],
   "source": [
    "pd.DataFrame(rows, columns=[\"N Hards\", \"hard_spec\", \"hard_trad\", \"N Softs\", \"soft_spec\", \"soft_trad\"])"
   ]
  },
  {
   "cell_type": "code",
   "execution_count": 10,
   "metadata": {},
   "outputs": [
    {
     "data": {
      "text/plain": [
       "array([[0.81399035, 0.06701792],\n",
       "       [0.44520879, 0.72833499],\n",
       "       [0.78782988, 0.08904669],\n",
       "       [0.20091712, 0.28511868],\n",
       "       [0.21630081, 0.32462673]])"
      ]
     },
     "execution_count": 10,
     "metadata": {},
     "output_type": "execute_result"
    }
   ],
   "source": [
    "x = np.random.uniform(0, 1, size=(5,2))\n",
    "x"
   ]
  },
  {
   "cell_type": "code",
   "execution_count": 11,
   "metadata": {},
   "outputs": [
    {
     "data": {
      "text/plain": [
       "array([0.06701792, 0.72833499, 0.08904669, 0.28511868, 0.32462673])"
      ]
     },
     "execution_count": 11,
     "metadata": {},
     "output_type": "execute_result"
    }
   ],
   "source": [
    "x[:, 1]"
   ]
  },
  {
   "cell_type": "code",
   "execution_count": null,
   "metadata": {},
   "outputs": [],
   "source": []
  }
 ],
 "metadata": {
  "kernelspec": {
   "display_name": ".env",
   "language": "python",
   "name": "python3"
  },
  "language_info": {
   "codemirror_mode": {
    "name": "ipython",
    "version": 3
   },
   "file_extension": ".py",
   "mimetype": "text/x-python",
   "name": "python",
   "nbconvert_exporter": "python",
   "pygments_lexer": "ipython3",
   "version": "3.8.10"
  },
  "orig_nbformat": 4
 },
 "nbformat": 4,
 "nbformat_minor": 2
}
