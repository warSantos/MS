{
 "cells": [
  {
   "cell_type": "code",
   "execution_count": 13,
   "metadata": {},
   "outputs": [],
   "source": [
    "import numpy as np\n",
    "import pandas as pd\n",
    "import matplotlib.pyplot as plt\n",
    "\n",
    "from sys import path\n",
    "path.append(\"../utils/\")\n",
    "\n",
    "from utils import get_datasets"
   ]
  },
  {
   "cell_type": "code",
   "execution_count": 4,
   "metadata": {},
   "outputs": [],
   "source": [
    "DATASETS = [\"webkb\"]"
   ]
  },
  {
   "cell_type": "code",
   "execution_count": 6,
   "metadata": {},
   "outputs": [],
   "source": [
    "df = get_datasets(DATASETS, path=\"/home/welton/data/pd_datasets/__dset__.csv\", sep=';')[\"webkb\"]"
   ]
  },
  {
   "cell_type": "code",
   "execution_count": 10,
   "metadata": {},
   "outputs": [],
   "source": [
    "counts = df.label.value_counts()"
   ]
  },
  {
   "cell_type": "code",
   "execution_count": 12,
   "metadata": {},
   "outputs": [],
   "source": [
    "keys, values = counts.keys(), counts.values"
   ]
  },
  {
   "cell_type": "code",
   "execution_count": 26,
   "metadata": {},
   "outputs": [
    {
     "data": {
      "text/plain": [
       "Text(0.5, 1.0, 'WEBKB')"
      ]
     },
     "execution_count": 26,
     "metadata": {},
     "output_type": "execute_result"
    },
    {
     "data": {
      "image/png": "[encoded data removed]",
      "text/plain": [
       "<Figure size 640x480 with 1 Axes>"
      ]
     },
     "metadata": {},
     "output_type": "display_data"
    }
   ],
   "source": [
    "x = np.arange(values.shape[0])\n",
    "plt.bar(x, values[keys.argsort()])\n",
    "_ = plt.xticks(ticks=x, labels=x)\n",
    "plt.ylabel(\"Number of Docs\")\n",
    "plt.xlabel(\"Classes\")\n",
    "plt.title(\"WEBKB\")"
   ]
  },
  {
   "cell_type": "code",
   "execution_count": 20,
   "metadata": {},
   "outputs": [
    {
     "data": {
      "text/plain": [
       "array([1630, 3705,  926,  137,  501, 1118,  182])"
      ]
     },
     "execution_count": 20,
     "metadata": {},
     "output_type": "execute_result"
    }
   ],
   "source": [
    "values[keys.argsort()]"
   ]
  },
  {
   "cell_type": "code",
   "execution_count": 23,
   "metadata": {},
   "outputs": [
    {
     "data": {
      "text/plain": [
       "Int64Index([1, 0, 5, 2, 4, 6, 3], dtype='int64')"
      ]
     },
     "execution_count": 23,
     "metadata": {},
     "output_type": "execute_result"
    }
   ],
   "source": [
    "keys"
   ]
  },
  {
   "cell_type": "code",
   "execution_count": 29,
   "metadata": {},
   "outputs": [],
   "source": [
    "labels = df.label"
   ]
  },
  {
   "cell_type": "code",
   "execution_count": 35,
   "metadata": {},
   "outputs": [
    {
     "data": {
      "text/plain": [
       "Index(['spr', 'kpr', 'xtr', 'xfr', 'stmk', 'ltmk', 'lpr', 'str', 'ltr', 'lfr',\n",
       "       'kfr', 'ktmk', 'rep_bert', 'ktr', 'sfr', 'xtmk', 'xlnet_softmax',\n",
       "       'xpr'],\n",
       "      dtype='object')"
      ]
     },
     "execution_count": 35,
     "metadata": {},
     "output_type": "execute_result"
    }
   ],
   "source": [
    "clfs_preds = df.drop(columns=['label', 'fold_id', 'docs', 'conc_size', 'hit_counts', 'conc_pred', 'xlnet', 'bert'])\n",
    "clfs_preds.columns"
   ]
  },
  {
   "cell_type": "code",
   "execution_count": 111,
   "metadata": {},
   "outputs": [],
   "source": [
    "def micro(labels, preds, target_class=1):\n",
    "\n",
    "    preds = preds\n",
    "    # Computing recall.\n",
    "    class_docs = labels == target_class\n",
    "    y_hat = preds[class_docs]\n",
    "    retrived = np.sum(y_hat == target_class)\n",
    "    divisor = np.sum(class_docs)\n",
    "    rec = retrived / divisor if retrived > 0 and divisor > 0 else 0\n",
    "    # Computing precision.\n",
    "    y_hat = preds == target_class\n",
    "    equal = labels[y_hat]\n",
    "    hits = np.sum(equal == target_class)\n",
    "    divisor = np.sum(y_hat)\n",
    "    prec = hits / divisor if hits > 0 and divisor > 0 else 0\n",
    "    m = 2 * rec * prec / (prec + rec) if prec + rec > 0 else 0\n",
    "    return prec, rec, m\n"
   ]
  },
  {
   "cell_type": "code",
   "execution_count": 115,
   "metadata": {},
   "outputs": [],
   "source": [
    "means = []\n",
    "for target_class in np.arange(len(np.unique(labels))):\n",
    "    clfs = {}\n",
    "    dict_class = {}\n",
    "    for fold in np.arange(10):\n",
    "        fold = df.fold_id == fold\n",
    "        sub_preds = clfs_preds[fold]\n",
    "        sub_labels = labels[fold]\n",
    "        for col in clfs_preds.columns:\n",
    "            prec, rec, m = micro(sub_labels, sub_preds[col].values, target_class=target_class)\n",
    "            if col not in clfs:\n",
    "                clfs[col] = [[prec, rec, m]]\n",
    "            clfs[col].append([prec, rec, m])\n",
    "\n",
    "    for key in clfs:\n",
    "        clfs[key] = np.mean(clfs[key], axis=0)\n",
    "\n",
    "    scores = pd.DataFrame(np.vstack(list(clfs.values()))*100, columns=[\"Prec\", \"Rec\", \"Micro\"])\n",
    "    #scores[\"CLFs\"] = list(clfs.keys())\n",
    "    #np.mean(scores.drop(columns=[\"CLFs\"]).values, axis=0)\n",
    "    means.append(np.mean(scores.values, axis=0))"
   ]
  },
  {
   "cell_type": "code",
   "execution_count": 123,
   "metadata": {},
   "outputs": [
    {
     "data": {
      "text/html": [
       "<div>\n",
       "<style scoped>\n",
       "    .dataframe tbody tr th:only-of-type {\n",
       "        vertical-align: middle;\n",
       "    }\n",
       "\n",
       "    .dataframe tbody tr th {\n",
       "        vertical-align: top;\n",
       "    }\n",
       "\n",
       "    .dataframe thead th {\n",
       "        text-align: right;\n",
       "    }\n",
       "</style>\n",
       "<table border=\"1\" class=\"dataframe\">\n",
       "  <thead>\n",
       "    <tr style=\"text-align: right;\">\n",
       "      <th></th>\n",
       "      <th>Prec</th>\n",
       "      <th>Rec</th>\n",
       "      <th>Micro</th>\n",
       "      <th>Class</th>\n",
       "    </tr>\n",
       "  </thead>\n",
       "  <tbody>\n",
       "    <tr>\n",
       "      <th>0</th>\n",
       "      <td>76.816153</td>\n",
       "      <td>77.808762</td>\n",
       "      <td>77.114438</td>\n",
       "      <td>0</td>\n",
       "    </tr>\n",
       "    <tr>\n",
       "      <th>1</th>\n",
       "      <td>79.515544</td>\n",
       "      <td>83.959770</td>\n",
       "      <td>81.534429</td>\n",
       "      <td>1</td>\n",
       "    </tr>\n",
       "    <tr>\n",
       "      <th>2</th>\n",
       "      <td>81.525070</td>\n",
       "      <td>79.155569</td>\n",
       "      <td>80.112722</td>\n",
       "      <td>2</td>\n",
       "    </tr>\n",
       "    <tr>\n",
       "      <th>3</th>\n",
       "      <td>52.435602</td>\n",
       "      <td>19.419469</td>\n",
       "      <td>25.920349</td>\n",
       "      <td>3</td>\n",
       "    </tr>\n",
       "    <tr>\n",
       "      <th>4</th>\n",
       "      <td>68.035228</td>\n",
       "      <td>47.829867</td>\n",
       "      <td>54.300850</td>\n",
       "      <td>4</td>\n",
       "    </tr>\n",
       "    <tr>\n",
       "      <th>5</th>\n",
       "      <td>79.360458</td>\n",
       "      <td>79.647342</td>\n",
       "      <td>79.387679</td>\n",
       "      <td>5</td>\n",
       "    </tr>\n",
       "    <tr>\n",
       "      <th>6</th>\n",
       "      <td>79.702468</td>\n",
       "      <td>77.119145</td>\n",
       "      <td>77.284056</td>\n",
       "      <td>6</td>\n",
       "    </tr>\n",
       "  </tbody>\n",
       "</table>\n",
       "</div>"
      ],
      "text/plain": [
       "        Prec        Rec      Micro  Class\n",
       "0  76.816153  77.808762  77.114438      0\n",
       "1  79.515544  83.959770  81.534429      1\n",
       "2  81.525070  79.155569  80.112722      2\n",
       "3  52.435602  19.419469  25.920349      3\n",
       "4  68.035228  47.829867  54.300850      4\n",
       "5  79.360458  79.647342  79.387679      5\n",
       "6  79.702468  77.119145  77.284056      6"
      ]
     },
     "execution_count": 123,
     "metadata": {},
     "output_type": "execute_result"
    }
   ],
   "source": [
    "s = pd.DataFrame(np.vstack(means), columns=[\"Prec\", \"Rec\", \"Micro\"])\n",
    "s[\"Class\"] = np.arange(len(means))\n",
    "s"
   ]
  },
  {
   "cell_type": "code",
   "execution_count": null,
   "metadata": {},
   "outputs": [],
   "source": []
  }
 ],
 "metadata": {
  "kernelspec": {
   "display_name": ".env",
   "language": "python",
   "name": "python3"
  },
  "language_info": {
   "codemirror_mode": {
    "name": "ipython",
    "version": 3
   },
   "file_extension": ".py",
   "mimetype": "text/x-python",
   "name": "python",
   "nbconvert_exporter": "python",
   "pygments_lexer": "ipython3",
   "version": "3.8.10 (default, Nov 14 2022, 12:59:47) \n[GCC 9.4.0]"
  },
  "orig_nbformat": 4,
  "vscode": {
   "interpreter": {
    "hash": "f3135864b85fc339145ed731976b9bcbd775d49eba38ad5ba8da470ad91643c0"
   }
  }
 },
 "nbformat": 4,
 "nbformat_minor": 2
}
