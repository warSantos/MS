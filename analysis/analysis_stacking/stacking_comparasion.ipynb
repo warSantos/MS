{
 "cells": [
  {
   "cell_type": "code",
   "execution_count": 4,
   "metadata": {},
   "outputs": [],
   "source": [
    "import json\n",
    "import numpy as np\n",
    "import pandas as pd\n",
    "\n",
    "from collections import Counter\n",
    "from sklearn.metrics import f1_score\n",
    "\n",
    "from sys import path\n",
    "\n",
    "path.append('../utils/')\n",
    "\n",
    "from utils import get_datasets\n",
    "\n",
    "from utils import load_preds\n",
    "\n",
    "from scipy.stats import t as table_t"
   ]
  },
  {
   "cell_type": "code",
   "execution_count": 5,
   "metadata": {},
   "outputs": [],
   "source": [
    "DATASETS = [\"20ng\", \"acm\", \"webkb\", \"reut\"]\n",
    "DATASETS = [\"acm\", \"20ng\"]"
   ]
  },
  {
   "cell_type": "code",
   "execution_count": 6,
   "metadata": {},
   "outputs": [],
   "source": [
    "pd_datasets = get_datasets(DATASETS)"
   ]
  },
  {
   "cell_type": "code",
   "execution_count": 10,
   "metadata": {},
   "outputs": [
    {
     "name": "stdout",
     "output_type": "stream",
     "text": [
      "ACM - (-0.1245 - -0.0943)\n",
      "ACM - (-0.1245 - -0.0954)\n",
      "ACM - (-0.1252 - -0.096)\n",
      "ACM - (-0.126 - -0.0968)\n",
      "ACM - (-0.1261 - -0.0965)\n",
      "ACM - (-0.1262 - -0.0966)\n",
      "20NG - (-0.0927 - -0.0814)\n",
      "20NG - (-0.0947 - -0.0831)\n",
      "20NG - (-0.094 - -0.0769)\n",
      "20NG - (-0.0943 - -0.0822)\n",
      "20NG - (-0.0959 - -0.0804)\n",
      "20NG - (-0.0945 - -0.0794)\n"
     ]
    }
   ],
   "source": [
    "st1 = \"calibrated\"\n",
    "\n",
    "CLFS = [\n",
    "[\"bert\", \"normal_probas\"],\n",
    "[\"kfr\", \"normal_probas\"],\n",
    "[\"ktmk\", \"normal_probas\"],\n",
    "[\"ktr\", \"normal_probas\"],\n",
    "[\"lfr\", \"normal_probas\"],\n",
    "[\"lsfr\", \"normal_probas\"],\n",
    "[\"lstmk\", \"normal_probas\"],\n",
    "[\"lstr\", \"normal_probas\"],\n",
    "[\"ltr\", \"normal_probas\"],\n",
    "[\"xlnet\", \"normal_probas\"]\n",
    "]\n",
    "\n",
    "posfix = '/'.join(sorted([ f\"{c[0]}_{c[1]}\" for c in CLFS ]))\n",
    "st2s = [\n",
    "    f\"local_rf/zero_train_False/{alfa}/{posfix}/dist_probas_probas_based\"\n",
    "    for alfa in [0.4, 0.5, 0.6, 0.7, 0.8, 0.9]\n",
    "]\n",
    "\n",
    "#st2s = [\"calibrated\"]\n",
    "\n",
    "fold_values = {}\n",
    "for dataset in DATASETS:\n",
    "    fold_values[dataset] = {}\n",
    "    for st2 in st2s:\n",
    "        fold_values[dataset][st2] = []\n",
    "        diffs = []\n",
    "        alpha = 0.05 / 2\n",
    "        for fold in np.arange(10):\n",
    "\n",
    "            ppath = f\"/home/welton/data/stacking/stacking_output/{dataset}/10_folds/logistic_regression/{st1}/fold_{fold}/scoring.json\"\n",
    "            with open(ppath, 'r') as fd:\n",
    "                st1_macro = json.load(fd)[\"f1_macro\"]\n",
    "            \n",
    "            mpath = f\"/home/welton/data/stacking/stacking_output/{dataset}/10_folds/logistic_regression/{st2}/fold_{fold}/scoring.json\"\n",
    "            with open(mpath, 'r') as fd:\n",
    "                st2_macro = json.load(fd)[\"f1_macro\"]\n",
    "            \n",
    "            diffs.append(st2_macro - st1_macro)\n",
    "            fold_values[dataset][st2].append([st1_macro, st2_macro])\n",
    "        #    print(st2_macro, st1_macro, st2_macro - st1_macro)\n",
    "            \n",
    "        mean = np.mean(diffs)\n",
    "        #print(mean)\n",
    "        std = np.std(diffs) / np.sqrt(len(diffs))\n",
    "\n",
    "        t = table_t.ppf(1 - alpha, df=9)\n",
    "        ground = np.round(mean - t * std, decimals=4)\n",
    "        ceiling = np.round(mean + t * std, decimals=4)\n",
    "\n",
    "        print(f\"{dataset.upper()} - ({ground} - {ceiling})\")\n",
    "        #print(\"*\"*100)"
   ]
  },
  {
   "cell_type": "code",
   "execution_count": 11,
   "metadata": {},
   "outputs": [
    {
     "name": "stdout",
     "output_type": "stream",
     "text": [
      "ACM - calibrated: 73.95 local_rf/zero_train_False/0.4/bert_normal_probas/kfr_normal_probas/ktmk_normal_probas/ktr_normal_probas/lfr_normal_probas/lsfr_normal_probas/lstmk_normal_probas/lstr_normal_probas/ltr_normal_probas/xlnet_normal_probas/dist_probas_probas_based: 63.01\n",
      "ACM - calibrated: 73.95 local_rf/zero_train_False/0.5/bert_normal_probas/kfr_normal_probas/ktmk_normal_probas/ktr_normal_probas/lfr_normal_probas/lsfr_normal_probas/lstmk_normal_probas/lstr_normal_probas/ltr_normal_probas/xlnet_normal_probas/dist_probas_probas_based: 62.96\n",
      "ACM - calibrated: 73.95 local_rf/zero_train_False/0.6/bert_normal_probas/kfr_normal_probas/ktmk_normal_probas/ktr_normal_probas/lfr_normal_probas/lsfr_normal_probas/lstmk_normal_probas/lstr_normal_probas/ltr_normal_probas/xlnet_normal_probas/dist_probas_probas_based: 62.89\n",
      "ACM - calibrated: 73.95 local_rf/zero_train_False/0.7/bert_normal_probas/kfr_normal_probas/ktmk_normal_probas/ktr_normal_probas/lfr_normal_probas/lsfr_normal_probas/lstmk_normal_probas/lstr_normal_probas/ltr_normal_probas/xlnet_normal_probas/dist_probas_probas_based: 62.81\n",
      "ACM - calibrated: 73.95 local_rf/zero_train_False/0.8/bert_normal_probas/kfr_normal_probas/ktmk_normal_probas/ktr_normal_probas/lfr_normal_probas/lsfr_normal_probas/lstmk_normal_probas/lstr_normal_probas/ltr_normal_probas/xlnet_normal_probas/dist_probas_probas_based: 62.83\n",
      "ACM - calibrated: 73.95 local_rf/zero_train_False/0.9/bert_normal_probas/kfr_normal_probas/ktmk_normal_probas/ktr_normal_probas/lfr_normal_probas/lsfr_normal_probas/lstmk_normal_probas/lstr_normal_probas/ltr_normal_probas/xlnet_normal_probas/dist_probas_probas_based: 62.81\n",
      "20NG - calibrated: 92.44 local_rf/zero_train_False/0.4/bert_normal_probas/kfr_normal_probas/ktmk_normal_probas/ktr_normal_probas/lfr_normal_probas/lsfr_normal_probas/lstmk_normal_probas/lstr_normal_probas/ltr_normal_probas/xlnet_normal_probas/dist_probas_probas_based: 83.73\n",
      "20NG - calibrated: 92.44 local_rf/zero_train_False/0.5/bert_normal_probas/kfr_normal_probas/ktmk_normal_probas/ktr_normal_probas/lfr_normal_probas/lsfr_normal_probas/lstmk_normal_probas/lstr_normal_probas/ltr_normal_probas/xlnet_normal_probas/dist_probas_probas_based: 83.56\n",
      "20NG - calibrated: 92.44 local_rf/zero_train_False/0.6/bert_normal_probas/kfr_normal_probas/ktmk_normal_probas/ktr_normal_probas/lfr_normal_probas/lsfr_normal_probas/lstmk_normal_probas/lstr_normal_probas/ltr_normal_probas/xlnet_normal_probas/dist_probas_probas_based: 83.9\n",
      "20NG - calibrated: 92.44 local_rf/zero_train_False/0.7/bert_normal_probas/kfr_normal_probas/ktmk_normal_probas/ktr_normal_probas/lfr_normal_probas/lsfr_normal_probas/lstmk_normal_probas/lstr_normal_probas/ltr_normal_probas/xlnet_normal_probas/dist_probas_probas_based: 83.62\n",
      "20NG - calibrated: 92.44 local_rf/zero_train_False/0.8/bert_normal_probas/kfr_normal_probas/ktmk_normal_probas/ktr_normal_probas/lfr_normal_probas/lsfr_normal_probas/lstmk_normal_probas/lstr_normal_probas/ltr_normal_probas/xlnet_normal_probas/dist_probas_probas_based: 83.63\n",
      "20NG - calibrated: 92.44 local_rf/zero_train_False/0.9/bert_normal_probas/kfr_normal_probas/ktmk_normal_probas/ktr_normal_probas/lfr_normal_probas/lsfr_normal_probas/lstmk_normal_probas/lstr_normal_probas/ltr_normal_probas/xlnet_normal_probas/dist_probas_probas_based: 83.74\n"
     ]
    }
   ],
   "source": [
    "for dataset in DATASETS:\n",
    "    for st2 in st2s:\n",
    "        df = pd.DataFrame(fold_values[dataset][st2], columns=[\"st1\", \"st2\"])\n",
    "        mrep = np.round(np.mean(df.st1.values) * 100, decimals=2)\n",
    "        prob = np.round(np.mean(df.st2.values) * 100, decimals=2)\n",
    "        print(f\"{dataset.upper()} - {st1}: {mrep} {st2}: {prob}\")"
   ]
  },
  {
   "cell_type": "code",
   "execution_count": 25,
   "metadata": {},
   "outputs": [
    {
     "data": {
      "text/plain": [
       "array([0., 1., 1., ..., 0., 1., 0.])"
      ]
     },
     "execution_count": 25,
     "metadata": {},
     "output_type": "execute_result"
    }
   ],
   "source": [
    "np.load(\"/home/welton/data/oracle/local_rf/isotonic/acm/10_folds/ktmk/dist_probas_probas_based/0/train.npz\")['y']"
   ]
  },
  {
   "cell_type": "code",
   "execution_count": null,
   "metadata": {},
   "outputs": [],
   "source": []
  }
 ],
 "metadata": {
  "kernelspec": {
   "display_name": "Python 3.8.10 ('.env': venv)",
   "language": "python",
   "name": "python3"
  },
  "language_info": {
   "codemirror_mode": {
    "name": "ipython",
    "version": 3
   },
   "file_extension": ".py",
   "mimetype": "text/x-python",
   "name": "python",
   "nbconvert_exporter": "python",
   "pygments_lexer": "ipython3",
   "version": "3.8.10"
  },
  "orig_nbformat": 4,
  "vscode": {
   "interpreter": {
    "hash": "22f5c821af8e0907655ca5fb88a86cc74c2a7ea210a5948302ed109ba043326b"
   }
  }
 },
 "nbformat": 4,
 "nbformat_minor": 2
}
