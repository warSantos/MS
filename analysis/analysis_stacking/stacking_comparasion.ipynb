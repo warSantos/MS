{
 "cells": [
  {
   "cell_type": "code",
   "execution_count": 1,
   "metadata": {},
   "outputs": [],
   "source": [
    "import json\n",
    "import numpy as np\n",
    "import pandas as pd\n",
    "\n",
    "from collections import Counter\n",
    "from sklearn.metrics import f1_score\n",
    "\n",
    "from sys import path\n",
    "\n",
    "path.append('../utils/')\n",
    "\n",
    "from utils import get_datasets\n",
    "\n",
    "from utils import load_preds\n",
    "\n",
    "from scipy.stats import t as table_t"
   ]
  },
  {
   "cell_type": "code",
   "execution_count": 2,
   "metadata": {},
   "outputs": [],
   "source": [
    "DATASETS = [\"20ng\", \"acm\", \"webkb\", \"reut\"]\n",
    "DATASETS = [\"webkb\"]\n",
    "\n",
    "ALGORITHMS = [\"centroide\", \"gbm\", \"knn\", \"lr\", \"rf\", \"svm\", \"bert\"]"
   ]
  },
  {
   "cell_type": "code",
   "execution_count": 3,
   "metadata": {},
   "outputs": [],
   "source": [
    "pd_datasets = get_datasets(DATASETS)"
   ]
  },
  {
   "cell_type": "code",
   "execution_count": 18,
   "metadata": {},
   "outputs": [
    {
     "name": "stdout",
     "output_type": "stream",
     "text": [
      "0.8386708185116529\n",
      "0.7878218424990343\n",
      "0.7878105738440456\n",
      "0.7811509357637301\n",
      "0.7926481451006163\n",
      "0.7986572639672297\n",
      "0.8052624346362672\n",
      "0.8000905013103361\n",
      "0.8435663282721678\n",
      "0.814422463835648\n",
      "WEBKB - (-0.0457 - -0.0173)\n"
     ]
    }
   ],
   "source": [
    "fold_values = {}\n",
    "for dset in DATASETS:\n",
    "    diffs = []\n",
    "    alpha = 0.05 / 2\n",
    "    fold_values[dset] = []\n",
    "    for fold in np.arange(10):\n",
    "\n",
    "        ppath = f\"/home/welton/data/stacking/stacking_output/{dset}/10_folds/logistic_regression/proba/fold_{fold}/scoring.json\"\n",
    "        with open(ppath, 'r') as fd:\n",
    "            pf1 = json.load(fd)[\"f1_macro\"]\n",
    "        \n",
    "        mpath = f\"/home/welton/data/stacking/stacking_output/{dset}/10_folds/logistic_regression/upper_train/fold_{fold}/scoring.json\"\n",
    "        with open(mpath, 'r') as fd:\n",
    "            mf1 = json.load(fd)[\"f1_macro\"]\n",
    "        \n",
    "        diffs.append(mf1 - pf1)\n",
    "        fold_values[dset].append([mf1, pf1])\n",
    "        print(mf1)\n",
    "        \n",
    "    mean = np.mean(diffs)\n",
    "    std = np.std(diffs) / np.sqrt(len(diffs))\n",
    "\n",
    "    t = table_t.ppf(1 - alpha, df=9)\n",
    "    ground = np.round(mean - t * std, decimals=4)\n",
    "    ceiling = np.round(mean + t * std, decimals=4)\n",
    "\n",
    "    print(f\"{dset.upper()} - ({ground} - {ceiling})\")"
   ]
  },
  {
   "cell_type": "code",
   "execution_count": 19,
   "metadata": {},
   "outputs": [
    {
     "name": "stdout",
     "output_type": "stream",
     "text": [
      "WEBKB - Mix Reps: 80.5 Prob: 83.65\n"
     ]
    }
   ],
   "source": [
    "for dset in DATASETS:\n",
    "    df = pd.DataFrame(fold_values[dset], columns=[\"mreps\", \"probs\"])\n",
    "    mrep = np.round(np.mean(df.mreps.values) * 100, decimals=2)\n",
    "    prob = np.round(np.mean(df.probs.values) * 100, decimals=2)\n",
    "    print(f\"{dset.upper()} - Mix Reps: {mrep} Prob: {prob}\")"
   ]
  },
  {
   "cell_type": "code",
   "execution_count": null,
   "metadata": {},
   "outputs": [],
   "source": []
  }
 ],
 "metadata": {
  "kernelspec": {
   "display_name": "Python 3.8.10 ('.env': venv)",
   "language": "python",
   "name": "python3"
  },
  "language_info": {
   "codemirror_mode": {
    "name": "ipython",
    "version": 3
   },
   "file_extension": ".py",
   "mimetype": "text/x-python",
   "name": "python",
   "nbconvert_exporter": "python",
   "pygments_lexer": "ipython3",
   "version": "3.8.10"
  },
  "orig_nbformat": 4,
  "vscode": {
   "interpreter": {
    "hash": "22f5c821af8e0907655ca5fb88a86cc74c2a7ea210a5948302ed109ba043326b"
   }
  }
 },
 "nbformat": 4,
 "nbformat_minor": 2
}
