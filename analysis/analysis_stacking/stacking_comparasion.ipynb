{
 "cells": [
  {
   "cell_type": "code",
   "execution_count": 1,
   "metadata": {},
   "outputs": [],
   "source": [
    "import json\n",
    "import numpy as np\n",
    "import pandas as pd\n",
    "\n",
    "from collections import Counter\n",
    "from sklearn.metrics import f1_score\n",
    "\n",
    "from sys import path\n",
    "\n",
    "path.append('../utils/')\n",
    "\n",
    "from utils import get_datasets\n",
    "\n",
    "from utils import load_preds\n",
    "\n",
    "from scipy.stats import t as table_t"
   ]
  },
  {
   "cell_type": "code",
   "execution_count": 2,
   "metadata": {},
   "outputs": [],
   "source": [
    "#DATASETS = [\"20ng\", \"acm\", \"webkb\", \"reut\"]\n",
    "DATASETS = [\"webkb\"]\n",
    "\n",
    "ALGORITHMS = [\"centroide\", \"gbm\", \"knn\", \"lr\", \"rf\", \"svm\", \"bert\"]"
   ]
  },
  {
   "cell_type": "code",
   "execution_count": 3,
   "metadata": {},
   "outputs": [],
   "source": [
    "pd_datasets = get_datasets(DATASETS)"
   ]
  },
  {
   "cell_type": "code",
   "execution_count": null,
   "metadata": {},
   "outputs": [],
   "source": [
    "df = pd_datasets[\"webkb\"]"
   ]
  },
  {
   "cell_type": "code",
   "execution_count": null,
   "metadata": {},
   "outputs": [],
   "source": [
    "for fold in np.arange(10):\n",
    "    test = df[df.folds_id == fold]\n",
    "    print(f1_score(test.meta_layer.values, test.classes.values, average='macro'))"
   ]
  },
  {
   "cell_type": "code",
   "execution_count": null,
   "metadata": {},
   "outputs": [],
   "source": [
    "bert_df_path = \"/home/welton/data/datasets/pandas/bert/__dset__.csv\""
   ]
  },
  {
   "cell_type": "code",
   "execution_count": null,
   "metadata": {},
   "outputs": [],
   "source": [
    "bert_datasets = get_datatasets(DATASETS, bert_df_path, sep=';')"
   ]
  },
  {
   "cell_type": "code",
   "execution_count": null,
   "metadata": {},
   "outputs": [],
   "source": [
    "df = bert_datasets[\"webkb\"]"
   ]
  },
  {
   "cell_type": "code",
   "execution_count": null,
   "metadata": {},
   "outputs": [],
   "source": [
    "for fold in np.arange(10):\n",
    "    test = df[df.folds_id == fold]\n",
    "    print(f1_score(test.bert.values, test.classes.values, average='macro'))"
   ]
  },
  {
   "cell_type": "code",
   "execution_count": null,
   "metadata": {},
   "outputs": [],
   "source": [
    "results = {}\n",
    "alpha = 0.5 / 2\n",
    "for dset in DATASETS:\n",
    "    results[dset] = []\n",
    "    orig_st = pd_datasets[dset]\n",
    "    bert_st = bert_datasets[dset]\n",
    "    diffs = []\n",
    "    orig_values = []\n",
    "    bert_values = []\n",
    "    for fold in np.arange(10):\n",
    "        test_orig = orig_st[orig_st.folds_id == fold]\n",
    "        test_bert = bert_st[bert_st.folds_id == fold]\n",
    "        \n",
    "        v1 = f1_score(test_orig.meta_layer.values, test_orig.classes.values, average='macro')\n",
    "        v2 = f1_score(test_bert.bert.values, test_bert.classes.values, average='macro')\n",
    "\n",
    "        diffs.append(v1 - v2)\n",
    "\n",
    "        orig_values.append(v1)\n",
    "        bert_values.append(v2)\n",
    "    \n",
    "    x1 = np.round(np.mean(orig_values)*100, decimals=1)\n",
    "    x2 = np.round(np.mean(bert_values)*100, decimals=1)\n",
    "    results[dset].append([x1, x2])\n",
    "    \n",
    "    mean = np.mean(diffs)\n",
    "    std = np.std(diffs) / np.sqrt(len(diffs))\n",
    "    \n",
    "    t = table_t.ppf(1 - alpha, df=9)\n",
    "    ground = mean - t * std\n",
    "    ceiling = mean + t * std\n",
    "    \n",
    "    print(f\"{dset.upper()} - ({ground} - {ceiling})\")"
   ]
  },
  {
   "cell_type": "code",
   "execution_count": null,
   "metadata": {},
   "outputs": [],
   "source": [
    "pd.DataFrame(results)"
   ]
  },
  {
   "cell_type": "code",
   "execution_count": null,
   "metadata": {},
   "outputs": [],
   "source": [
    "table_t.ppf(1 - 0.025, df=9)"
   ]
  },
  {
   "cell_type": "code",
   "execution_count": null,
   "metadata": {},
   "outputs": [],
   "source": [
    "from utils import load_preds"
   ]
  },
  {
   "cell_type": "code",
   "execution_count": null,
   "metadata": {},
   "outputs": [],
   "source": [
    "np.unique(pd_datasets[\"reut\"].classes.values == bert_datasets[\"reut\"].classes.values)"
   ]
  },
  {
   "cell_type": "code",
   "execution_count": null,
   "metadata": {},
   "outputs": [],
   "source": [
    "preds = []\n",
    "for fold in np.arange(10):\n",
    "    p = np.load(f\"/home/welton/data/stacking/stacking_output/reut/10_folds/logistic_regression/proba/fold_{fold}/y_pred.npy\")\n",
    "    preds.append(p)\n",
    "preds = np.hstack(preds)"
   ]
  },
  {
   "cell_type": "code",
   "execution_count": null,
   "metadata": {},
   "outputs": [],
   "source": [
    "f1_score(pd_datasets[\"reut\"].classes.values, preds, average=\"macro\")"
   ]
  },
  {
   "cell_type": "code",
   "execution_count": null,
   "metadata": {},
   "outputs": [],
   "source": [
    "import os\n",
    "import json\n",
    "for dset in DATASETS:\n",
    "    macro_list = []\n",
    "    for fold in np.arange(10):\n",
    "        \n",
    "        jp = f\"/home/claudiovaliense/projetos/kaggle/{dset}_bert{fold}_pred.json\"\n",
    "        \n",
    "        if not os.path.exists(jp):\n",
    "            jp = f\"/home/welton/data/kaggle/{dset}_bert{fold}_pred.json\"\n",
    "        \n",
    "        with open(jp, \"r\") as fd:\n",
    "            macro_list.append(json.load(fd)[\"Macro-f1\"])\n",
    "    print(f\"{dset.upper()} - {np.mean(macro_list)*100}\")"
   ]
  },
  {
   "cell_type": "code",
   "execution_count": null,
   "metadata": {},
   "outputs": [],
   "source": [
    "macro_list = []\n",
    "for fold in np.arange(10):\n",
    "    jp = f\"/home/welton/data/stacking/stacking_output/reut/10_folds/logistic_regression/proba/fold_{fold}/scoring.json\"\n",
    "    with open(jp, 'r') as fd:\n",
    "        macro_list.append(json.load(fd)[\"f1_macro\"])"
   ]
  },
  {
   "cell_type": "code",
   "execution_count": null,
   "metadata": {},
   "outputs": [],
   "source": [
    "np.mean(macro_list)"
   ]
  },
  {
   "cell_type": "code",
   "execution_count": null,
   "metadata": {},
   "outputs": [],
   "source": [
    "results = {}\n",
    "alpha = 0.5 / 2\n",
    "for dset in DATASETS:\n",
    "    results[dset] = []\n",
    "    orig_st = pd_datasets[dset]\n",
    "    bert_st = bert_datasets[dset]\n",
    "    diffs = []\n",
    "    orig_values = []\n",
    "    bert_values = []\n",
    "    for fold in np.arange(10):\n",
    "        test_orig = orig_st[orig_st.folds_id == fold]\n",
    "        test_bert = bert_st[bert_st.folds_id == fold]\n",
    "        \n",
    "        v1 = f1_score(test_orig.meta_layer.values, test_orig.classes.values, average='macro')\n",
    "        v2 = f1_score(test_bert.bert.values, test_bert.classes.values, average='macro')\n",
    "\n",
    "        diffs.append(v1 - v2)\n",
    "\n",
    "        orig_values.append(v1)\n",
    "        bert_values.append(v2)\n",
    "    \n",
    "    x1 = np.round(np.mean(orig_values)*100, decimals=1)\n",
    "    x2 = np.round(np.mean(bert_values)*100, decimals=1)\n",
    "    results[dset].append([x1, x2])\n",
    "    \n",
    "    mean = np.mean(diffs)\n",
    "    std = np.std(diffs) / np.sqrt(len(diffs))\n",
    "    \n",
    "    t = table_t.ppf(1 - alpha, df=9)\n",
    "    ground = mean - t * std\n",
    "    ceiling = mean + t * std\n",
    "    \n",
    "    print(f\"{dset.upper()} - ({ground} - {ceiling})\")"
   ]
  },
  {
   "cell_type": "code",
   "execution_count": 5,
   "metadata": {},
   "outputs": [
    {
     "name": "stdout",
     "output_type": "stream",
     "text": [
      "WEBKB - (-0.0073 - 0.0148)\n"
     ]
    }
   ],
   "source": [
    "fold_values = {}\n",
    "for dset in DATASETS:\n",
    "    diffs = []\n",
    "    alpha = 0.05 / 2\n",
    "    fold_values[dset] = []\n",
    "    for fold in np.arange(10):\n",
    "\n",
    "        ppath = f\"/home/welton/data/stacking/stacking_output/{dset}/10_folds/logistic_regression/proba/fold_{fold}/scoring.json\"\n",
    "        with open(ppath, 'r') as fd:\n",
    "            pf1 = json.load(fd)[\"f1_macro\"]\n",
    "        \n",
    "        mpath = f\"/home/welton/data/stacking/stacking_output/{dset}/10_folds/logistic_regression/encoder/fold_{fold}/scoring.json\"\n",
    "        with open(mpath, 'r') as fd:\n",
    "            mf1 = json.load(fd)[\"f1_macro\"]\n",
    "        \n",
    "        diffs.append(mf1 - pf1)\n",
    "        fold_values[dset].append([mf1, pf1])\n",
    "        \n",
    "    mean = np.mean(diffs)\n",
    "    std = np.std(diffs) / np.sqrt(len(diffs))\n",
    "\n",
    "    t = table_t.ppf(1 - alpha, df=9)\n",
    "    ground = np.round(mean - t * std, decimals=4)\n",
    "    ceiling = np.round(mean + t * std, decimals=4)\n",
    "\n",
    "    print(f\"{dset.upper()} - ({ground} - {ceiling})\")"
   ]
  },
  {
   "cell_type": "code",
   "execution_count": 6,
   "metadata": {},
   "outputs": [
    {
     "name": "stdout",
     "output_type": "stream",
     "text": [
      "WEBKB - Mix Reps: 84.02 Prob: 83.65\n"
     ]
    }
   ],
   "source": [
    "for dset in DATASETS:\n",
    "    df = pd.DataFrame(fold_values[dset], columns=[\"mreps\", \"probs\"])\n",
    "    mrep = np.round(np.mean(df.mreps.values) * 100, decimals=2)\n",
    "    prob = np.round(np.mean(df.probs.values) * 100, decimals=2)\n",
    "    print(f\"{dset.upper()} - Mix Reps: {mrep} Prob: {prob}\")"
   ]
  },
  {
   "cell_type": "code",
   "execution_count": null,
   "metadata": {},
   "outputs": [],
   "source": []
  }
 ],
 "metadata": {
  "kernelspec": {
   "display_name": "Python 3.8.10 ('.env': venv)",
   "language": "python",
   "name": "python3"
  },
  "language_info": {
   "codemirror_mode": {
    "name": "ipython",
    "version": 3
   },
   "file_extension": ".py",
   "mimetype": "text/x-python",
   "name": "python",
   "nbconvert_exporter": "python",
   "pygments_lexer": "ipython3",
   "version": "3.8.10"
  },
  "orig_nbformat": 4,
  "vscode": {
   "interpreter": {
    "hash": "22f5c821af8e0907655ca5fb88a86cc74c2a7ea210a5948302ed109ba043326b"
   }
  }
 },
 "nbformat": 4,
 "nbformat_minor": 2
}
