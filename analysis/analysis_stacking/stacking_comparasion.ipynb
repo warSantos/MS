{
 "cells": [
  {
   "cell_type": "code",
   "execution_count": 97,
   "metadata": {},
   "outputs": [],
   "source": [
    "import json\n",
    "import numpy as np\n",
    "import pandas as pd\n",
    "\n",
    "from collections import Counter\n",
    "from sklearn.metrics import f1_score\n",
    "\n",
    "from sys import path\n",
    "\n",
    "path.append('../utils/')\n",
    "\n",
    "from utils import get_datasets\n",
    "\n",
    "from utils import load_preds\n",
    "\n",
    "from scipy.stats import t as table_t"
   ]
  },
  {
   "cell_type": "code",
   "execution_count": 98,
   "metadata": {},
   "outputs": [],
   "source": [
    "DATASETS = [\"20ng\", \"acm\", \"webkb\", \"reut\"]\n",
    "DATASETS = [\"acm\", \"webkb\", \"20ng\"]"
   ]
  },
  {
   "cell_type": "code",
   "execution_count": 99,
   "metadata": {},
   "outputs": [],
   "source": [
    "pd_datasets = get_datasets(DATASETS)"
   ]
  },
  {
   "cell_type": "code",
   "execution_count": 100,
   "metadata": {},
   "outputs": [
    {
     "name": "stdout",
     "output_type": "stream",
     "text": [
      "ACM - (0.0145 - 0.0245)\n",
      "WEBKB - (0.0155 - 0.0367)\n",
      "20NG - (-0.0016 - 0.0048)\n"
     ]
    }
   ],
   "source": [
    "MF_SET = [\n",
    "    \"probas-based\"\n",
    "]\n",
    "MF_SET.sort()\n",
    "mf_sufix = '_'.join(MF_SET)\n",
    "\n",
    "CLFS1 = [\n",
    "[\"bert\", \"normal_probas\"],\n",
    "[\"xlnet\", \"normal_probas\"],\n",
    "[\"ktmk\", \"normal_probas\"],\n",
    "[\"ktr\", \"normal_probas\"],\n",
    "[\"lstmk\", \"normal_probas\"],\n",
    "[\"lstr\", \"normal_probas\"],\n",
    "[\"ltr\", \"normal_probas\"]\n",
    "]\n",
    "\n",
    "CLFS2 = [\n",
    "[\"bert\", \"temperature_scaling\"],\n",
    "[\"xlnet\", \"temperature_scaling\"],\n",
    "[\"ktmk\", \"isotonic\"],\n",
    "[\"ktr\", \"isotonic\"],\n",
    "[\"lstmk\", \"isotonic\"],\n",
    "[\"lstr\", \"isotonic\"],\n",
    "[\"ltr\", \"isotonic\"]\n",
    "]\n",
    "\n",
    "posfix = '/'.join(sorted([ f\"{c[0]}_{c[1]}\" for c in CLFS2 ]))\n",
    "\n",
    "st1 = f\"calibrated/{posfix}\"\n",
    "\n",
    "posfix = '/'.join(sorted([ f\"{c[0]}_{c[1]}\" for c in CLFS2 ]))\n",
    "\n",
    "\"\"\"\n",
    "st2s = [\n",
    "    f\"error_detection/zero_train_True/{alfa}/{posfix}/centroids-ratios_dist_neigborhood_probas_probas-based\"\n",
    "    for alfa in [0.5]\n",
    "]\n",
    "st2s = [\n",
    "    f\"upper_bound/zero_train_True/{alfa}/{posfix}\"\n",
    "    for alfa in [0.5]\n",
    "]\n",
    "\"\"\"\n",
    "\n",
    "st2s = [ posfix ]\n",
    "#st2 = f\"normal_probas/{posfix}\"\n",
    "#st2s = [\"calibrated\"]\n",
    "\n",
    "fold_values = {}\n",
    "for dataset in DATASETS:\n",
    "    fold_values[dataset] = {}\n",
    "    for st2 in st2s:\n",
    "        fold_values[dataset][st2] = []\n",
    "        diffs = []\n",
    "        alpha = 0.05 / 2\n",
    "        for fold in np.arange(10):\n",
    "\n",
    "            ppath = f\"/home/welton/data/stacking/stacking_output/{dataset}/10_folds/logistic_regression/{st1}/fold_{fold}/scoring.json\"\n",
    "            with open(ppath, 'r') as fd:\n",
    "                st1_macro = json.load(fd)[\"f1_macro\"]\n",
    "            \n",
    "            #mpath = f\"/home/welton/data/stacking/stacking_output/{dataset}/10_folds/attention/dual_cross_attention/use_mf_False/batch_64/{st2}/fold_{fold}/scoring.json\"\n",
    "            mpath = f\"/home/welton/data/stacking/stacking_output/{dataset}/10_folds/logistic_regression/hard_docs_upper_bound/{st2}/{mf_sufix}/fold_{fold}/scoring.json\"\n",
    "            with open(mpath, 'r') as fd:\n",
    "                st2_macro = json.load(fd)[\"f1_macro\"]\n",
    "            \n",
    "            diffs.append(st2_macro - st1_macro)\n",
    "            fold_values[dataset][st2].append([st1_macro, st2_macro])\n",
    "        #    print(st2_macro, st1_macro, st2_macro - st1_macro)\n",
    "            \n",
    "        mean = np.mean(diffs)\n",
    "        #print(mean)\n",
    "        std = np.std(diffs) / np.sqrt(len(diffs))\n",
    "\n",
    "        t = table_t.ppf(1 - alpha, df=9)\n",
    "        ground = np.round(mean - t * std, decimals=4)\n",
    "        ceiling = np.round(mean + t * std, decimals=4)\n",
    "\n",
    "        print(f\"{dataset.upper()} - ({ground} - {ceiling})\")\n",
    "        #print(\"*\"*100)"
   ]
  },
  {
   "cell_type": "code",
   "execution_count": 101,
   "metadata": {},
   "outputs": [
    {
     "name": "stdout",
     "output_type": "stream",
     "text": [
      "ACM - st1: 73.74 st2: 75.68\n",
      "calibrated/bert_temperature_scaling/ktmk_isotonic/ktr_isotonic/lstmk_isotonic/lstr_isotonic/ltr_isotonic/xlnet_temperature_scaling  --  bert_temperature_scaling/ktmk_isotonic/ktr_isotonic/lstmk_isotonic/lstr_isotonic/ltr_isotonic/xlnet_temperature_scaling\n",
      "WEBKB - st1: 83.13 st2: 85.74\n",
      "calibrated/bert_temperature_scaling/ktmk_isotonic/ktr_isotonic/lstmk_isotonic/lstr_isotonic/ltr_isotonic/xlnet_temperature_scaling  --  bert_temperature_scaling/ktmk_isotonic/ktr_isotonic/lstmk_isotonic/lstr_isotonic/ltr_isotonic/xlnet_temperature_scaling\n",
      "20NG - st1: 92.18 st2: 92.34\n",
      "calibrated/bert_temperature_scaling/ktmk_isotonic/ktr_isotonic/lstmk_isotonic/lstr_isotonic/ltr_isotonic/xlnet_temperature_scaling  --  bert_temperature_scaling/ktmk_isotonic/ktr_isotonic/lstmk_isotonic/lstr_isotonic/ltr_isotonic/xlnet_temperature_scaling\n"
     ]
    }
   ],
   "source": [
    "for dataset in DATASETS:\n",
    "    for st2 in st2s:\n",
    "        df = pd.DataFrame(fold_values[dataset][st2], columns=[\"st1\", \"st2\"])\n",
    "        mrep = np.round(np.mean(df.st1.values) * 100, decimals=2)\n",
    "        prob = np.round(np.mean(df.st2.values) * 100, decimals=2)\n",
    "        print(f\"{dataset.upper()} - st1: {mrep} st2: {prob}\")\n",
    "        print(st1,\" -- \", st2)"
   ]
  },
  {
   "cell_type": "code",
   "execution_count": null,
   "metadata": {},
   "outputs": [],
   "source": []
  },
  {
   "cell_type": "code",
   "execution_count": 102,
   "metadata": {},
   "outputs": [],
   "source": [
    "# Dual MP\n",
    "\n",
    "# WEBKB - (0.0158 - 0.0326)\n",
    "# WEBKB - st1: 82.91 st2: 85.33\n",
    "# WEBKB - (-0.0391 - -0.0103)\n",
    "# WEBKB - st1: 82.91 st2: 80.44"
   ]
  },
  {
   "cell_type": "code",
   "execution_count": null,
   "metadata": {},
   "outputs": [],
   "source": []
  }
 ],
 "metadata": {
  "kernelspec": {
   "display_name": "Python 3.8.10 ('.env': venv)",
   "language": "python",
   "name": "python3"
  },
  "language_info": {
   "codemirror_mode": {
    "name": "ipython",
    "version": 3
   },
   "file_extension": ".py",
   "mimetype": "text/x-python",
   "name": "python",
   "nbconvert_exporter": "python",
   "pygments_lexer": "ipython3",
   "version": "3.8.10"
  },
  "orig_nbformat": 4,
  "vscode": {
   "interpreter": {
    "hash": "22f5c821af8e0907655ca5fb88a86cc74c2a7ea210a5948302ed109ba043326b"
   }
  }
 },
 "nbformat": 4,
 "nbformat_minor": 2
}
