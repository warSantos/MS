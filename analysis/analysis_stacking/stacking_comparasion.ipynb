{
 "cells": [
  {
   "cell_type": "code",
   "execution_count": 1,
   "metadata": {},
   "outputs": [],
   "source": [
    "import json\n",
    "import numpy as np\n",
    "import pandas as pd\n",
    "\n",
    "from collections import Counter\n",
    "from sklearn.metrics import f1_score\n",
    "\n",
    "from sys import path\n",
    "\n",
    "path.append('../utils/')\n",
    "\n",
    "from utils import get_datasets\n",
    "\n",
    "from utils import load_preds\n",
    "\n",
    "from scipy.stats import t as table_t"
   ]
  },
  {
   "cell_type": "code",
   "execution_count": 2,
   "metadata": {},
   "outputs": [],
   "source": [
    "DATASETS = [\"20ng\", \"acm\", \"webkb\", \"reut\"]\n",
    "DATASETS = [\"acm\", \"20ng\"]"
   ]
  },
  {
   "cell_type": "code",
   "execution_count": 3,
   "metadata": {},
   "outputs": [],
   "source": [
    "pd_datasets = get_datasets(DATASETS)"
   ]
  },
  {
   "cell_type": "code",
   "execution_count": 8,
   "metadata": {},
   "outputs": [
    {
     "name": "stdout",
     "output_type": "stream",
     "text": [
      "ACM - (-0.0382 - -0.0093)\n",
      "ACM - (-0.0274 - -0.0056)\n",
      "ACM - (-0.0235 - -0.0017)\n",
      "ACM - (-0.012 - 0.0047)\n",
      "ACM - (-0.0097 - 0.0104)\n",
      "ACM - (-0.0083 - 0.0084)\n",
      "ACM - (-0.0026 - 0.0056)\n",
      "ACM - (-0.0002 - 0.0019)\n",
      "ACM - (-0.0001 - 0.0004)\n",
      "ACM - (-0.0 - 0.0)\n",
      "20NG - (-0.06 - -0.0462)\n",
      "20NG - (-0.0381 - -0.0286)\n",
      "20NG - (-0.0331 - -0.0235)\n",
      "20NG - (-0.0176 - -0.0108)\n",
      "20NG - (-0.0135 - -0.0077)\n",
      "20NG - (-0.0133 - -0.0063)\n",
      "20NG - (-0.0066 - -0.0031)\n",
      "20NG - (-0.0022 - 0.0026)\n",
      "20NG - (-0.0012 - 0.0)\n",
      "20NG - (-0.0017 - 0.001)\n"
     ]
    }
   ],
   "source": [
    "st1 = \"calibrated\"\n",
    "\n",
    "st2s = [\n",
    "    f\"local_rf/zero_train_False/{alfa}/bert_temperature_scaling/ktmk_isotonic/xlnet_temperature_scaling/dist_probas_probas_based\"\n",
    "    for alfa in [0.1, 0.2, 0.3, 0.4, 0.5, 0.6, 0.7, 0.8, 0.9, 1]\n",
    "]\n",
    "\n",
    "#st2s = [\"calibrated\"]\n",
    "\n",
    "fold_values = {}\n",
    "for dataset in DATASETS:\n",
    "    fold_values[dataset] = {}\n",
    "    for st2 in st2s:\n",
    "        fold_values[dataset][st2] = []\n",
    "        diffs = []\n",
    "        alpha = 0.05 / 2\n",
    "        for fold in np.arange(10):\n",
    "\n",
    "            ppath = f\"/home/welton/data/stacking/stacking_output/{dataset}/10_folds/logistic_regression/{st1}/fold_{fold}/scoring.json\"\n",
    "            with open(ppath, 'r') as fd:\n",
    "                st1_macro = json.load(fd)[\"f1_macro\"]\n",
    "            \n",
    "            mpath = f\"/home/welton/data/stacking/stacking_output/{dataset}/10_folds/logistic_regression/{st2}/fold_{fold}/scoring.json\"\n",
    "            with open(mpath, 'r') as fd:\n",
    "                st2_macro = json.load(fd)[\"f1_macro\"]\n",
    "            \n",
    "            diffs.append(st2_macro - st1_macro)\n",
    "            fold_values[dataset][st2].append([st1_macro, st2_macro])\n",
    "        #    print(st2_macro, st1_macro, st2_macro - st1_macro)\n",
    "            \n",
    "        mean = np.mean(diffs)\n",
    "        #print(mean)\n",
    "        std = np.std(diffs) / np.sqrt(len(diffs))\n",
    "\n",
    "        t = table_t.ppf(1 - alpha, df=9)\n",
    "        ground = np.round(mean - t * std, decimals=4)\n",
    "        ceiling = np.round(mean + t * std, decimals=4)\n",
    "\n",
    "        print(f\"{dataset.upper()} - ({ground} - {ceiling})\")\n",
    "        #print(\"*\"*100)"
   ]
  },
  {
   "cell_type": "code",
   "execution_count": 9,
   "metadata": {},
   "outputs": [
    {
     "name": "stdout",
     "output_type": "stream",
     "text": [
      "ACM - calibrated: 73.95 local_rf/zero_train_False/0.1/bert_temperature_scaling/ktmk_isotonic/xlnet_temperature_scaling/dist_probas_probas_based: 71.58\n",
      "ACM - calibrated: 73.95 local_rf/zero_train_False/0.2/bert_temperature_scaling/ktmk_isotonic/xlnet_temperature_scaling/dist_probas_probas_based: 72.3\n",
      "ACM - calibrated: 73.95 local_rf/zero_train_False/0.3/bert_temperature_scaling/ktmk_isotonic/xlnet_temperature_scaling/dist_probas_probas_based: 72.69\n",
      "ACM - calibrated: 73.95 local_rf/zero_train_False/0.4/bert_temperature_scaling/ktmk_isotonic/xlnet_temperature_scaling/dist_probas_probas_based: 73.58\n",
      "ACM - calibrated: 73.95 local_rf/zero_train_False/0.5/bert_temperature_scaling/ktmk_isotonic/xlnet_temperature_scaling/dist_probas_probas_based: 73.99\n",
      "ACM - calibrated: 73.95 local_rf/zero_train_False/0.6/bert_temperature_scaling/ktmk_isotonic/xlnet_temperature_scaling/dist_probas_probas_based: 73.96\n",
      "ACM - calibrated: 73.95 local_rf/zero_train_False/0.7/bert_temperature_scaling/ktmk_isotonic/xlnet_temperature_scaling/dist_probas_probas_based: 74.1\n",
      "ACM - calibrated: 73.95 local_rf/zero_train_False/0.8/bert_temperature_scaling/ktmk_isotonic/xlnet_temperature_scaling/dist_probas_probas_based: 74.04\n",
      "ACM - calibrated: 73.95 local_rf/zero_train_False/0.9/bert_temperature_scaling/ktmk_isotonic/xlnet_temperature_scaling/dist_probas_probas_based: 73.97\n",
      "ACM - calibrated: 73.95 local_rf/zero_train_False/1/bert_temperature_scaling/ktmk_isotonic/xlnet_temperature_scaling/dist_probas_probas_based: 73.95\n",
      "20NG - calibrated: 92.44 local_rf/zero_train_False/0.1/bert_temperature_scaling/ktmk_isotonic/xlnet_temperature_scaling/dist_probas_probas_based: 87.13\n",
      "20NG - calibrated: 92.44 local_rf/zero_train_False/0.2/bert_temperature_scaling/ktmk_isotonic/xlnet_temperature_scaling/dist_probas_probas_based: 89.1\n",
      "20NG - calibrated: 92.44 local_rf/zero_train_False/0.3/bert_temperature_scaling/ktmk_isotonic/xlnet_temperature_scaling/dist_probas_probas_based: 89.61\n",
      "20NG - calibrated: 92.44 local_rf/zero_train_False/0.4/bert_temperature_scaling/ktmk_isotonic/xlnet_temperature_scaling/dist_probas_probas_based: 91.02\n",
      "20NG - calibrated: 92.44 local_rf/zero_train_False/0.5/bert_temperature_scaling/ktmk_isotonic/xlnet_temperature_scaling/dist_probas_probas_based: 91.38\n",
      "20NG - calibrated: 92.44 local_rf/zero_train_False/0.6/bert_temperature_scaling/ktmk_isotonic/xlnet_temperature_scaling/dist_probas_probas_based: 91.46\n",
      "20NG - calibrated: 92.44 local_rf/zero_train_False/0.7/bert_temperature_scaling/ktmk_isotonic/xlnet_temperature_scaling/dist_probas_probas_based: 91.95\n",
      "20NG - calibrated: 92.44 local_rf/zero_train_False/0.8/bert_temperature_scaling/ktmk_isotonic/xlnet_temperature_scaling/dist_probas_probas_based: 92.46\n",
      "20NG - calibrated: 92.44 local_rf/zero_train_False/0.9/bert_temperature_scaling/ktmk_isotonic/xlnet_temperature_scaling/dist_probas_probas_based: 92.38\n",
      "20NG - calibrated: 92.44 local_rf/zero_train_False/1/bert_temperature_scaling/ktmk_isotonic/xlnet_temperature_scaling/dist_probas_probas_based: 92.41\n"
     ]
    }
   ],
   "source": [
    "for dataset in DATASETS:\n",
    "    for st2 in st2s:\n",
    "        df = pd.DataFrame(fold_values[dataset][st2], columns=[\"st1\", \"st2\"])\n",
    "        mrep = np.round(np.mean(df.st1.values) * 100, decimals=2)\n",
    "        prob = np.round(np.mean(df.st2.values) * 100, decimals=2)\n",
    "        print(f\"{dataset.upper()} - {st1}: {mrep} {st2}: {prob}\")"
   ]
  },
  {
   "cell_type": "code",
   "execution_count": 25,
   "metadata": {},
   "outputs": [
    {
     "data": {
      "text/plain": [
       "array([0., 1., 1., ..., 0., 1., 0.])"
      ]
     },
     "execution_count": 25,
     "metadata": {},
     "output_type": "execute_result"
    }
   ],
   "source": [
    "np.load(\"/home/welton/data/oracle/local_rf/isotonic/acm/10_folds/ktmk/dist_probas_probas_based/0/train.npz\")['y']"
   ]
  },
  {
   "cell_type": "code",
   "execution_count": null,
   "metadata": {},
   "outputs": [],
   "source": []
  }
 ],
 "metadata": {
  "kernelspec": {
   "display_name": "Python 3.8.10 ('.env': venv)",
   "language": "python",
   "name": "python3"
  },
  "language_info": {
   "codemirror_mode": {
    "name": "ipython",
    "version": 3
   },
   "file_extension": ".py",
   "mimetype": "text/x-python",
   "name": "python",
   "nbconvert_exporter": "python",
   "pygments_lexer": "ipython3",
   "version": "3.8.10"
  },
  "orig_nbformat": 4,
  "vscode": {
   "interpreter": {
    "hash": "22f5c821af8e0907655ca5fb88a86cc74c2a7ea210a5948302ed109ba043326b"
   }
  }
 },
 "nbformat": 4,
 "nbformat_minor": 2
}
