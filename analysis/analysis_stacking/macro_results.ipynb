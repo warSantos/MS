{
 "cells": [
  {
   "cell_type": "code",
   "execution_count": 8,
   "metadata": {},
   "outputs": [],
   "source": [
    "import json\n",
    "import numpy as np\n",
    "import pandas as pd\n",
    "\n",
    "from sklearn.metrics import f1_score\n",
    "\n",
    "from sys import path\n",
    "\n",
    "path.append(\"../utils/\")\n",
    "\n",
    "from utils import get_datasets, IDS_MODELS\n"
   ]
  },
  {
   "cell_type": "code",
   "execution_count": 9,
   "metadata": {},
   "outputs": [],
   "source": [
    "DATASETS = [\"webkb\", \"20ng\", \"acm\", \"reut\"]\n",
    "\n",
    "CLFS_OS = [\"kfr\", \"kpr\", \"ktmk\", \"ktr\", \"lfr\", \"lpr\", \"ltmk\", \"ltr\", \"sfr\", \"spr\", \"stmk\", \"str\", \"xfr\", \"xpr\", \"xtmk\", \"xtr\"]\n",
    "CLFS_OS = [\"ktmk\", \"bert\", \"xlnet\"]\n",
    "\n",
    "CLS_OUTPUT_DIR = \"/home/welton/data/normal_probas/split_10\""
   ]
  },
  {
   "cell_type": "code",
   "execution_count": 10,
   "metadata": {},
   "outputs": [],
   "source": [
    "MODEL_DESC = { IDS_MODELS[k]: k for k in IDS_MODELS }"
   ]
  },
  {
   "cell_type": "code",
   "execution_count": 11,
   "metadata": {},
   "outputs": [],
   "source": [
    "pd_datasets = get_datasets(DATASETS, \"/home/welton/data/pd_datasets/__dset__.csv\", sep=';')"
   ]
  },
  {
   "cell_type": "code",
   "execution_count": 12,
   "metadata": {},
   "outputs": [],
   "source": [
    "d_scores = {}\n",
    "for dset in DATASETS:\n",
    "    d_scores[dset] = []\n",
    "    df = pd_datasets[dset]\n",
    "    for clf in CLFS_OS:\n",
    "        m = f1_score(df.label.values, df[clf].values, average=\"macro\")\n",
    "        d_scores[dset].append(np.round(m * 100, decimals=2))"
   ]
  },
  {
   "cell_type": "code",
   "execution_count": 13,
   "metadata": {},
   "outputs": [],
   "source": [
    "macro_table = pd.DataFrame(d_scores)\n",
    "macro_table[\"CLF\"] = CLFS_OS\n",
    "macro_table[\"CLF_DESC\"] = [ MODEL_DESC[k] for k in CLFS_OS ]"
   ]
  },
  {
   "cell_type": "code",
   "execution_count": 14,
   "metadata": {},
   "outputs": [
    {
     "data": {
      "text/html": [
       "<div>\n",
       "<style scoped>\n",
       "    .dataframe tbody tr th:only-of-type {\n",
       "        vertical-align: middle;\n",
       "    }\n",
       "\n",
       "    .dataframe tbody tr th {\n",
       "        vertical-align: top;\n",
       "    }\n",
       "\n",
       "    .dataframe thead th {\n",
       "        text-align: right;\n",
       "    }\n",
       "</style>\n",
       "<table border=\"1\" class=\"dataframe\">\n",
       "  <thead>\n",
       "    <tr style=\"text-align: right;\">\n",
       "      <th></th>\n",
       "      <th>webkb</th>\n",
       "      <th>20ng</th>\n",
       "      <th>acm</th>\n",
       "      <th>reut</th>\n",
       "      <th>CLF</th>\n",
       "      <th>CLF_DESC</th>\n",
       "    </tr>\n",
       "  </thead>\n",
       "  <tbody>\n",
       "    <tr>\n",
       "      <th>0</th>\n",
       "      <td>64.81</td>\n",
       "      <td>90.27</td>\n",
       "      <td>65.34</td>\n",
       "      <td>30.82</td>\n",
       "      <td>ktmk</td>\n",
       "      <td>knn/tf_idf_1/meta_features_1/knn_cos</td>\n",
       "    </tr>\n",
       "    <tr>\n",
       "      <th>1</th>\n",
       "      <td>77.12</td>\n",
       "      <td>85.46</td>\n",
       "      <td>66.14</td>\n",
       "      <td>29.30</td>\n",
       "      <td>bert</td>\n",
       "      <td>bert</td>\n",
       "    </tr>\n",
       "    <tr>\n",
       "      <th>2</th>\n",
       "      <td>77.70</td>\n",
       "      <td>73.88</td>\n",
       "      <td>62.96</td>\n",
       "      <td>37.26</td>\n",
       "      <td>xlnet</td>\n",
       "      <td>xlnet</td>\n",
       "    </tr>\n",
       "  </tbody>\n",
       "</table>\n",
       "</div>"
      ],
      "text/plain": [
       "   webkb   20ng    acm   reut    CLF                              CLF_DESC\n",
       "0  64.81  90.27  65.34  30.82   ktmk  knn/tf_idf_1/meta_features_1/knn_cos\n",
       "1  77.12  85.46  66.14  29.30   bert                                  bert\n",
       "2  77.70  73.88  62.96  37.26  xlnet                                 xlnet"
      ]
     },
     "execution_count": 14,
     "metadata": {},
     "output_type": "execute_result"
    }
   ],
   "source": [
    "macro_table.sort_values(by=[\"20ng\"], ascending=False)"
   ]
  },
  {
   "cell_type": "code",
   "execution_count": 15,
   "metadata": {},
   "outputs": [
    {
     "data": {
      "text/html": [
       "<div>\n",
       "<style scoped>\n",
       "    .dataframe tbody tr th:only-of-type {\n",
       "        vertical-align: middle;\n",
       "    }\n",
       "\n",
       "    .dataframe tbody tr th {\n",
       "        vertical-align: top;\n",
       "    }\n",
       "\n",
       "    .dataframe thead th {\n",
       "        text-align: right;\n",
       "    }\n",
       "</style>\n",
       "<table border=\"1\" class=\"dataframe\">\n",
       "  <thead>\n",
       "    <tr style=\"text-align: right;\">\n",
       "      <th></th>\n",
       "      <th>webkb</th>\n",
       "      <th>20ng</th>\n",
       "      <th>acm</th>\n",
       "      <th>reut</th>\n",
       "      <th>CLF</th>\n",
       "      <th>CLF_DESC</th>\n",
       "    </tr>\n",
       "  </thead>\n",
       "  <tbody>\n",
       "    <tr>\n",
       "      <th>0</th>\n",
       "      <td>64.81</td>\n",
       "      <td>90.27</td>\n",
       "      <td>65.34</td>\n",
       "      <td>30.82</td>\n",
       "      <td>ktmk</td>\n",
       "      <td>knn/tf_idf_1/meta_features_1/knn_cos</td>\n",
       "    </tr>\n",
       "  </tbody>\n",
       "</table>\n",
       "</div>"
      ],
      "text/plain": [
       "   webkb   20ng    acm   reut   CLF                              CLF_DESC\n",
       "0  64.81  90.27  65.34  30.82  ktmk  knn/tf_idf_1/meta_features_1/knn_cos"
      ]
     },
     "execution_count": 15,
     "metadata": {},
     "output_type": "execute_result"
    }
   ],
   "source": [
    "macro_table[macro_table.CLF.str.contains('k')]"
   ]
  },
  {
   "cell_type": "code",
   "execution_count": 17,
   "metadata": {},
   "outputs": [],
   "source": [
    "from sklearn.metrics import f1_score"
   ]
  },
  {
   "cell_type": "code",
   "execution_count": 22,
   "metadata": {},
   "outputs": [
    {
     "name": "stdout",
     "output_type": "stream",
     "text": [
      "xlnet 0.8775538536951961\n",
      "xlnet 0.856963057973722\n",
      "xlnet 0.8832071217737039\n",
      "xlnet 0.8674840166254698\n",
      "xlnet 0.8716155828919359\n",
      "xlnet 0.8683581464532988\n",
      "xlnet 0.8700303916805071\n",
      "xlnet 0.872108048520924\n",
      "xlnet 0.8693566980883063\n",
      "xlnet 0.8684728856277486\n",
      "\n",
      "bert 0.8775538536951961\n",
      "bert 0.856963057973722\n",
      "bert 0.8832071217737039\n",
      "bert 0.8674840166254698\n",
      "bert 0.8716155828919359\n",
      "bert 0.8683581464532988\n",
      "bert 0.8700303916805071\n",
      "bert 0.872108048520924\n",
      "bert 0.8693566980883063\n",
      "bert 0.8684728856277486\n",
      "\n"
     ]
    }
   ],
   "source": [
    "SOURCE = \"/home/welton/data\"\n",
    "SOURE_PROBAS = f\"{SOURCE}/normal_probas/split_10\"\n",
    "SOURCE_LABELS = f\"{SOURCE}/datasets/labels/split_10/20ng\"\n",
    "for clf in [\"xlnet\", \"bert\"]:\n",
    "    clf_dir = f\"{SOURE_PROBAS}/20ng/10_folds/{clf}\"\n",
    "    for fold in np.arange(10):\n",
    "        proba_path = f\"{clf_dir}/{fold}/test.npz\"\n",
    "        loader = np.load(proba_path)\n",
    "        y_true = np.load(f\"{SOURCE_LABELS}/{fold}/test.npy\")\n",
    "        print(clf, f1_score(y_true, loader[\"X_test\"].argmax(axis=1), average=\"macro\"))\n",
    "    print()"
   ]
  },
  {
   "cell_type": "code",
   "execution_count": 23,
   "metadata": {},
   "outputs": [
    {
     "name": "stdout",
     "output_type": "stream",
     "text": [
      "xlnet 0.7215781862065933\n",
      "xlnet 0.7237741970278982\n",
      "xlnet 0.6929597309310889\n",
      "xlnet 0.6986625310178657\n",
      "xlnet 0.6563211983856726\n",
      "xlnet 0.7039907779761911\n",
      "xlnet 0.7154685415237751\n",
      "xlnet 0.6790802023700998\n",
      "xlnet 0.7139412143249896\n",
      "xlnet 0.7295789797477954\n",
      "\n",
      "bert 0.7215781862065933\n",
      "bert 0.7237741970278982\n",
      "bert 0.6929597309310889\n",
      "bert 0.6986625310178657\n",
      "bert 0.6563211983856726\n",
      "bert 0.7039907779761911\n",
      "bert 0.7154685415237751\n",
      "bert 0.6790802023700998\n",
      "bert 0.7139412143249896\n",
      "bert 0.7295789797477954\n",
      "\n"
     ]
    }
   ],
   "source": [
    "SOURCE = \"/home/welton/data\"\n",
    "SOURE_PROBAS = f\"{SOURCE}/normal_probas/split_10\"\n",
    "SOURCE_LABELS = f\"{SOURCE}/datasets/labels/split_10/acm\"\n",
    "for clf in [\"xlnet\", \"bert\"]:\n",
    "    clf_dir = f\"{SOURE_PROBAS}/acm/10_folds/{clf}\"\n",
    "    for fold in np.arange(10):\n",
    "        proba_path = f\"{clf_dir}/{fold}/test.npz\"\n",
    "        loader = np.load(proba_path)\n",
    "        y_true = np.load(f\"{SOURCE_LABELS}/{fold}/test.npy\")\n",
    "        print(clf, f1_score(y_true, loader[\"X_test\"].argmax(axis=1), average=\"macro\"))\n",
    "    print()"
   ]
  },
  {
   "cell_type": "code",
   "execution_count": null,
   "metadata": {},
   "outputs": [],
   "source": []
  }
 ],
 "metadata": {
  "kernelspec": {
   "display_name": "Python 3.8.10 ('.env': venv)",
   "language": "python",
   "name": "python3"
  },
  "language_info": {
   "codemirror_mode": {
    "name": "ipython",
    "version": 3
   },
   "file_extension": ".py",
   "mimetype": "text/x-python",
   "name": "python",
   "nbconvert_exporter": "python",
   "pygments_lexer": "ipython3",
   "version": "3.8.10"
  },
  "orig_nbformat": 4,
  "vscode": {
   "interpreter": {
    "hash": "f3135864b85fc339145ed731976b9bcbd775d49eba38ad5ba8da470ad91643c0"
   }
  }
 },
 "nbformat": 4,
 "nbformat_minor": 2
}
