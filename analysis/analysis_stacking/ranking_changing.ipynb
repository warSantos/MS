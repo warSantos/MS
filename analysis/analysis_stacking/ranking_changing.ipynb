{
 "cells": [
  {
   "cell_type": "code",
   "execution_count": 1,
   "metadata": {},
   "outputs": [],
   "source": [
    "import numpy as np\n",
    "import pandas as pd"
   ]
  },
  {
   "attachments": {},
   "cell_type": "markdown",
   "metadata": {},
   "source": [
    "# O que fazer?\n",
    "\n",
    "* Contar os casos onde a calibragem acertou e a proba errou.\n",
    "* Contar o raking os casos onde a calibragem errou e a proba errou."
   ]
  },
  {
   "cell_type": "code",
   "execution_count": 27,
   "metadata": {},
   "outputs": [],
   "source": [
    "def get_miss_convertions(y_true: np.ndarray,\n",
    "                         main_preds: np.ndarray,\n",
    "                         second_preds: np.ndarray) -> np.int64:\n",
    "\n",
    "    A = y_true == main_preds\n",
    "    B = y_true != second_preds\n",
    "    return np.sum(np.logical_and(A, B))\n",
    "\n",
    "def get_ranking(label:np.ndarray, \n",
    "                A:np.ndarray, \n",
    "                B:np.ndarray) -> tuple:\n",
    "    \n",
    "    # Getting the position of the right class for both strategies.\n",
    "    ranking_a = np.where((1 - A).argsort() == label)[0][0]\n",
    "    ranking_b = np.where((1 - B).argsort() == label)[0][0]\n",
    "\n",
    "    gap = ranking_b - ranking_a\n",
    "    rflip = 1 if gap > 0 else 0\n",
    "\n",
    "    return (rflip, gap)\n",
    "\n",
    "\n",
    "def get_ranking_change(y_true:np.ndarray, \n",
    "                       main_proba:np.ndarray, \n",
    "                       second_proba:np.ndarray) -> tuple:\n",
    "    \n",
    "    main_pred = main_proba.argmax(axis=1)\n",
    "    second_pred = second_proba.argmax(axis=1)\n",
    "\n",
    "    \"\"\"\n",
    "    # Main classifier missed.\n",
    "    A = y_true != main_pred\n",
    "    # Second classifier missed.\n",
    "    B = y_true != second_pred\n",
    "    # Both missed equal.\n",
    "    index = np.logical_and(A, B)\n",
    "    \"\"\"\n",
    "    index = np.arange(y_true.shape[0])\n",
    "\n",
    "    # For each document on both missed.\n",
    "    gaps = []\n",
    "    rflips, rdist = 0, 0, \n",
    "    for label, A_probas, B_probas in zip(y_true[index], main_proba[index], second_proba[index]):\n",
    "        rflip, gap = get_ranking(label, A_probas, B_probas)\n",
    "        rflips += rflip\n",
    "        rdist += gap\n",
    "        if gap != 0:\n",
    "            gaps.append(gap)\n",
    "        \n",
    "    return (rflips, rdist, gaps)"
   ]
  },
  {
   "cell_type": "code",
   "execution_count": 28,
   "metadata": {},
   "outputs": [],
   "source": [
    "STACKING_DIR = \"/home/welton/data/stacking/stacking_output\"\n",
    "LABELS_DIR = \"/home/welton/data/datasets/labels/split_10\"\n",
    "\n",
    "DATASETS = [\"20ng\", \"acm\"]\n",
    "ranking_dict = {}\n",
    "\n",
    "\n",
    "# The first strategie is the main strategy.\n",
    "strategies = [\"calibrated\", \"normal_probas\"]\n",
    "main_strat, second_strat = strategies\n",
    "for dataset in DATASETS:\n",
    "    ranking_dict[dataset] = {}\n",
    "    ranking_dict[dataset][main_strat] = []\n",
    "    ranking_dict[dataset][second_strat] = []\n",
    "    for fold in np.arange(10):\n",
    "        \n",
    "        \n",
    "        main_dir = f\"{STACKING_DIR}/{dataset}/10_folds/logistic_regression/{main_strat}/fold_{fold}\"\n",
    "        main_probas = np.load(f\"{main_dir}/probas.npz\")[\"X_test\"]\n",
    "        main_pred = main_probas.argmax(axis=1)\n",
    "        #main_pred = np.load(f\"{main_dir}/y_pred.npy\")\n",
    "\n",
    "        second_dir = f\"{STACKING_DIR}/{dataset}/10_folds/logistic_regression/{second_strat}/fold_{fold}\"\n",
    "        second_probas = np.load(f\"{second_dir}/probas.npz\")[\"X_test\"]\n",
    "        second_pred = second_probas.argmax(axis=1)\n",
    "        #second_pred = np.load(f\"{second_dir}/y_pred.npy\")\n",
    "\n",
    "        y_true = np.load(f\"{LABELS_DIR}/{dataset}/{fold}/test.npy\")\n",
    "\n",
    "        main_conv = get_miss_convertions(y_true, main_pred, second_pred)\n",
    "        rflips, rgap, gaps = get_ranking_change(y_true, main_probas, second_probas)\n",
    "        ranking_dict[dataset][main_strat].append([fold, main_conv, rflips, rgap, gaps])\n",
    "\n",
    "        second_conv = get_miss_convertions(y_true, second_pred, main_pred)\n",
    "        rflips, rgap, gaps = get_ranking_change(y_true, second_probas, main_probas)\n",
    "        ranking_dict[dataset][second_strat].append([fold, second_conv, rflips, rgap, gaps])\n",
    "\n",
    "        "
   ]
  },
  {
   "cell_type": "code",
   "execution_count": 49,
   "metadata": {},
   "outputs": [
    {
     "data": {
      "text/plain": [
       "[0,\n",
       " 16,\n",
       " 74,\n",
       " 30,\n",
       " [1,\n",
       "  1,\n",
       "  1,\n",
       "  -1,\n",
       "  3,\n",
       "  1,\n",
       "  1,\n",
       "  1,\n",
       "  1,\n",
       "  4,\n",
       "  3,\n",
       "  1,\n",
       "  2,\n",
       "  1,\n",
       "  1,\n",
       "  1,\n",
       "  1,\n",
       "  1,\n",
       "  1,\n",
       "  1,\n",
       "  1,\n",
       "  1,\n",
       "  1,\n",
       "  -1,\n",
       "  1,\n",
       "  1,\n",
       "  1,\n",
       "  -1,\n",
       "  2,\n",
       "  -1,\n",
       "  1,\n",
       "  1,\n",
       "  -1,\n",
       "  2,\n",
       "  1,\n",
       "  -1,\n",
       "  1,\n",
       "  1,\n",
       "  -1,\n",
       "  -1,\n",
       "  1,\n",
       "  1,\n",
       "  -1,\n",
       "  2,\n",
       "  -1,\n",
       "  1,\n",
       "  -1,\n",
       "  1,\n",
       "  1,\n",
       "  -1,\n",
       "  1,\n",
       "  1,\n",
       "  1,\n",
       "  -1,\n",
       "  -1,\n",
       "  1,\n",
       "  -1,\n",
       "  1,\n",
       "  1,\n",
       "  1,\n",
       "  -1,\n",
       "  1,\n",
       "  1,\n",
       "  -1,\n",
       "  1,\n",
       "  1,\n",
       "  1,\n",
       "  -2,\n",
       "  1,\n",
       "  -1,\n",
       "  -1,\n",
       "  1,\n",
       "  -1,\n",
       "  1,\n",
       "  1,\n",
       "  -1,\n",
       "  1,\n",
       "  1,\n",
       "  -1,\n",
       "  -1,\n",
       "  3,\n",
       "  1,\n",
       "  -1,\n",
       "  1,\n",
       "  -1,\n",
       "  -1,\n",
       "  -1,\n",
       "  1,\n",
       "  1,\n",
       "  1,\n",
       "  1,\n",
       "  -1,\n",
       "  -3,\n",
       "  -1,\n",
       "  -1,\n",
       "  -1,\n",
       "  1,\n",
       "  -1,\n",
       "  -1,\n",
       "  -2,\n",
       "  -2,\n",
       "  -4,\n",
       "  -2,\n",
       "  -1,\n",
       "  1,\n",
       "  -1,\n",
       "  1,\n",
       "  1,\n",
       "  1,\n",
       "  -1,\n",
       "  -1,\n",
       "  -1,\n",
       "  1,\n",
       "  2,\n",
       "  -1,\n",
       "  -1,\n",
       "  1,\n",
       "  -1,\n",
       "  -2,\n",
       "  -1,\n",
       "  -1,\n",
       "  2,\n",
       "  -2,\n",
       "  2,\n",
       "  3]]"
      ]
     },
     "execution_count": 49,
     "metadata": {},
     "output_type": "execute_result"
    }
   ],
   "source": [
    "ranking_dict[\"acm\"][\"calibrated\"][0]"
   ]
  },
  {
   "cell_type": "code",
   "execution_count": 62,
   "metadata": {},
   "outputs": [],
   "source": [
    "title_labels = {\n",
    "    \"calibrated\": \"Calibrated\",\n",
    "    \"normal_probas\": \"Not Calibrated\"\n",
    "}"
   ]
  },
  {
   "cell_type": "code",
   "execution_count": 68,
   "metadata": {},
   "outputs": [
    {
     "data": {
      "image/png": "[encoded data removed]",
      "text/plain": [
       "<Figure size 1200x1000 with 4 Axes>"
      ]
     },
     "metadata": {},
     "output_type": "display_data"
    }
   ],
   "source": [
    "import matplotlib.pyplot as plt\n",
    "\n",
    "plt.figure(figsize=(12,10))\n",
    "plt_idx = 1\n",
    "for dataset in ranking_dict:\n",
    "    for strategy in ranking_dict[dataset]:\n",
    "        gaps = np.hstack([ fold[4] for fold in ranking_dict[dataset][strategy] ]).reshape(-1)\n",
    "        gap_counts = pd.Series(gaps).value_counts()\n",
    "        x = sorted(list(gap_counts.keys()))\n",
    "        y = [ gap_counts[key] for key in x ]\n",
    "        plt.subplot(2, 2, plt_idx)\n",
    "        plt.bar(x, y)\n",
    "        _ = plt.xticks(ticks=x, labels=x)\n",
    "        plt.title(f\"{dataset.upper()} / {title_labels[strategy]}\")\n",
    "        plt.xlabel(\"Class advancement in ranking\")\n",
    "        plt.ylabel(\"Number of Documents\")\n",
    "        plt_idx += 1\n",
    "plt.tight_layout()\n",
    "        "
   ]
  },
  {
   "cell_type": "code",
   "execution_count": 59,
   "metadata": {},
   "outputs": [
    {
     "data": {
      "text/plain": [
       "([-4, -3, -2, -1, 1, 2, 3, 4, 6, 7], [4, 16, 80, 579, 439, 57, 13, 6, 2, 1])"
      ]
     },
     "execution_count": 59,
     "metadata": {},
     "output_type": "execute_result"
    }
   ],
   "source": [
    "x, y"
   ]
  },
  {
   "cell_type": "code",
   "execution_count": 31,
   "metadata": {},
   "outputs": [
    {
     "name": "stderr",
     "output_type": "stream",
     "text": [
      "/tmp/ipykernel_475683/482307758.py:1: VisibleDeprecationWarning: Creating an ndarray from ragged nested sequences (which is a list-or-tuple of lists-or-tuples-or ndarrays with different lengths or shapes) is deprecated. If you meant to do this, you must specify 'dtype=object' when creating the ndarray.\n",
      "  np.sum(np.array(ranking_dict[\"20ng\"][\"calibrated\"])[:, [1,2,3]], axis=0)\n"
     ]
    },
    {
     "data": {
      "text/plain": [
       "array([97, 305, -156], dtype=object)"
      ]
     },
     "execution_count": 31,
     "metadata": {},
     "output_type": "execute_result"
    }
   ],
   "source": [
    "np.sum(np.array(ranking_dict[\"20ng\"][\"calibrated\"])[:, [1,2,3]], axis=0)"
   ]
  },
  {
   "cell_type": "code",
   "execution_count": 32,
   "metadata": {},
   "outputs": [
    {
     "name": "stderr",
     "output_type": "stream",
     "text": [
      "/tmp/ipykernel_475683/1729898421.py:1: VisibleDeprecationWarning: Creating an ndarray from ragged nested sequences (which is a list-or-tuple of lists-or-tuples-or ndarrays with different lengths or shapes) is deprecated. If you meant to do this, you must specify 'dtype=object' when creating the ndarray.\n",
      "  (np.sum(np.array(ranking_dict[\"20ng\"][\"calibrated\"])[:, [1,2,3]], axis=0) / 18846) * 100\n"
     ]
    },
    {
     "data": {
      "text/plain": [
       "array([0.5146980791679933, 1.6183805582086386, -0.8277618592804838],\n",
       "      dtype=object)"
      ]
     },
     "execution_count": 32,
     "metadata": {},
     "output_type": "execute_result"
    }
   ],
   "source": [
    "(np.sum(np.array(ranking_dict[\"20ng\"][\"calibrated\"])[:, [1,2,3]], axis=0) / 18846) * 100"
   ]
  },
  {
   "cell_type": "code",
   "execution_count": 33,
   "metadata": {},
   "outputs": [
    {
     "name": "stderr",
     "output_type": "stream",
     "text": [
      "/tmp/ipykernel_475683/38433033.py:1: VisibleDeprecationWarning: Creating an ndarray from ragged nested sequences (which is a list-or-tuple of lists-or-tuples-or ndarrays with different lengths or shapes) is deprecated. If you meant to do this, you must specify 'dtype=object' when creating the ndarray.\n",
      "  np.sum(np.array(ranking_dict[\"20ng\"][\"normal_probas\"])[:, [1,2,3]], axis=0)\n"
     ]
    },
    {
     "data": {
      "text/plain": [
       "array([126, 377, 156], dtype=object)"
      ]
     },
     "execution_count": 33,
     "metadata": {},
     "output_type": "execute_result"
    }
   ],
   "source": [
    "np.sum(np.array(ranking_dict[\"20ng\"][\"normal_probas\"])[:, [1,2,3]], axis=0)"
   ]
  },
  {
   "cell_type": "code",
   "execution_count": 34,
   "metadata": {},
   "outputs": [
    {
     "name": "stderr",
     "output_type": "stream",
     "text": [
      "/tmp/ipykernel_475683/50092818.py:1: VisibleDeprecationWarning: Creating an ndarray from ragged nested sequences (which is a list-or-tuple of lists-or-tuples-or ndarrays with different lengths or shapes) is deprecated. If you meant to do this, you must specify 'dtype=object' when creating the ndarray.\n",
      "  (np.sum(np.array(ranking_dict[\"20ng\"][\"normal_probas\"])[:, [1,2,3]], axis=0) / 18846) * 100\n"
     ]
    },
    {
     "data": {
      "text/plain": [
       "array([0.6685768863419294, 2.0004244932611694, 0.8277618592804838],\n",
       "      dtype=object)"
      ]
     },
     "execution_count": 34,
     "metadata": {},
     "output_type": "execute_result"
    }
   ],
   "source": [
    "(np.sum(np.array(ranking_dict[\"20ng\"][\"normal_probas\"])[:, [1,2,3]], axis=0) / 18846) * 100"
   ]
  },
  {
   "cell_type": "code",
   "execution_count": 35,
   "metadata": {},
   "outputs": [
    {
     "name": "stderr",
     "output_type": "stream",
     "text": [
      "/tmp/ipykernel_475683/2034122316.py:1: VisibleDeprecationWarning: Creating an ndarray from ragged nested sequences (which is a list-or-tuple of lists-or-tuples-or ndarrays with different lengths or shapes) is deprecated. If you meant to do this, you must specify 'dtype=object' when creating the ndarray.\n",
      "  np.sum(np.array(ranking_dict[\"acm\"][\"calibrated\"])[:, [1,2,3]], axis=0)\n"
     ]
    },
    {
     "data": {
      "text/plain": [
       "array([182, 679, 168], dtype=object)"
      ]
     },
     "execution_count": 35,
     "metadata": {},
     "output_type": "execute_result"
    }
   ],
   "source": [
    "np.sum(np.array(ranking_dict[\"acm\"][\"calibrated\"])[:, [1,2,3]], axis=0)"
   ]
  },
  {
   "cell_type": "code",
   "execution_count": 36,
   "metadata": {},
   "outputs": [
    {
     "name": "stderr",
     "output_type": "stream",
     "text": [
      "/tmp/ipykernel_475683/204622567.py:1: VisibleDeprecationWarning: Creating an ndarray from ragged nested sequences (which is a list-or-tuple of lists-or-tuples-or ndarrays with different lengths or shapes) is deprecated. If you meant to do this, you must specify 'dtype=object' when creating the ndarray.\n",
      "  (np.sum(np.array(ranking_dict[\"acm\"][\"calibrated\"])[:, [1,2,3]], axis=0) / 24897) * 100\n"
     ]
    },
    {
     "data": {
      "text/plain": [
       "array([0.731011768486163, 2.727236213198377, 0.6747800939872274],\n",
       "      dtype=object)"
      ]
     },
     "execution_count": 36,
     "metadata": {},
     "output_type": "execute_result"
    }
   ],
   "source": [
    "(np.sum(np.array(ranking_dict[\"acm\"][\"calibrated\"])[:, [1,2,3]], axis=0) / 24897) * 100"
   ]
  },
  {
   "cell_type": "code",
   "execution_count": 37,
   "metadata": {},
   "outputs": [
    {
     "name": "stderr",
     "output_type": "stream",
     "text": [
      "/tmp/ipykernel_475683/3035203466.py:1: VisibleDeprecationWarning: Creating an ndarray from ragged nested sequences (which is a list-or-tuple of lists-or-tuples-or ndarrays with different lengths or shapes) is deprecated. If you meant to do this, you must specify 'dtype=object' when creating the ndarray.\n",
      "  np.sum(np.array(ranking_dict[\"acm\"][\"normal_probas\"])[:, [1,2,3]], axis=0)\n"
     ]
    },
    {
     "data": {
      "text/plain": [
       "array([162, 518, -168], dtype=object)"
      ]
     },
     "execution_count": 37,
     "metadata": {},
     "output_type": "execute_result"
    }
   ],
   "source": [
    "np.sum(np.array(ranking_dict[\"acm\"][\"normal_probas\"])[:, [1,2,3]], axis=0)"
   ]
  },
  {
   "cell_type": "code",
   "execution_count": 38,
   "metadata": {},
   "outputs": [
    {
     "name": "stderr",
     "output_type": "stream",
     "text": [
      "/tmp/ipykernel_475683/4087422606.py:1: VisibleDeprecationWarning: Creating an ndarray from ragged nested sequences (which is a list-or-tuple of lists-or-tuples-or ndarrays with different lengths or shapes) is deprecated. If you meant to do this, you must specify 'dtype=object' when creating the ndarray.\n",
      "  (np.sum(np.array(ranking_dict[\"acm\"][\"normal_probas\"])[:, [1,2,3]], axis=0) / 24897) * 100\n"
     ]
    },
    {
     "data": {
      "text/plain": [
       "array([0.650680804916255, 2.0805719564606178, -0.6747800939872274],\n",
       "      dtype=object)"
      ]
     },
     "execution_count": 38,
     "metadata": {},
     "output_type": "execute_result"
    }
   ],
   "source": [
    "(np.sum(np.array(ranking_dict[\"acm\"][\"normal_probas\"])[:, [1,2,3]], axis=0) / 24897) * 100"
   ]
  },
  {
   "cell_type": "code",
   "execution_count": null,
   "metadata": {},
   "outputs": [],
   "source": []
  }
 ],
 "metadata": {
  "kernelspec": {
   "display_name": ".env",
   "language": "python",
   "name": "python3"
  },
  "language_info": {
   "codemirror_mode": {
    "name": "ipython",
    "version": 3
   },
   "file_extension": ".py",
   "mimetype": "text/x-python",
   "name": "python",
   "nbconvert_exporter": "python",
   "pygments_lexer": "ipython3",
   "version": "3.8.10"
  },
  "orig_nbformat": 4,
  "vscode": {
   "interpreter": {
    "hash": "f3135864b85fc339145ed731976b9bcbd775d49eba38ad5ba8da470ad91643c0"
   }
  }
 },
 "nbformat": 4,
 "nbformat_minor": 2
}
