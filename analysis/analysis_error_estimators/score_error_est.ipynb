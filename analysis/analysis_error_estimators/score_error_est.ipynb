{
 "cells": [
  {
   "cell_type": "code",
   "execution_count": 3,
   "metadata": {},
   "outputs": [],
   "source": [
    "import json\n",
    "import numpy as np"
   ]
  },
  {
   "cell_type": "code",
   "execution_count": 4,
   "metadata": {},
   "outputs": [],
   "source": [
    "DATASETS = [\"20ng\", \"acm\"]\n",
    "\n",
    "#CLFS = [\"kpr\", \"ktr\", \"lpr\", \"ltr\", \"sfr\", \"stmk\", \"xfr\", \"xpr\", \"xtr\", \"kfr\", \"ktmk\", \"lfr\", \"ltmk\", \"spr\", \"str\", \"xlnet_softmax\", \"xtmk\", \"rep_bert\"]\n",
    "CLFS = [\n",
    "        [\"bert\", \"temperature_scaling\", \"bert_temperature_scaling/ktmk_isotonic/xlnet_temperature_scaling\"],\n",
    "        [\"bert\", \"normal_probas\", \"bert_normal_probas/ktmk_normal_probas/xlnet_normal_probas\"],\n",
    "        [\"xlnet\", \"temperature_scaling\", \"bert_temperature_scaling/ktmk_isotonic/xlnet_temperature_scaling\"],\n",
    "        [\"xlnet\", \"normal_probas\", \"bert_normal_probas/ktmk_normal_probas/xlnet_normal_probas\"],\n",
    "        [\"ktmk\", \"isotonic\", \"bert_temperature_scaling/ktmk_isotonic/xlnet_temperature_scaling\"],\n",
    "        [\"ktmk\", \"normal_probas\", \"bert_normal_probas/ktmk_normal_probas/xlnet_normal_probas\"],\n",
    "]\n",
    "\n",
    "feature_set = '_'.join(sorted([\"probas\", \"dist\", \"probas_based\"]))"
   ]
  },
  {
   "cell_type": "code",
   "execution_count": 6,
   "metadata": {},
   "outputs": [
    {
     "name": "stdout",
     "output_type": "stream",
     "text": [
      "dist_probas_probas_based;20ng;bert-temperature_scaling;79.60;70.13;74.46;94.02;30.00;0.00\n",
      "dist_probas_probas_based;20ng;bert-normal_probas;81.15;65.60;72.44;93.80;30.00;0.00\n",
      "dist_probas_probas_based;20ng;xlnet-temperature_scaling;80.10;73.20;76.41;94.15;30.00;0.00\n",
      "dist_probas_probas_based;20ng;xlnet-normal_probas;82.32;69.73;75.44;94.11;30.00;0.00\n",
      "dist_probas_probas_based;20ng;ktmk-isotonic;75.10;62.64;68.23;94.27;30.00;0.00\n",
      "dist_probas_probas_based;20ng;ktmk-normal_probas;73.25;59.52;65.53;94.00;30.00;0.00\n",
      "dist_probas_probas_based;acm;bert-temperature_scaling;68.99;54.28;60.71;85.43;30.00;0.00\n",
      "dist_probas_probas_based;acm;bert-normal_probas;71.10;48.66;57.76;85.23;30.00;0.00\n",
      "dist_probas_probas_based;acm;xlnet-temperature_scaling;68.18;56.92;61.99;85.32;30.00;0.00\n",
      "dist_probas_probas_based;acm;xlnet-normal_probas;70.36;52.59;60.18;85.36;30.00;0.00\n",
      "dist_probas_probas_based;acm;ktmk-isotonic;70.69;60.64;65.26;85.86;30.00;0.00\n",
      "dist_probas_probas_based;acm;ktmk-normal_probas;71.85;59.93;65.33;86.04;30.00;0.00\n"
     ]
    }
   ],
   "source": [
    "for dataset in DATASETS:\n",
    "    for clf, proba_type, support in CLFS:\n",
    "        scores = []\n",
    "        n_feats = []\n",
    "        for fold in np.arange(10):\n",
    "            source_dir = f\"/home/welton/data/oracle/local_rf/{proba_type}/{dataset}/10_folds/{clf}/{support}/{feature_set}/{fold}\"\n",
    "            with open(f\"{source_dir}/scoring.json\") as fd:\n",
    "                scoring = json.load(fd)\n",
    "            scores.append([scoring[\"precision\"], scoring[\"recall\"], scoring[\"f1_macro\"], scoring[\"accuracy\"]])\n",
    "\n",
    "            with open(f\"{source_dir}/fs.json\") as fd:\n",
    "                feats = json.load(fd)\n",
    "            n_feats.append(feats[\"best_feats\"])\n",
    "        means = np.mean(scores, axis=0)\n",
    "        mean_feats = np.mean(n_feats)\n",
    "        std_feats = np.std(n_feats)\n",
    "        print(f\"{feature_set};{dataset};{clf}-{proba_type};{means[0]:.2f};{means[1]:.2f};{means[2]:.2f};{means[3]:.2f};{mean_feats:.2f};{std_feats:.2f}\")"
   ]
  },
  {
   "cell_type": "code",
   "execution_count": 5,
   "metadata": {},
   "outputs": [
    {
     "ename": "SyntaxError",
     "evalue": "invalid syntax (1186201246.py, line 1)",
     "output_type": "error",
     "traceback": [
      "\u001b[0;36m  Cell \u001b[0;32mIn [5], line 1\u001b[0;36m\u001b[0m\n\u001b[0;31m    home/welton/data/oracle/local_gbm/0/normal_probas/20ng/10_folds/bert/dist_probas_probas_based/0()\u001b[0m\n\u001b[0m                                                        ^\u001b[0m\n\u001b[0;31mSyntaxError\u001b[0m\u001b[0;31m:\u001b[0m invalid syntax\n"
     ]
    }
   ],
   "source": [
    "/home/welton/data/oracle/local_gbm/0/normal_probas/20ng/10_folds/bert/dist_probas_probas_based/0\n",
    "/home/welton/data/oracle/local_gbm/0/temperature_scaling/20ng/10_folds/bert/dist_probas_probas_based/0/scoring.json"
   ]
  },
  {
   "cell_type": "code",
   "execution_count": 6,
   "metadata": {},
   "outputs": [
    {
     "data": {
      "text/plain": [
       "array([1., 2., 3.])"
      ]
     },
     "execution_count": 6,
     "metadata": {},
     "output_type": "execute_result"
    }
   ],
   "source": [
    "np.mean(\n",
    "    [\n",
    "        [1,2,3],\n",
    "        [1,2,3],\n",
    "        [1,2,3],\n",
    "        [1,2,3]\n",
    "    ],\n",
    "axis=0)"
   ]
  },
  {
   "cell_type": "code",
   "execution_count": 8,
   "metadata": {},
   "outputs": [],
   "source": [
    "X = np.load(\"/home/welton/data/representations/webkb/10_folds/fr/0/train.npz\", allow_pickle=True)"
   ]
  },
  {
   "cell_type": "code",
   "execution_count": 9,
   "metadata": {},
   "outputs": [
    {
     "data": {
      "text/plain": [
       "['X_train', 'y_train']"
      ]
     },
     "execution_count": 9,
     "metadata": {},
     "output_type": "execute_result"
    }
   ],
   "source": [
    "list(X.keys())"
   ]
  },
  {
   "cell_type": "code",
   "execution_count": 13,
   "metadata": {},
   "outputs": [
    {
     "ename": "AttributeError",
     "evalue": "'numpy.ndarray' object has no attribute 'toarray'",
     "output_type": "error",
     "traceback": [
      "\u001b[0;31m---------------------------------------------------------------------------\u001b[0m",
      "\u001b[0;31mAttributeError\u001b[0m                            Traceback (most recent call last)",
      "Cell \u001b[0;32mIn [13], line 1\u001b[0m\n\u001b[0;32m----> 1\u001b[0m X[\u001b[39m\"\u001b[39;49m\u001b[39mX_train\u001b[39;49m\u001b[39m\"\u001b[39;49m]\u001b[39m.\u001b[39;49mtoarray()\n",
      "\u001b[0;31mAttributeError\u001b[0m: 'numpy.ndarray' object has no attribute 'toarray'"
     ]
    }
   ],
   "source": [
    "X[\"X_train\"].toarray()"
   ]
  },
  {
   "cell_type": "code",
   "execution_count": 14,
   "metadata": {},
   "outputs": [],
   "source": [
    "from scipy.sparse import csr_matrix"
   ]
  },
  {
   "cell_type": "code",
   "execution_count": 25,
   "metadata": {},
   "outputs": [
    {
     "data": {
      "text/plain": [
       "(7376, 300)"
      ]
     },
     "execution_count": 25,
     "metadata": {},
     "output_type": "execute_result"
    }
   ],
   "source": [
    "X[\"X_train\"].shape"
   ]
  },
  {
   "cell_type": "code",
   "execution_count": 34,
   "metadata": {},
   "outputs": [],
   "source": [
    "x = np.load(\"/home/welton/data/calibrated_probabilities/split_10/webkb/10_folds/lfr/0/test.npz\")[\"X_test\"]"
   ]
  },
  {
   "cell_type": "code",
   "execution_count": 35,
   "metadata": {},
   "outputs": [
    {
     "data": {
      "text/plain": [
       "(823, 2)"
      ]
     },
     "execution_count": 35,
     "metadata": {},
     "output_type": "execute_result"
    }
   ],
   "source": [
    "x.shape"
   ]
  },
  {
   "cell_type": "code",
   "execution_count": 36,
   "metadata": {},
   "outputs": [
    {
     "data": {
      "text/plain": [
       "array([[7.38429055e-03, 9.92615709e-01],\n",
       "       [9.99999807e-01, 1.92551619e-07],\n",
       "       [9.71442759e-01, 2.85572411e-02],\n",
       "       ...,\n",
       "       [2.50854584e-07, 9.99999749e-01],\n",
       "       [1.19152202e-01, 8.80847798e-01],\n",
       "       [3.29883504e-04, 9.99670116e-01]])"
      ]
     },
     "execution_count": 36,
     "metadata": {},
     "output_type": "execute_result"
    }
   ],
   "source": [
    "x"
   ]
  },
  {
   "cell_type": "code",
   "execution_count": null,
   "metadata": {},
   "outputs": [],
   "source": []
  }
 ],
 "metadata": {
  "kernelspec": {
   "display_name": ".env",
   "language": "python",
   "name": "python3"
  },
  "language_info": {
   "codemirror_mode": {
    "name": "ipython",
    "version": 3
   },
   "file_extension": ".py",
   "mimetype": "text/x-python",
   "name": "python",
   "nbconvert_exporter": "python",
   "pygments_lexer": "ipython3",
   "version": "3.8.10"
  },
  "orig_nbformat": 4,
  "vscode": {
   "interpreter": {
    "hash": "f3135864b85fc339145ed731976b9bcbd775d49eba38ad5ba8da470ad91643c0"
   }
  }
 },
 "nbformat": 4,
 "nbformat_minor": 2
}
