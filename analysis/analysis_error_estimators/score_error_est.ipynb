{
 "cells": [
  {
   "cell_type": "code",
   "execution_count": 28,
   "metadata": {},
   "outputs": [],
   "source": [
    "import json\n",
    "import numpy as np"
   ]
  },
  {
   "cell_type": "code",
   "execution_count": 3,
   "metadata": {},
   "outputs": [],
   "source": [
    "DATASETS = [\"webkb\"]\n",
    "\n",
    "CLFS = [\"kpr\", \"ktr\", \"lpr\", \"ltr\", \"sfr\", \"stmk\", \"xfr\", \"xpr\", \"xtr\", \"kfr\",\n",
    "            \"ktmk\", \"lfr\", \"ltmk\", \"spr\", \"str\", \"xlnet_softmax\", \"xtmk\", \"rep_bert\"]"
   ]
  },
  {
   "cell_type": "code",
   "execution_count": 18,
   "metadata": {},
   "outputs": [
    {
     "name": "stdout",
     "output_type": "stream",
     "text": [
      "kpr;81.71;80.77;81.15;89.72;39.10;22.15\n",
      "ktr;80.63;79.55;80.02;90.15;45.30;18.05\n",
      "lpr;83.15;82.10;82.59;90.15;38.10;14.43\n",
      "ltr;70.31;65.36;67.61;89.17;41.40;15.41\n",
      "sfr;78.98;77.74;78.34;89.60;34.70;15.96\n",
      "stmk;78.20;75.89;76.96;89.76;39.80;13.30\n",
      "xfr;79.57;77.81;78.64;89.72;32.60;12.08\n",
      "xpr;75.43;74.44;74.86;89.32;40.80;16.36\n",
      "xtr;68.57;64.53;66.36;89.32;50.60;31.72\n",
      "kfr;78.84;75.55;77.03;89.74;42.40;31.55\n",
      "ktmk;77.60;78.21;77.84;89.89;35.20;11.18\n",
      "lfr;78.12;76.06;77.00;89.43;42.30;16.88\n",
      "ltmk;77.89;75.94;76.86;89.80;49.30;22.74\n",
      "spr;82.81;82.13;82.43;89.98;41.60;17.46\n",
      "str;71.18;68.92;69.93;88.99;45.30;23.75\n",
      "xlnet_softmax;65.74;62.18;63.73;89.15;40.60;18.11\n",
      "xtmk;74.38;73.23;73.64;89.30;36.20;11.21\n",
      "rep_bert;54.87;42.19;47.23;88.99;38.70;18.65\n"
     ]
    }
   ],
   "source": [
    "for dataset in DATASETS:\n",
    "    for clf in CLFS:\n",
    "        scores = []\n",
    "        n_feats = []\n",
    "        for fold in np.arange(10):\n",
    "            with open(f\"/home/welton/data/oracle/local_gbm_75/{dataset}/{clf}/{fold}/scoring.json\") as fd:\n",
    "                scoring = json.load(fd)\n",
    "            scores.append([scoring[\"precision\"], scoring[\"recall\"], scoring[\"f1_macro\"], scoring[\"accuracy\"]])\n",
    "\n",
    "            with open(f\"/home/welton/data/oracle/local_gbm_75/{dataset}/{clf}/{fold}/fs.json\") as fd:\n",
    "                feats = json.load(fd)\n",
    "            n_feats.append(feats[\"best_feats\"])\n",
    "        means = np.mean(scores, axis=0)\n",
    "        mean_feats = np.mean(n_feats)\n",
    "        std_feats = np.std(n_feats)\n",
    "        print(f\"{clf};{means[0]:.2f};{means[1]:.2f};{means[2]:.2f};{means[3]:.2f};{mean_feats:.2f};{std_feats:.2f}\")"
   ]
  },
  {
   "cell_type": "code",
   "execution_count": 19,
   "metadata": {},
   "outputs": [
    {
     "data": {
      "text/plain": [
       "array([1., 2., 3.])"
      ]
     },
     "execution_count": 19,
     "metadata": {},
     "output_type": "execute_result"
    }
   ],
   "source": [
    "np.mean(\n",
    "    [\n",
    "        [1,2,3],\n",
    "        [1,2,3],\n",
    "        [1,2,3],\n",
    "        [1,2,3]\n",
    "    ],\n",
    "axis=0)"
   ]
  },
  {
   "cell_type": "code",
   "execution_count": 8,
   "metadata": {},
   "outputs": [],
   "source": [
    "X = np.load(\"/home/welton/data/representations/webkb/10_folds/fr/0/train.npz\", allow_pickle=True)"
   ]
  },
  {
   "cell_type": "code",
   "execution_count": 9,
   "metadata": {},
   "outputs": [
    {
     "data": {
      "text/plain": [
       "['X_train', 'y_train']"
      ]
     },
     "execution_count": 9,
     "metadata": {},
     "output_type": "execute_result"
    }
   ],
   "source": [
    "list(X.keys())"
   ]
  },
  {
   "cell_type": "code",
   "execution_count": 13,
   "metadata": {},
   "outputs": [
    {
     "ename": "AttributeError",
     "evalue": "'numpy.ndarray' object has no attribute 'toarray'",
     "output_type": "error",
     "traceback": [
      "\u001b[0;31m---------------------------------------------------------------------------\u001b[0m",
      "\u001b[0;31mAttributeError\u001b[0m                            Traceback (most recent call last)",
      "Cell \u001b[0;32mIn [13], line 1\u001b[0m\n\u001b[0;32m----> 1\u001b[0m X[\u001b[39m\"\u001b[39;49m\u001b[39mX_train\u001b[39;49m\u001b[39m\"\u001b[39;49m]\u001b[39m.\u001b[39;49mtoarray()\n",
      "\u001b[0;31mAttributeError\u001b[0m: 'numpy.ndarray' object has no attribute 'toarray'"
     ]
    }
   ],
   "source": [
    "X[\"X_train\"].toarray()"
   ]
  },
  {
   "cell_type": "code",
   "execution_count": 14,
   "metadata": {},
   "outputs": [],
   "source": [
    "from scipy.sparse import csr_matrix"
   ]
  },
  {
   "cell_type": "code",
   "execution_count": 25,
   "metadata": {},
   "outputs": [
    {
     "data": {
      "text/plain": [
       "(7376, 300)"
      ]
     },
     "execution_count": 25,
     "metadata": {},
     "output_type": "execute_result"
    }
   ],
   "source": [
    "X[\"X_train\"].shape"
   ]
  },
  {
   "cell_type": "code",
   "execution_count": 34,
   "metadata": {},
   "outputs": [],
   "source": [
    "x = np.load(\"/home/welton/data/calibrated_probabilities/split_10/webkb/10_folds/lfr/0/test.npz\")[\"X_test\"]"
   ]
  },
  {
   "cell_type": "code",
   "execution_count": 35,
   "metadata": {},
   "outputs": [
    {
     "data": {
      "text/plain": [
       "(823, 2)"
      ]
     },
     "execution_count": 35,
     "metadata": {},
     "output_type": "execute_result"
    }
   ],
   "source": [
    "x.shape"
   ]
  },
  {
   "cell_type": "code",
   "execution_count": 36,
   "metadata": {},
   "outputs": [
    {
     "data": {
      "text/plain": [
       "array([[7.38429055e-03, 9.92615709e-01],\n",
       "       [9.99999807e-01, 1.92551619e-07],\n",
       "       [9.71442759e-01, 2.85572411e-02],\n",
       "       ...,\n",
       "       [2.50854584e-07, 9.99999749e-01],\n",
       "       [1.19152202e-01, 8.80847798e-01],\n",
       "       [3.29883504e-04, 9.99670116e-01]])"
      ]
     },
     "execution_count": 36,
     "metadata": {},
     "output_type": "execute_result"
    }
   ],
   "source": [
    "x"
   ]
  },
  {
   "cell_type": "code",
   "execution_count": null,
   "metadata": {},
   "outputs": [],
   "source": []
  }
 ],
 "metadata": {
  "kernelspec": {
   "display_name": ".env",
   "language": "python",
   "name": "python3"
  },
  "language_info": {
   "codemirror_mode": {
    "name": "ipython",
    "version": 3
   },
   "file_extension": ".py",
   "mimetype": "text/x-python",
   "name": "python",
   "nbconvert_exporter": "python",
   "pygments_lexer": "ipython3",
   "version": "3.8.10"
  },
  "orig_nbformat": 4,
  "vscode": {
   "interpreter": {
    "hash": "f3135864b85fc339145ed731976b9bcbd775d49eba38ad5ba8da470ad91643c0"
   }
  }
 },
 "nbformat": 4,
 "nbformat_minor": 2
}
