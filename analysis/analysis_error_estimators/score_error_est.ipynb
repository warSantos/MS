{
 "cells": [
  {
   "cell_type": "code",
   "execution_count": 4,
   "metadata": {},
   "outputs": [],
   "source": [
    "import json\n",
    "import numpy as np"
   ]
  },
  {
   "cell_type": "code",
   "execution_count": 5,
   "metadata": {},
   "outputs": [],
   "source": [
    "DATASETS = [\"acm\", \"20ng\"]\n",
    "\n",
    "SET_CALIB = [\n",
    "    [\"bert\",\"temperature_scaling\"],\n",
    "    [\"xlnet\",\"temperature_scaling\"],\n",
    "    [\"ktmk\",\"isotonic\"],\n",
    "    [\"ktr\",\"isotonic\"],\n",
    "    [\"lstmk\",\"isotonic\"],\n",
    "    [\"lstr\",\"isotonic\"],\n",
    "    [\"ltr\",\"isotonic\"]\n",
    "]\n",
    "\n",
    "SET_NORMAL = [\n",
    "    [\"bert\",\"normal_probas\"],\n",
    "    [\"xlnet\",\"normal_probas\"],\n",
    "    [\"ktmk\",\"normal_probas\"],\n",
    "    [\"ktr\",\"normal_probas\"],\n",
    "    [\"lstmk\",\"normal_probas\"],\n",
    "    [\"lstr\",\"normal_probas\"],\n",
    "    [\"ltr\",\"normal_probas\"]\n",
    "]\n",
    "ptype = \"normal\"\n",
    "\n",
    "clfs_stack = '/'.join(sorted([f\"{clf}_{proba_type}\" for clf, proba_type in SET_NORMAL ]))\n",
    "CLFS = [ [setup[0], setup[1], clfs_stack ] for setup in SET_NORMAL ]\n",
    "\n",
    "clfs_stack = '/'.join(sorted([f\"{clf}_{proba_type}\" for clf, proba_type in SET_CALIB ]))\n",
    "CLFS += [ [setup[0], setup[1], clfs_stack ] for setup in SET_CALIB ]\n",
    "\n",
    "feature_set = '_'.join(sorted([\"centroids-ratios\", \"probas\", \"dist-20\", \"probas-based\", \"neigborhood\"]))"
   ]
  },
  {
   "cell_type": "code",
   "execution_count": 6,
   "metadata": {},
   "outputs": [
    {
     "name": "stdout",
     "output_type": "stream",
     "text": [
      "centroids-ratios_dist-20_neigborhood_probas_probas-based;acm;bert-normal_probas;63.35;63.33;63.22;84.74;100.00;0.00\n",
      "centroids-ratios_dist-20_neigborhood_probas_probas-based;acm;xlnet-normal_probas;63.96;65.07;64.41;84.89;100.00;0.00\n",
      "centroids-ratios_dist-20_neigborhood_probas_probas-based;acm;ktmk-normal_probas;68.47;64.00;66.07;85.57;100.00;0.00\n",
      "centroids-ratios_dist-20_neigborhood_probas_probas-based;acm;ktr-normal_probas;74.47;74.49;74.41;86.45;100.00;0.00\n",
      "centroids-ratios_dist-20_neigborhood_probas_probas-based;acm;lstmk-normal_probas;65.73;61.31;63.35;84.92;100.00;0.00\n",
      "centroids-ratios_dist-20_neigborhood_probas_probas-based;acm;lstr-normal_probas;67.71;66.73;67.09;85.32;100.00;0.00\n",
      "centroids-ratios_dist-20_neigborhood_probas_probas-based;acm;ltr-normal_probas;71.15;70.34;70.65;85.99;100.00;0.00\n",
      "centroids-ratios_dist-20_neigborhood_probas_probas-based;acm;bert-temperature_scaling;62.99;64.75;63.77;84.74;100.00;0.00\n",
      "centroids-ratios_dist-20_neigborhood_probas_probas-based;acm;xlnet-temperature_scaling;63.90;66.11;64.89;84.96;100.00;0.00\n",
      "centroids-ratios_dist-20_neigborhood_probas_probas-based;acm;ktmk-isotonic;68.85;63.46;65.98;85.67;100.00;0.00\n",
      "centroids-ratios_dist-20_neigborhood_probas_probas-based;acm;ktr-isotonic;70.59;72.16;71.30;85.73;100.00;0.00\n",
      "centroids-ratios_dist-20_neigborhood_probas_probas-based;acm;lstmk-isotonic;67.69;61.86;64.54;85.21;100.00;0.00\n",
      "centroids-ratios_dist-20_neigborhood_probas_probas-based;acm;lstr-isotonic;68.17;66.69;67.37;85.54;100.00;0.00\n",
      "centroids-ratios_dist-20_neigborhood_probas_probas-based;acm;ltr-isotonic;68.87;69.42;69.09;85.52;100.00;0.00\n",
      "centroids-ratios_dist-20_neigborhood_probas_probas-based;20ng;bert-normal_probas;75.46;72.63;73.89;93.63;100.00;0.00\n",
      "centroids-ratios_dist-20_neigborhood_probas_probas-based;20ng;xlnet-normal_probas;76.83;73.15;74.81;93.63;100.00;0.00\n",
      "centroids-ratios_dist-20_neigborhood_probas_probas-based;20ng;ktmk-normal_probas;73.27;59.78;65.71;94.04;100.00;0.00\n",
      "centroids-ratios_dist-20_neigborhood_probas_probas-based;20ng;ktr-normal_probas;79.85;81.60;80.66;93.68;100.00;0.00\n",
      "centroids-ratios_dist-20_neigborhood_probas_probas-based;20ng;lstmk-normal_probas;76.61;46.45;57.56;93.38;100.00;0.00\n",
      "centroids-ratios_dist-20_neigborhood_probas_probas-based;20ng;lstr-normal_probas;74.74;64.89;69.32;93.43;100.00;0.00\n",
      "centroids-ratios_dist-20_neigborhood_probas_probas-based;20ng;ltr-normal_probas;74.16;72.82;73.41;93.39;100.00;0.00\n",
      "centroids-ratios_dist-20_neigborhood_probas_probas-based;20ng;bert-temperature_scaling;74.58;73.33;73.78;93.53;100.00;0.00\n",
      "centroids-ratios_dist-20_neigborhood_probas_probas-based;20ng;xlnet-temperature_scaling;75.69;73.96;74.73;93.53;100.00;0.00\n",
      "centroids-ratios_dist-20_neigborhood_probas_probas-based;20ng;ktmk-isotonic;72.77;59.94;65.51;93.82;100.00;0.00\n",
      "centroids-ratios_dist-20_neigborhood_probas_probas-based;20ng;ktr-isotonic;81.30;79.76;80.42;93.90;100.00;0.00\n",
      "centroids-ratios_dist-20_neigborhood_probas_probas-based;20ng;lstmk-isotonic;78.34;55.22;64.53;93.79;100.00;0.00\n",
      "centroids-ratios_dist-20_neigborhood_probas_probas-based;20ng;lstr-isotonic;77.79;65.80;71.25;93.61;100.00;0.00\n",
      "centroids-ratios_dist-20_neigborhood_probas_probas-based;20ng;ltr-isotonic;80.01;76.10;77.84;93.82;100.00;0.00\n"
     ]
    }
   ],
   "source": [
    "for dataset in DATASETS:\n",
    "    for clf, proba_type, support in CLFS:\n",
    "        scores = []\n",
    "        n_feats = []\n",
    "        for fold in np.arange(10):\n",
    "            source_dir = f\"/home/welton/data/oracle/error_detection/{proba_type}/{dataset}/10_folds/{clf}/{support}/{feature_set}/{fold}\"\n",
    "            with open(f\"{source_dir}/scoring.json\") as fd:\n",
    "                scoring = json.load(fd)\n",
    "            scores.append([scoring[\"precision\"], scoring[\"recall\"], scoring[\"f1_macro\"], scoring[\"accuracy\"]])\n",
    "\n",
    "            with open(f\"{source_dir}/fs.json\") as fd:\n",
    "                feats = json.load(fd)\n",
    "            n_feats.append(feats[\"best_feats\"])\n",
    "        means = np.mean(scores, axis=0)\n",
    "        mean_feats = np.mean(n_feats)\n",
    "        std_feats = np.std(n_feats)\n",
    "        print(f\"{feature_set};{dataset};{clf}-{proba_type};{means[0]:.2f};{means[1]:.2f};{means[2]:.2f};{means[3]:.2f};{mean_feats:.2f};{std_feats:.2f}\")"
   ]
  },
  {
   "cell_type": "code",
   "execution_count": null,
   "metadata": {},
   "outputs": [],
   "source": []
  },
  {
   "cell_type": "code",
   "execution_count": null,
   "metadata": {},
   "outputs": [],
   "source": []
  }
 ],
 "metadata": {
  "kernelspec": {
   "display_name": ".env",
   "language": "python",
   "name": "python3"
  },
  "language_info": {
   "codemirror_mode": {
    "name": "ipython",
    "version": 3
   },
   "file_extension": ".py",
   "mimetype": "text/x-python",
   "name": "python",
   "nbconvert_exporter": "python",
   "pygments_lexer": "ipython3",
   "version": "3.8.10"
  },
  "orig_nbformat": 4,
  "vscode": {
   "interpreter": {
    "hash": "f3135864b85fc339145ed731976b9bcbd775d49eba38ad5ba8da470ad91643c0"
   }
  }
 },
 "nbformat": 4,
 "nbformat_minor": 2
}
