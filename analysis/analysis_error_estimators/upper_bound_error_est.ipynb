{
 "cells": [
  {
   "cell_type": "code",
   "execution_count": 56,
   "metadata": {},
   "outputs": [],
   "source": [
    "import numpy as np\n",
    "from joblib import load\n",
    "from sklearn.metrics import f1_score"
   ]
  },
  {
   "cell_type": "code",
   "execution_count": 57,
   "metadata": {},
   "outputs": [
    {
     "data": {
      "text/plain": [
       "'bert_normal_probas/ktmk_normal_probas/ktr_normal_probas/lstmk_normal_probas/lstr_normal_probas/ltr_normal_probas/xlnet_normal_probas'"
      ]
     },
     "execution_count": 57,
     "metadata": {},
     "output_type": "execute_result"
    }
   ],
   "source": [
    "DATA_SOURCE = \"/home/welton/data\"\n",
    "STACKING_DIR = f\"{DATA_SOURCE}/stacking/stacking_output\"\n",
    "EST_DIR = f\"{DATA_SOURCE}/oracle/error_detection\"\n",
    "DATASETS = [\"acm\"]\n",
    "N_FOLDS = 10\n",
    "LABELS_DIR = f\"{DATA_SOURCE}/datasets/labels/split_{N_FOLDS}\"\n",
    "\n",
    "CLF_SET = [[\"bert\", \"normal_probas\"],\n",
    "           [\"xlnet\", \"normal_probas\"],\n",
    "           [\"ktmk\", \"normal_probas\"],\n",
    "           [\"ktr\", \"normal_probas\"],\n",
    "           [\"lstmk\", \"normal_probas\"],\n",
    "           [\"lstr\", \"normal_probas\"],\n",
    "           [\"ltr\", \"normal_probas\"]]\n",
    "\n",
    "SUFIX = '/'.join(sorted( [ f\"{c}_{p}\" for c, p in CLF_SET ]))\n",
    "SUFIX"
   ]
  },
  {
   "cell_type": "code",
   "execution_count": 58,
   "metadata": {},
   "outputs": [],
   "source": [
    "mf_set = \"centroids-ratios_dist_neigborhood_probas_probas-based\""
   ]
  },
  {
   "cell_type": "code",
   "execution_count": 59,
   "metadata": {},
   "outputs": [],
   "source": [
    "def load_upper_bound(source_dir: str,\n",
    "                     dataset: str,\n",
    "                     clfs: list,\n",
    "                     fold: int):\n",
    "\n",
    "    uppers = {}\n",
    "    for clf, proba_type in clfs:\n",
    "        upper_dir = f\"{source_dir}/{proba_type}/{dataset}/10_folds/{clf}/{fold}\"\n",
    "        uppers[clf] = {}\n",
    "        uppers[clf][\"train\"] = np.load(f\"{upper_dir}/train.npz\")['y']\n",
    "        uppers[clf][\"test\"] = np.load(f\"{upper_dir}/test.npz\")['y']\n",
    "\n",
    "    return uppers\n",
    "\n",
    "\n",
    "def load_est_error_preds(source_dir: str,\n",
    "                         dataset: str,\n",
    "                         clfs: list,\n",
    "                         sufix: str,\n",
    "                         mf_set: str,\n",
    "                         fold: int):\n",
    "\n",
    "    est_error = {}\n",
    "    est_error = {}\n",
    "    for clf, proba_type in clfs:\n",
    "        est_dir = f\"{source_dir}/{proba_type}/{dataset}/10_folds/{clf}/{sufix}/{mf_set}/{fold}\"\n",
    "        est_error[clf] = {}\n",
    "        est_error[clf][\"train\"] = np.load(f\"{est_dir}/train.npz\")['y']\n",
    "        est_error[clf][\"test\"] = np.load(f\"{est_dir}/test.npz\")['y']\n",
    "\n",
    "    return est_error\n",
    "\n",
    "\n",
    "def load_stacking_probas(source_dir: str,\n",
    "                         dataset: str,\n",
    "                         sufix: str,\n",
    "                         fold: int):\n",
    "    \n",
    "\n",
    "    return np.load(f\"{source_dir}/{dataset}/10_folds/logistic_regression/normal_probas/{sufix}/fold_{fold}/probas.npz\")\n",
    "\n",
    "def load_y(source_dir: str, dataset: str, fold: int):\n",
    "\n",
    "    return np.load(f\"{source_dir}/{dataset}/{fold}/test.npy\")\n",
    "\n",
    "def load_probas(source_dir: str,\n",
    "                dataset: str,\n",
    "                clf_set: list,\n",
    "                fold: int,\n",
    "                n_folds: int):\n",
    "    \n",
    "    d_probas = {}\n",
    "    for clf, proba_type in clf_set:\n",
    "        probs_path = f\"{source_dir}/{proba_type}/split_{n_folds}/{dataset}/{n_folds}_folds/{clf}/{fold}/test.npz\"    \n",
    "        d_probas[clf] = np.load(probs_path)[\"X_test\"]\n",
    "    \n",
    "    return d_probas\n",
    "\n",
    "def get_est_err_best_est(y_test: np.ndarray, est_err: dict, clf_probas: dict):\n",
    "\n",
    "    best_est_err_preds = []\n",
    "    for doc_idx in np.arange(y_test.shape[0]):\n",
    "        max_conf = 0\n",
    "        chose_clf = ''\n",
    "        for clf, _ in CLF_SET:\n",
    "            if max_conf < est_err[clf][\"test\"][doc_idx]:\n",
    "                max_conf = est_err[clf][\"test\"][doc_idx]\n",
    "                chose_clf = clf\n",
    "        best_est_err_preds.append(clf_probas[chose_clf][doc_idx].argmax())\n",
    "    return best_est_err_preds\n"
   ]
  },
  {
   "cell_type": "code",
   "execution_count": 60,
   "metadata": {},
   "outputs": [],
   "source": [
    "est_scores = []\n",
    "ml_scores = []\n",
    "for fold in np.arange(N_FOLDS):\n",
    "\n",
    "    est_err = load_est_error_preds(EST_DIR, \"acm\", CLF_SET, SUFIX, mf_set, fold)\n",
    "    meta_probas = load_stacking_probas(STACKING_DIR, \"acm\", SUFIX, fold)[\"X_test\"]\n",
    "    y_test = load_y(LABELS_DIR, \"acm\", fold)\n",
    "    y_pred = meta_probas.argmax(axis=1)\n",
    "    clf_probas = load_probas(DATA_SOURCE, \"acm\", CLF_SET, fold, N_FOLDS)\n",
    "    best_est = get_est_err_best_est(y_test, est_err, clf_probas)\n",
    "\n",
    "    est_scores.append(f1_score(y_test, best_est, average=\"macro\"))\n",
    "    ml_scores.append(f1_score(y_test, y_pred, average=\"macro\"))\n"
   ]
  },
  {
   "cell_type": "code",
   "execution_count": 61,
   "metadata": {},
   "outputs": [
    {
     "data": {
      "text/plain": [
       "(0.7344573676800095, 0.7395255498713335)"
      ]
     },
     "execution_count": 61,
     "metadata": {},
     "output_type": "execute_result"
    }
   ],
   "source": [
    "np.mean(est_scores), np.mean(ml_scores)"
   ]
  },
  {
   "cell_type": "code",
   "execution_count": null,
   "metadata": {},
   "outputs": [],
   "source": []
  },
  {
   "cell_type": "code",
   "execution_count": null,
   "metadata": {},
   "outputs": [],
   "source": []
  },
  {
   "cell_type": "code",
   "execution_count": null,
   "metadata": {},
   "outputs": [],
   "source": []
  }
 ],
 "metadata": {
  "kernelspec": {
   "display_name": ".env",
   "language": "python",
   "name": "python3"
  },
  "language_info": {
   "codemirror_mode": {
    "name": "ipython",
    "version": 3
   },
   "file_extension": ".py",
   "mimetype": "text/x-python",
   "name": "python",
   "nbconvert_exporter": "python",
   "pygments_lexer": "ipython3",
   "version": "3.8.10"
  },
  "orig_nbformat": 4
 },
 "nbformat": 4,
 "nbformat_minor": 2
}
