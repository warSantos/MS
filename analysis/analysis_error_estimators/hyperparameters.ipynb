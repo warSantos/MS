{
 "cells": [
  {
   "cell_type": "code",
   "execution_count": 1,
   "metadata": {},
   "outputs": [],
   "source": [
    "import os\n",
    "import json\n",
    "import numpy as np\n",
    "import pandas as pd\n",
    "from joblib import load "
   ]
  },
  {
   "cell_type": "code",
   "execution_count": 14,
   "metadata": {},
   "outputs": [
    {
     "name": "stdout",
     "output_type": "stream",
     "text": [
      "0 {'classifier__n_estimators': 100, 'classifier__max_depth': 7, 'classifier__min_samples_leaf': 1, 'classifier__min_samples_split': 5, 'classifier__bootstrap': True}\n",
      "0 {'classifier__n_estimators': 500, 'classifier__max_depth': 8, 'classifier__min_samples_leaf': 2, 'classifier__min_samples_split': 5, 'classifier__bootstrap': False}\n",
      "0 {'classifier__n_estimators': 100, 'classifier__max_depth': 8, 'classifier__min_samples_leaf': 4, 'classifier__min_samples_split': 10, 'classifier__bootstrap': True}\n",
      "0 {'classifier__n_estimators': 150, 'classifier__max_depth': 8, 'classifier__min_samples_leaf': 1, 'classifier__min_samples_split': 2, 'classifier__bootstrap': False}\n",
      "0 {'classifier__n_estimators': 450, 'classifier__max_depth': 4, 'classifier__min_samples_leaf': 4, 'classifier__min_samples_split': 10, 'classifier__bootstrap': False}\n",
      "0 {'classifier__n_estimators': 150, 'classifier__max_depth': 6, 'classifier__min_samples_leaf': 2, 'classifier__min_samples_split': 5, 'classifier__bootstrap': False}\n",
      "0 {'classifier__n_estimators': 350, 'classifier__max_depth': 8, 'classifier__min_samples_leaf': 4, 'classifier__min_samples_split': 10, 'classifier__bootstrap': True}\n",
      "1 {'classifier__n_estimators': 100, 'classifier__max_depth': 4, 'classifier__min_samples_leaf': 1, 'classifier__min_samples_split': 10, 'classifier__bootstrap': False}\n",
      "1 {'classifier__n_estimators': 400, 'classifier__max_depth': 8, 'classifier__min_samples_leaf': 4, 'classifier__min_samples_split': 10, 'classifier__bootstrap': True}\n",
      "1 {'classifier__n_estimators': 400, 'classifier__max_depth': 7, 'classifier__min_samples_leaf': 1, 'classifier__min_samples_split': 5, 'classifier__bootstrap': True}\n",
      "1 {'classifier__n_estimators': 200, 'classifier__max_depth': 5, 'classifier__min_samples_leaf': 4, 'classifier__min_samples_split': 5, 'classifier__bootstrap': True}\n",
      "1 {'classifier__n_estimators': 350, 'classifier__max_depth': 5, 'classifier__min_samples_leaf': 4, 'classifier__min_samples_split': 5, 'classifier__bootstrap': False}\n",
      "1 {'classifier__n_estimators': 150, 'classifier__max_depth': 4, 'classifier__min_samples_leaf': 4, 'classifier__min_samples_split': 10, 'classifier__bootstrap': True}\n",
      "1 {'classifier__n_estimators': 150, 'classifier__max_depth': 7, 'classifier__min_samples_leaf': 4, 'classifier__min_samples_split': 10, 'classifier__bootstrap': False}\n",
      "2 {'classifier__n_estimators': 250, 'classifier__max_depth': 9, 'classifier__min_samples_leaf': 2, 'classifier__min_samples_split': 10, 'classifier__bootstrap': True}\n",
      "2 {'classifier__n_estimators': 100, 'classifier__max_depth': 9, 'classifier__min_samples_leaf': 4, 'classifier__min_samples_split': 10, 'classifier__bootstrap': True}\n",
      "2 {'classifier__n_estimators': 500, 'classifier__max_depth': 7, 'classifier__min_samples_leaf': 2, 'classifier__min_samples_split': 10, 'classifier__bootstrap': False}\n",
      "2 {'classifier__n_estimators': 100, 'classifier__max_depth': 7, 'classifier__min_samples_leaf': 2, 'classifier__min_samples_split': 10, 'classifier__bootstrap': True}\n",
      "2 {'classifier__n_estimators': 250, 'classifier__max_depth': 6, 'classifier__min_samples_leaf': 4, 'classifier__min_samples_split': 10, 'classifier__bootstrap': False}\n",
      "2 {'classifier__n_estimators': 500, 'classifier__max_depth': 6, 'classifier__min_samples_leaf': 1, 'classifier__min_samples_split': 5, 'classifier__bootstrap': False}\n",
      "2 {'classifier__n_estimators': 400, 'classifier__max_depth': 8, 'classifier__min_samples_leaf': 1, 'classifier__min_samples_split': 5, 'classifier__bootstrap': True}\n"
     ]
    }
   ],
   "source": [
    "\n",
    "base_dir = \"/home/welton/data/oracle/error_detection/normal_probas/acm\"\n",
    "clf_set = \"bert_normal_probas/ktmk_normal_probas/ktr_normal_probas/lstmk_normal_probas/lstr_normal_probas/ltr_normal_probas/xlnet_normal_probas\"\n",
    "clfs = [\"bert\", \"ktmk\", \"ktr\", \"lstmk\", \"lstr\", \"ltr\", \"xlnet\"]\n",
    "params = []\n",
    "for fold in np.arange(3):\n",
    "    for clf in clfs:\n",
    "        opt_path = f\"{base_dir}/10_folds/{clf}/{clf_set}/dist_probas_probas_based/{fold}/forest_opt\"\n",
    "        if os.path.exists(opt_path):\n",
    "            opt = load(opt_path)\n",
    "            print(fold, opt.best_params_)\n",
    "            params.append(opt.best_params_)"
   ]
  },
  {
   "cell_type": "code",
   "execution_count": 20,
   "metadata": {},
   "outputs": [],
   "source": [
    "df = pd.DataFrame(params)"
   ]
  },
  {
   "cell_type": "code",
   "execution_count": 22,
   "metadata": {},
   "outputs": [
    {
     "data": {
      "text/html": [
       "<div>\n",
       "<style scoped>\n",
       "    .dataframe tbody tr th:only-of-type {\n",
       "        vertical-align: middle;\n",
       "    }\n",
       "\n",
       "    .dataframe tbody tr th {\n",
       "        vertical-align: top;\n",
       "    }\n",
       "\n",
       "    .dataframe thead th {\n",
       "        text-align: right;\n",
       "    }\n",
       "</style>\n",
       "<table border=\"1\" class=\"dataframe\">\n",
       "  <thead>\n",
       "    <tr style=\"text-align: right;\">\n",
       "      <th></th>\n",
       "      <th>classifier__n_estimators</th>\n",
       "      <th>classifier__max_depth</th>\n",
       "      <th>classifier__min_samples_leaf</th>\n",
       "      <th>classifier__min_samples_split</th>\n",
       "    </tr>\n",
       "  </thead>\n",
       "  <tbody>\n",
       "    <tr>\n",
       "      <th>mean</th>\n",
       "      <td>269.047619</td>\n",
       "      <td>6.714286</td>\n",
       "      <td>2.666667</td>\n",
       "      <td>7.714286</td>\n",
       "    </tr>\n",
       "    <tr>\n",
       "      <th>std</th>\n",
       "      <td>152.049491</td>\n",
       "      <td>1.585650</td>\n",
       "      <td>1.354006</td>\n",
       "      <td>2.777460</td>\n",
       "    </tr>\n",
       "  </tbody>\n",
       "</table>\n",
       "</div>"
      ],
      "text/plain": [
       "      classifier__n_estimators  classifier__max_depth  \\\n",
       "mean                269.047619               6.714286   \n",
       "std                 152.049491               1.585650   \n",
       "\n",
       "      classifier__min_samples_leaf  classifier__min_samples_split  \n",
       "mean                      2.666667                       7.714286  \n",
       "std                       1.354006                       2.777460  "
      ]
     },
     "execution_count": 22,
     "metadata": {},
     "output_type": "execute_result"
    }
   ],
   "source": [
    "ndf = df.drop(columns=[\"classifier__bootstrap\"])\n",
    "ndf.aggregate({ col: [\"mean\", \"std\"] for col in ndf.columns})"
   ]
  },
  {
   "cell_type": "code",
   "execution_count": 23,
   "metadata": {},
   "outputs": [
    {
     "data": {
      "text/plain": [
       "True     11\n",
       "False    10\n",
       "Name: classifier__bootstrap, dtype: int64"
      ]
     },
     "execution_count": 23,
     "metadata": {},
     "output_type": "execute_result"
    }
   ],
   "source": [
    "df.classifier__bootstrap.value_counts()"
   ]
  },
  {
   "cell_type": "code",
   "execution_count": 24,
   "metadata": {},
   "outputs": [
    {
     "data": {
      "text/plain": [
       "10    12\n",
       "5      8\n",
       "2      1\n",
       "Name: classifier__min_samples_split, dtype: int64"
      ]
     },
     "execution_count": 24,
     "metadata": {},
     "output_type": "execute_result"
    }
   ],
   "source": [
    "df.classifier__min_samples_split.value_counts()"
   ]
  },
  {
   "cell_type": "code",
   "execution_count": 25,
   "metadata": {},
   "outputs": [
    {
     "data": {
      "text/plain": [
       "4    10\n",
       "1     6\n",
       "2     5\n",
       "Name: classifier__min_samples_leaf, dtype: int64"
      ]
     },
     "execution_count": 25,
     "metadata": {},
     "output_type": "execute_result"
    }
   ],
   "source": [
    "df.classifier__min_samples_leaf.value_counts()"
   ]
  },
  {
   "cell_type": "code",
   "execution_count": 26,
   "metadata": {},
   "outputs": [
    {
     "data": {
      "text/plain": [
       "8    6\n",
       "7    5\n",
       "4    3\n",
       "6    3\n",
       "5    2\n",
       "9    2\n",
       "Name: classifier__max_depth, dtype: int64"
      ]
     },
     "execution_count": 26,
     "metadata": {},
     "output_type": "execute_result"
    }
   ],
   "source": [
    "df.classifier__max_depth.value_counts()"
   ]
  },
  {
   "cell_type": "code",
   "execution_count": 27,
   "metadata": {},
   "outputs": [
    {
     "data": {
      "text/plain": [
       "100    5\n",
       "150    4\n",
       "500    3\n",
       "400    3\n",
       "350    2\n",
       "250    2\n",
       "450    1\n",
       "200    1\n",
       "Name: classifier__n_estimators, dtype: int64"
      ]
     },
     "execution_count": 27,
     "metadata": {},
     "output_type": "execute_result"
    }
   ],
   "source": [
    "df.classifier__n_estimators.value_counts()"
   ]
  },
  {
   "cell_type": "code",
   "execution_count": 4,
   "metadata": {},
   "outputs": [],
   "source": [
    "X = np.load(\"/home/welton/data/meta_features/error_estimation/acm/10_folds/bert_normal_probas/ktmk_normal_probas/ktr_normal_probas/lstmk_normal_probas/lstr_normal_probas/ltr_normal_probas/xlnet_normal_probas/centroids-ratios_dist_neigborhood_probas_probas-based/bert/0/x_test.npz\")"
   ]
  },
  {
   "cell_type": "code",
   "execution_count": 5,
   "metadata": {},
   "outputs": [
    {
     "data": {
      "text/plain": [
       "['X_test']"
      ]
     },
     "execution_count": 5,
     "metadata": {},
     "output_type": "execute_result"
    }
   ],
   "source": [
    "list(X.keys())"
   ]
  },
  {
   "cell_type": "code",
   "execution_count": null,
   "metadata": {},
   "outputs": [],
   "source": []
  }
 ],
 "metadata": {
  "kernelspec": {
   "display_name": ".env",
   "language": "python",
   "name": "python3"
  },
  "language_info": {
   "codemirror_mode": {
    "name": "ipython",
    "version": 3
   },
   "file_extension": ".py",
   "mimetype": "text/x-python",
   "name": "python",
   "nbconvert_exporter": "python",
   "pygments_lexer": "ipython3",
   "version": "3.8.10"
  },
  "orig_nbformat": 4
 },
 "nbformat": 4,
 "nbformat_minor": 2
}
