{
 "cells": [
  {
   "cell_type": "code",
   "execution_count": 1,
   "metadata": {},
   "outputs": [],
   "source": [
    "import pickle\n",
    "import numpy as np\n",
    "import pandas as pd\n",
    "import jsonlines\n",
    "import os\n",
    "import io"
   ]
  },
  {
   "cell_type": "code",
   "execution_count": 2,
   "metadata": {},
   "outputs": [
    {
     "name": "stderr",
     "output_type": "stream",
     "text": [
      "/home/welton/project/.env/lib/python3.8/site-packages/tqdm/auto.py:22: TqdmWarning: IProgress not found. Please update jupyter and ipywidgets. See https://ipywidgets.readthedocs.io/en/stable/user_install.html\n",
      "  from .autonotebook import tqdm as notebook_tqdm\n"
     ]
    }
   ],
   "source": [
    "from optuna.distributions import FloatDistribution\n"
   ]
  },
  {
   "cell_type": "code",
   "execution_count": 3,
   "metadata": {},
   "outputs": [],
   "source": [
    "from src.models.models import get_clf"
   ]
  },
  {
   "cell_type": "code",
   "execution_count": 5,
   "metadata": {},
   "outputs": [],
   "source": [
    "est, _ = get_clf(\"gbm\")"
   ]
  },
  {
   "cell_type": "code",
   "execution_count": 6,
   "metadata": {},
   "outputs": [],
   "source": [
    "hyp = {\n",
    "    \"n_estimators\": 100,\n",
    "    \"num_leaves\": 31,\n",
    "    \"max_depth\": 13}"
   ]
  },
  {
   "cell_type": "code",
   "execution_count": 8,
   "metadata": {},
   "outputs": [
    {
     "data": {
      "text/html": [
       "<style>#sk-container-id-1 {color: black;background-color: white;}#sk-container-id-1 pre{padding: 0;}#sk-container-id-1 div.sk-toggleable {background-color: white;}#sk-container-id-1 label.sk-toggleable__label {cursor: pointer;display: block;width: 100%;margin-bottom: 0;padding: 0.3em;box-sizing: border-box;text-align: center;}#sk-container-id-1 label.sk-toggleable__label-arrow:before {content: \"▸\";float: left;margin-right: 0.25em;color: #696969;}#sk-container-id-1 label.sk-toggleable__label-arrow:hover:before {color: black;}#sk-container-id-1 div.sk-estimator:hover label.sk-toggleable__label-arrow:before {color: black;}#sk-container-id-1 div.sk-toggleable__content {max-height: 0;max-width: 0;overflow: hidden;text-align: left;background-color: #f0f8ff;}#sk-container-id-1 div.sk-toggleable__content pre {margin: 0.2em;color: black;border-radius: 0.25em;background-color: #f0f8ff;}#sk-container-id-1 input.sk-toggleable__control:checked~div.sk-toggleable__content {max-height: 200px;max-width: 100%;overflow: auto;}#sk-container-id-1 input.sk-toggleable__control:checked~label.sk-toggleable__label-arrow:before {content: \"▾\";}#sk-container-id-1 div.sk-estimator input.sk-toggleable__control:checked~label.sk-toggleable__label {background-color: #d4ebff;}#sk-container-id-1 div.sk-label input.sk-toggleable__control:checked~label.sk-toggleable__label {background-color: #d4ebff;}#sk-container-id-1 input.sk-hidden--visually {border: 0;clip: rect(1px 1px 1px 1px);clip: rect(1px, 1px, 1px, 1px);height: 1px;margin: -1px;overflow: hidden;padding: 0;position: absolute;width: 1px;}#sk-container-id-1 div.sk-estimator {font-family: monospace;background-color: #f0f8ff;border: 1px dotted black;border-radius: 0.25em;box-sizing: border-box;margin-bottom: 0.5em;}#sk-container-id-1 div.sk-estimator:hover {background-color: #d4ebff;}#sk-container-id-1 div.sk-parallel-item::after {content: \"\";width: 100%;border-bottom: 1px solid gray;flex-grow: 1;}#sk-container-id-1 div.sk-label:hover label.sk-toggleable__label {background-color: #d4ebff;}#sk-container-id-1 div.sk-serial::before {content: \"\";position: absolute;border-left: 1px solid gray;box-sizing: border-box;top: 0;bottom: 0;left: 50%;z-index: 0;}#sk-container-id-1 div.sk-serial {display: flex;flex-direction: column;align-items: center;background-color: white;padding-right: 0.2em;padding-left: 0.2em;position: relative;}#sk-container-id-1 div.sk-item {position: relative;z-index: 1;}#sk-container-id-1 div.sk-parallel {display: flex;align-items: stretch;justify-content: center;background-color: white;position: relative;}#sk-container-id-1 div.sk-item::before, #sk-container-id-1 div.sk-parallel-item::before {content: \"\";position: absolute;border-left: 1px solid gray;box-sizing: border-box;top: 0;bottom: 0;left: 50%;z-index: -1;}#sk-container-id-1 div.sk-parallel-item {display: flex;flex-direction: column;z-index: 1;position: relative;background-color: white;}#sk-container-id-1 div.sk-parallel-item:first-child::after {align-self: flex-end;width: 50%;}#sk-container-id-1 div.sk-parallel-item:last-child::after {align-self: flex-start;width: 50%;}#sk-container-id-1 div.sk-parallel-item:only-child::after {width: 0;}#sk-container-id-1 div.sk-dashed-wrapped {border: 1px dashed gray;margin: 0 0.4em 0.5em 0.4em;box-sizing: border-box;padding-bottom: 0.4em;background-color: white;}#sk-container-id-1 div.sk-label label {font-family: monospace;font-weight: bold;display: inline-block;line-height: 1.2em;}#sk-container-id-1 div.sk-label-container {text-align: center;}#sk-container-id-1 div.sk-container {/* jupyter's `normalize.less` sets `[hidden] { display: none; }` but bootstrap.min.css set `[hidden] { display: none !important; }` so we also need the `!important` here to be able to override the default hidden behavior on the sphinx rendered scikit-learn.org. See: https://github.com/scikit-learn/scikit-learn/issues/21755 */display: inline-block !important;position: relative;}#sk-container-id-1 div.sk-text-repr-fallback {display: none;}</style><div id=\"sk-container-id-1\" class=\"sk-top-container\"><div class=\"sk-text-repr-fallback\"><pre>LGBMClassifier(max_depth=13, objective=&#x27;multiclass&#x27;, random_state=42)</pre><b>In a Jupyter environment, please rerun this cell to show the HTML representation or trust the notebook. <br />On GitHub, the HTML representation is unable to render, please try loading this page with nbviewer.org.</b></div><div class=\"sk-container\" hidden><div class=\"sk-item\"><div class=\"sk-estimator sk-toggleable\"><input class=\"sk-toggleable__control sk-hidden--visually\" id=\"sk-estimator-id-1\" type=\"checkbox\" checked><label for=\"sk-estimator-id-1\" class=\"sk-toggleable__label sk-toggleable__label-arrow\">LGBMClassifier</label><div class=\"sk-toggleable__content\"><pre>LGBMClassifier(max_depth=13, objective=&#x27;multiclass&#x27;, random_state=42)</pre></div></div></div></div></div>"
      ],
      "text/plain": [
       "LGBMClassifier(max_depth=13, objective='multiclass', random_state=42)"
      ]
     },
     "execution_count": 8,
     "metadata": {},
     "output_type": "execute_result"
    }
   ],
   "source": [
    "est.set_params(**hyp)"
   ]
  },
  {
   "cell_type": "code",
   "execution_count": 9,
   "metadata": {},
   "outputs": [],
   "source": [
    "est, _ = get_clf(\"centroid\")"
   ]
  },
  {
   "cell_type": "code",
   "execution_count": 12,
   "metadata": {},
   "outputs": [],
   "source": [
    "hyp = {\n",
    "    \"metric\":  \"cosine\",\n",
    "    \"shrink_threshold\": 0.5\n",
    "}"
   ]
  },
  {
   "cell_type": "code",
   "execution_count": 13,
   "metadata": {},
   "outputs": [
    {
     "data": {
      "text/html": [
       "<style>#sk-container-id-3 {color: black;background-color: white;}#sk-container-id-3 pre{padding: 0;}#sk-container-id-3 div.sk-toggleable {background-color: white;}#sk-container-id-3 label.sk-toggleable__label {cursor: pointer;display: block;width: 100%;margin-bottom: 0;padding: 0.3em;box-sizing: border-box;text-align: center;}#sk-container-id-3 label.sk-toggleable__label-arrow:before {content: \"▸\";float: left;margin-right: 0.25em;color: #696969;}#sk-container-id-3 label.sk-toggleable__label-arrow:hover:before {color: black;}#sk-container-id-3 div.sk-estimator:hover label.sk-toggleable__label-arrow:before {color: black;}#sk-container-id-3 div.sk-toggleable__content {max-height: 0;max-width: 0;overflow: hidden;text-align: left;background-color: #f0f8ff;}#sk-container-id-3 div.sk-toggleable__content pre {margin: 0.2em;color: black;border-radius: 0.25em;background-color: #f0f8ff;}#sk-container-id-3 input.sk-toggleable__control:checked~div.sk-toggleable__content {max-height: 200px;max-width: 100%;overflow: auto;}#sk-container-id-3 input.sk-toggleable__control:checked~label.sk-toggleable__label-arrow:before {content: \"▾\";}#sk-container-id-3 div.sk-estimator input.sk-toggleable__control:checked~label.sk-toggleable__label {background-color: #d4ebff;}#sk-container-id-3 div.sk-label input.sk-toggleable__control:checked~label.sk-toggleable__label {background-color: #d4ebff;}#sk-container-id-3 input.sk-hidden--visually {border: 0;clip: rect(1px 1px 1px 1px);clip: rect(1px, 1px, 1px, 1px);height: 1px;margin: -1px;overflow: hidden;padding: 0;position: absolute;width: 1px;}#sk-container-id-3 div.sk-estimator {font-family: monospace;background-color: #f0f8ff;border: 1px dotted black;border-radius: 0.25em;box-sizing: border-box;margin-bottom: 0.5em;}#sk-container-id-3 div.sk-estimator:hover {background-color: #d4ebff;}#sk-container-id-3 div.sk-parallel-item::after {content: \"\";width: 100%;border-bottom: 1px solid gray;flex-grow: 1;}#sk-container-id-3 div.sk-label:hover label.sk-toggleable__label {background-color: #d4ebff;}#sk-container-id-3 div.sk-serial::before {content: \"\";position: absolute;border-left: 1px solid gray;box-sizing: border-box;top: 0;bottom: 0;left: 50%;z-index: 0;}#sk-container-id-3 div.sk-serial {display: flex;flex-direction: column;align-items: center;background-color: white;padding-right: 0.2em;padding-left: 0.2em;position: relative;}#sk-container-id-3 div.sk-item {position: relative;z-index: 1;}#sk-container-id-3 div.sk-parallel {display: flex;align-items: stretch;justify-content: center;background-color: white;position: relative;}#sk-container-id-3 div.sk-item::before, #sk-container-id-3 div.sk-parallel-item::before {content: \"\";position: absolute;border-left: 1px solid gray;box-sizing: border-box;top: 0;bottom: 0;left: 50%;z-index: -1;}#sk-container-id-3 div.sk-parallel-item {display: flex;flex-direction: column;z-index: 1;position: relative;background-color: white;}#sk-container-id-3 div.sk-parallel-item:first-child::after {align-self: flex-end;width: 50%;}#sk-container-id-3 div.sk-parallel-item:last-child::after {align-self: flex-start;width: 50%;}#sk-container-id-3 div.sk-parallel-item:only-child::after {width: 0;}#sk-container-id-3 div.sk-dashed-wrapped {border: 1px dashed gray;margin: 0 0.4em 0.5em 0.4em;box-sizing: border-box;padding-bottom: 0.4em;background-color: white;}#sk-container-id-3 div.sk-label label {font-family: monospace;font-weight: bold;display: inline-block;line-height: 1.2em;}#sk-container-id-3 div.sk-label-container {text-align: center;}#sk-container-id-3 div.sk-container {/* jupyter's `normalize.less` sets `[hidden] { display: none; }` but bootstrap.min.css set `[hidden] { display: none !important; }` so we also need the `!important` here to be able to override the default hidden behavior on the sphinx rendered scikit-learn.org. See: https://github.com/scikit-learn/scikit-learn/issues/21755 */display: inline-block !important;position: relative;}#sk-container-id-3 div.sk-text-repr-fallback {display: none;}</style><div id=\"sk-container-id-3\" class=\"sk-top-container\"><div class=\"sk-text-repr-fallback\"><pre>NearestCentroid(metric=&#x27;cosine&#x27;, shrink_threshold=0.5)</pre><b>In a Jupyter environment, please rerun this cell to show the HTML representation or trust the notebook. <br />On GitHub, the HTML representation is unable to render, please try loading this page with nbviewer.org.</b></div><div class=\"sk-container\" hidden><div class=\"sk-item\"><div class=\"sk-estimator sk-toggleable\"><input class=\"sk-toggleable__control sk-hidden--visually\" id=\"sk-estimator-id-3\" type=\"checkbox\" checked><label for=\"sk-estimator-id-3\" class=\"sk-toggleable__label sk-toggleable__label-arrow\">NearestCentroid</label><div class=\"sk-toggleable__content\"><pre>NearestCentroid(metric=&#x27;cosine&#x27;, shrink_threshold=0.5)</pre></div></div></div></div></div>"
      ],
      "text/plain": [
       "NearestCentroid(metric='cosine', shrink_threshold=0.5)"
      ]
     },
     "execution_count": 13,
     "metadata": {},
     "output_type": "execute_result"
    }
   ],
   "source": [
    "est.set_params(**hyp)"
   ]
  },
  {
   "cell_type": "code",
   "execution_count": 55,
   "metadata": {},
   "outputs": [],
   "source": [
    "from cProfile import label\n",
    "from itertools import product\n",
    "\n",
    "DATASETS = ['20ng', 'acm', 'webkb', 'reut']\n",
    "\n",
    "for dset, fold in product(DATASETS, range(10)):\n",
    "\n",
    "    \n",
    "    ids = pickle.load( open(f'../data/datasets/{dset}/splits/split_10_with_val.pkl', 'rb') ) \n",
    "    jp = f\"/home/claudiovaliense/projetos/kaggle/{dset}_bert{fold}.json\"\n",
    "    fdj = jsonlines.open(jp)\n",
    "    docs = []\n",
    "    for line in fdj:\n",
    "        docs.append([line['id'], line['bert'], line['label']])\n",
    "        \n",
    "    dest_dir = f\"../data/reps/split_10_with_val/bert_base/fine_tuning/{dset}/{fold}\"\n",
    "    os.makedirs(dest_dir, exist_ok=True)\n",
    "    \n",
    "    \n",
    "    X = pd.DataFrame(docs, columns=['id', 'bert', 'label'])\n",
    "    x_train = np.array(X.query(f\"id == {ids['train_idxs'][fold]}\").bert.values.tolist())\n",
    "    x_val = np.array(X.query(f\"id == {ids['val_idxs'][fold]}\").bert.values.tolist())\n",
    "    x_test = np.array(X.query(f\"id == {ids['test_idxs'][fold]}\").bert.values.tolist())\n",
    "\n",
    "    train_path = f\"{dest_dir}/train\"\n",
    "    np.save(train_path, x_train)\n",
    "\n",
    "    val_path = f\"{dest_dir}/val\"\n",
    "    np.save(val_path, x_val)\n",
    "\n",
    "    test_path = f\"{dest_dir}/test\"\n",
    "    np.save(test_path, x_test)\n",
    "\n",
    "\n",
    "    label_dir = f\"../data/labels/split_10_with_val/{dset}/{fold}/\"\n",
    "    os.makedirs(label_dir, exist_ok=True)\n",
    "\n",
    "    y_train = np.array(X.query(f\"id == {ids['train_idxs'][fold]}\").label.values.tolist())\n",
    "    y_val = np.array(X.query(f\"id == {ids['val_idxs'][fold]}\").label.values.tolist())\n",
    "    y_test = np.array(X.query(f\"id == {ids['test_idxs'][fold]}\").label.values.tolist())\n",
    "\n",
    "    train_path = f\"{label_dir}/train\"\n",
    "    np.save(train_path, y_train)\n",
    "\n",
    "    val_path = f\"{label_dir}/val\"\n",
    "    np.save(val_path, y_val)\n",
    "\n",
    "    test_path = f\"{label_dir}/test\"\n",
    "    np.save(test_path, y_test)"
   ]
  },
  {
   "cell_type": "code",
   "execution_count": 7,
   "metadata": {},
   "outputs": [],
   "source": [
    "def read_texts(txt_file: str):\n",
    "    with io.open(txt_file, errors='ignore', newline=\"\\n\") as fp:\n",
    "        texts = fp.readlines()\n",
    "    return texts\n",
    "\n",
    "def read_dataset(documents_file: str, classes_file: str):\n",
    "    documents = read_texts(txt_file=documents_file)\n",
    "    classes = read_texts(txt_file=classes_file)\n",
    "    classes = list(map(int, classes))\n",
    "\n",
    "    return documents, classes\n",
    "\n",
    "def fix_classes(classes):\n",
    "\n",
    "    if np.min(classes) > 0:\n",
    "        classes = classes - 1\n",
    "        return classes\n",
    "    return classes\n"
   ]
  },
  {
   "cell_type": "code",
   "execution_count": 9,
   "metadata": {},
   "outputs": [],
   "source": [
    "datasets = [\"20ng\", \"acm\", \"webkb\", \"reut\"]\n",
    "\n",
    "for dset in datasets:\n",
    "    split_path = f\"/home/welton/data/datasets/data/{dset}/splits/split_10.pkl\"\n",
    "    text_path = f\"/home/welton/data/datasets/data/{dset}/texts.txt\"\n",
    "    labels_path = f\"/home/welton/data/datasets/data/{dset}/score.txt\"\n",
    "    split_df = pd.read_pickle(split_path)\n",
    "    \n",
    "    _, labels = read_dataset(text_path, labels_path)\n",
    "    labels = fix_classes(np.array(labels))\n",
    "    for fold in np.arange(10):\n",
    "        train_idxs = split_df.iloc[fold][\"train_idxs\"]\n",
    "        test_idxs = split_df.iloc[fold][\"test_idxs\"]\n",
    "        y_train = labels[train_idxs]\n",
    "        y_test = labels[test_idxs]\n",
    "\n",
    "        base_path = f\"/home/welton/data/datasets/labels/split_10/{dset}/{fold}\"\n",
    "        os.makedirs(base_path, exist_ok=True)\n",
    "        np.save(f\"{base_path}/train\", y_train)\n",
    "        np.save(f\"{base_path}/test\", y_test)\n",
    "\n"
   ]
  },
  {
   "cell_type": "code",
   "execution_count": 6,
   "metadata": {},
   "outputs": [
    {
     "data": {
      "text/html": [
       "<div>\n",
       "<style scoped>\n",
       "    .dataframe tbody tr th:only-of-type {\n",
       "        vertical-align: middle;\n",
       "    }\n",
       "\n",
       "    .dataframe tbody tr th {\n",
       "        vertical-align: top;\n",
       "    }\n",
       "\n",
       "    .dataframe thead th {\n",
       "        text-align: right;\n",
       "    }\n",
       "</style>\n",
       "<table border=\"1\" class=\"dataframe\">\n",
       "  <thead>\n",
       "    <tr style=\"text-align: right;\">\n",
       "      <th></th>\n",
       "      <th>fold_id</th>\n",
       "      <th>train_idxs</th>\n",
       "      <th>test_idxs</th>\n",
       "    </tr>\n",
       "  </thead>\n",
       "  <tbody>\n",
       "    <tr>\n",
       "      <th>0</th>\n",
       "      <td>0</td>\n",
       "      <td>[0, 1, 2, 3, 4, 5, 6, 7, 8, 9, 10, 11, 12, 13,...</td>\n",
       "      <td>[19, 21, 24, 34, 42, 64, 66, 86, 88, 105, 107,...</td>\n",
       "    </tr>\n",
       "    <tr>\n",
       "      <th>1</th>\n",
       "      <td>1</td>\n",
       "      <td>[0, 2, 3, 4, 5, 6, 7, 8, 11, 12, 13, 14, 15, 1...</td>\n",
       "      <td>[1, 9, 10, 22, 28, 36, 46, 50, 55, 68, 71, 97,...</td>\n",
       "    </tr>\n",
       "    <tr>\n",
       "      <th>2</th>\n",
       "      <td>2</td>\n",
       "      <td>[0, 1, 2, 3, 4, 6, 7, 8, 9, 10, 11, 12, 13, 14...</td>\n",
       "      <td>[5, 15, 18, 33, 35, 39, 57, 63, 73, 89, 92, 94...</td>\n",
       "    </tr>\n",
       "    <tr>\n",
       "      <th>3</th>\n",
       "      <td>3</td>\n",
       "      <td>[1, 2, 3, 4, 5, 6, 7, 9, 10, 13, 14, 15, 16, 1...</td>\n",
       "      <td>[0, 8, 11, 12, 29, 40, 52, 54, 59, 69, 93, 96,...</td>\n",
       "    </tr>\n",
       "    <tr>\n",
       "      <th>4</th>\n",
       "      <td>4</td>\n",
       "      <td>[0, 1, 2, 3, 4, 5, 6, 8, 9, 10, 11, 12, 13, 14...</td>\n",
       "      <td>[7, 23, 31, 37, 43, 48, 49, 51, 58, 77, 79, 10...</td>\n",
       "    </tr>\n",
       "    <tr>\n",
       "      <th>5</th>\n",
       "      <td>5</td>\n",
       "      <td>[0, 1, 3, 4, 5, 6, 7, 8, 9, 10, 11, 12, 13, 15...</td>\n",
       "      <td>[2, 14, 27, 30, 32, 41, 60, 62, 80, 100, 102, ...</td>\n",
       "    </tr>\n",
       "    <tr>\n",
       "      <th>6</th>\n",
       "      <td>6</td>\n",
       "      <td>[0, 1, 2, 3, 4, 5, 6, 7, 8, 9, 10, 11, 12, 13,...</td>\n",
       "      <td>[17, 67, 70, 74, 78, 85, 90, 91, 101, 118, 120...</td>\n",
       "    </tr>\n",
       "    <tr>\n",
       "      <th>7</th>\n",
       "      <td>7</td>\n",
       "      <td>[0, 1, 2, 3, 5, 6, 7, 8, 9, 10, 11, 12, 13, 14...</td>\n",
       "      <td>[4, 20, 56, 65, 72, 81, 82, 83, 87, 108, 115, ...</td>\n",
       "    </tr>\n",
       "    <tr>\n",
       "      <th>8</th>\n",
       "      <td>8</td>\n",
       "      <td>[0, 1, 2, 4, 5, 6, 7, 8, 9, 10, 11, 12, 14, 15...</td>\n",
       "      <td>[3, 13, 25, 26, 45, 47, 53, 61, 76, 112, 114, ...</td>\n",
       "    </tr>\n",
       "    <tr>\n",
       "      <th>9</th>\n",
       "      <td>9</td>\n",
       "      <td>[0, 1, 2, 3, 4, 5, 7, 8, 9, 10, 11, 12, 13, 14...</td>\n",
       "      <td>[6, 16, 38, 44, 75, 84, 95, 98, 106, 110, 116,...</td>\n",
       "    </tr>\n",
       "  </tbody>\n",
       "</table>\n",
       "</div>"
      ],
      "text/plain": [
       "   fold_id                                         train_idxs  \\\n",
       "0        0  [0, 1, 2, 3, 4, 5, 6, 7, 8, 9, 10, 11, 12, 13,...   \n",
       "1        1  [0, 2, 3, 4, 5, 6, 7, 8, 11, 12, 13, 14, 15, 1...   \n",
       "2        2  [0, 1, 2, 3, 4, 6, 7, 8, 9, 10, 11, 12, 13, 14...   \n",
       "3        3  [1, 2, 3, 4, 5, 6, 7, 9, 10, 13, 14, 15, 16, 1...   \n",
       "4        4  [0, 1, 2, 3, 4, 5, 6, 8, 9, 10, 11, 12, 13, 14...   \n",
       "5        5  [0, 1, 3, 4, 5, 6, 7, 8, 9, 10, 11, 12, 13, 15...   \n",
       "6        6  [0, 1, 2, 3, 4, 5, 6, 7, 8, 9, 10, 11, 12, 13,...   \n",
       "7        7  [0, 1, 2, 3, 5, 6, 7, 8, 9, 10, 11, 12, 13, 14...   \n",
       "8        8  [0, 1, 2, 4, 5, 6, 7, 8, 9, 10, 11, 12, 14, 15...   \n",
       "9        9  [0, 1, 2, 3, 4, 5, 7, 8, 9, 10, 11, 12, 13, 14...   \n",
       "\n",
       "                                           test_idxs  \n",
       "0  [19, 21, 24, 34, 42, 64, 66, 86, 88, 105, 107,...  \n",
       "1  [1, 9, 10, 22, 28, 36, 46, 50, 55, 68, 71, 97,...  \n",
       "2  [5, 15, 18, 33, 35, 39, 57, 63, 73, 89, 92, 94...  \n",
       "3  [0, 8, 11, 12, 29, 40, 52, 54, 59, 69, 93, 96,...  \n",
       "4  [7, 23, 31, 37, 43, 48, 49, 51, 58, 77, 79, 10...  \n",
       "5  [2, 14, 27, 30, 32, 41, 60, 62, 80, 100, 102, ...  \n",
       "6  [17, 67, 70, 74, 78, 85, 90, 91, 101, 118, 120...  \n",
       "7  [4, 20, 56, 65, 72, 81, 82, 83, 87, 108, 115, ...  \n",
       "8  [3, 13, 25, 26, 45, 47, 53, 61, 76, 112, 114, ...  \n",
       "9  [6, 16, 38, 44, 75, 84, 95, 98, 106, 110, 116,...  "
      ]
     },
     "execution_count": 6,
     "metadata": {},
     "output_type": "execute_result"
    }
   ],
   "source": [
    "split_df"
   ]
  },
  {
   "cell_type": "code",
   "execution_count": 15,
   "metadata": {},
   "outputs": [
    {
     "data": {
      "text/plain": [
       "(1892,)"
      ]
     },
     "execution_count": 15,
     "metadata": {},
     "output_type": "execute_result"
    }
   ],
   "source": [
    "y_test = np.load(\"../../data/datasets/labels/split_10/20ng/0/test.npy\")\n",
    "y_test.shape"
   ]
  },
  {
   "cell_type": "code",
   "execution_count": 11,
   "metadata": {},
   "outputs": [
    {
     "data": {
      "text/plain": [
       "(16954,)"
      ]
     },
     "execution_count": 11,
     "metadata": {},
     "output_type": "execute_result"
    }
   ],
   "source": [
    "y_train = np.load(\"../../data/datasets/labels/split_10/20ng/0/train.npy\")\n",
    "y_train.shape"
   ]
  },
  {
   "cell_type": "code",
   "execution_count": 12,
   "metadata": {},
   "outputs": [
    {
     "data": {
      "text/plain": [
       "(15258,)"
      ]
     },
     "execution_count": 12,
     "metadata": {},
     "output_type": "execute_result"
    }
   ],
   "source": [
    "y_train = np.load(\"../../data/datasets/labels/split_10_with_val/20ng/0/train.npy\")\n",
    "y_train.shape"
   ]
  },
  {
   "cell_type": "code",
   "execution_count": 14,
   "metadata": {},
   "outputs": [
    {
     "data": {
      "text/plain": [
       "(1892,)"
      ]
     },
     "execution_count": 14,
     "metadata": {},
     "output_type": "execute_result"
    }
   ],
   "source": [
    "y_test_val = np.load(\"../../data/datasets/labels/split_10_with_val/20ng/0/test.npy\")\n",
    "y_test.shape"
   ]
  },
  {
   "cell_type": "code",
   "execution_count": 18,
   "metadata": {},
   "outputs": [
    {
     "data": {
      "text/plain": [
       "array([ True])"
      ]
     },
     "execution_count": 18,
     "metadata": {},
     "output_type": "execute_result"
    }
   ],
   "source": [
    "np.unique(y_test == y_test_val)"
   ]
  },
  {
   "cell_type": "code",
   "execution_count": null,
   "metadata": {},
   "outputs": [],
   "source": [
    "spv = pd.read_pickle(\"../input/webkb/split_10_with_val.pkl\")"
   ]
  },
  {
   "cell_type": "code",
   "execution_count": null,
   "metadata": {},
   "outputs": [],
   "source": [
    "sp = pd.read_pickle(\"/home/welton/data/datasets/data/webkb/splits/split_10.pkl\")"
   ]
  },
  {
   "cell_type": "code",
   "execution_count": null,
   "metadata": {},
   "outputs": [],
   "source": [
    "for dataset in ['webkb', '20ng', 'reut', 'acm']:\n",
    "    sp = pd.read_pickle(\"/home/welton/data/datasets/data/webkb/splits/split_10.pkl\")\n",
    "    spv = pd.read_pickle(\"/home/welton/data/datasets/data/webkb/splits/split_10_with_val.pkl\")\n",
    "    for fold in sp.fold_id.values:\n",
    "        v1 = np.hstack([spv.iloc[fold][\"train_idxs\"], spv.iloc[fold][\"val_idxs\"]])\n",
    "        v1.sort()\n",
    "        v2 = sp.iloc[fold][\"train_idxs\"]\n",
    "        print(np.unique(v1 == v2))"
   ]
  }
 ],
 "metadata": {
  "kernelspec": {
   "display_name": "Python 3.8.10 ('.env': venv)",
   "language": "python",
   "name": "python3"
  },
  "language_info": {
   "codemirror_mode": {
    "name": "ipython",
    "version": 3
   },
   "file_extension": ".py",
   "mimetype": "text/x-python",
   "name": "python",
   "nbconvert_exporter": "python",
   "pygments_lexer": "ipython3",
   "version": "3.8.10"
  },
  "orig_nbformat": 4,
  "vscode": {
   "interpreter": {
    "hash": "f3135864b85fc339145ed731976b9bcbd775d49eba38ad5ba8da470ad91643c0"
   }
  }
 },
 "nbformat": 4,
 "nbformat_minor": 2
}
