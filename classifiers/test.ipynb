{
 "cells": [
  {
   "cell_type": "code",
   "execution_count": 1,
   "metadata": {},
   "outputs": [],
   "source": [
    "import pickle\n",
    "import numpy as np\n",
    "import pandas as pd\n",
    "import jsonlines\n",
    "import os"
   ]
  },
  {
   "cell_type": "code",
   "execution_count": 55,
   "metadata": {},
   "outputs": [],
   "source": [
    "from cProfile import label\n",
    "from itertools import product\n",
    "\n",
    "DATASETS = ['20ng', 'acm', 'webkb', 'reut']\n",
    "\n",
    "for dset, fold in product(DATASETS, range(10)):\n",
    "\n",
    "    \n",
    "    ids = pickle.load( open(f'../data/datasets/{dset}/splits/split_10_with_val.pkl', 'rb') ) \n",
    "    jp = f\"/home/claudiovaliense/projetos/kaggle/{dset}_bert{fold}.json\"\n",
    "    fdj = jsonlines.open(jp)\n",
    "    docs = []\n",
    "    for line in fdj:\n",
    "        docs.append([line['id'], line['bert'], line['label']])\n",
    "        \n",
    "    dest_dir = f\"../data/reps/split_10_with_val/bert_base/fine_tuning/{dset}/{fold}\"\n",
    "    os.makedirs(dest_dir, exist_ok=True)\n",
    "    \n",
    "    \n",
    "    X = pd.DataFrame(docs, columns=['id', 'bert', 'label'])\n",
    "    x_train = np.array(X.query(f\"id == {ids['train_idxs'][fold]}\").bert.values.tolist())\n",
    "    x_val = np.array(X.query(f\"id == {ids['val_idxs'][fold]}\").bert.values.tolist())\n",
    "    x_test = np.array(X.query(f\"id == {ids['test_idxs'][fold]}\").bert.values.tolist())\n",
    "\n",
    "    train_path = f\"{dest_dir}/train\"\n",
    "    np.save(train_path, x_train)\n",
    "\n",
    "    val_path = f\"{dest_dir}/val\"\n",
    "    np.save(val_path, x_val)\n",
    "\n",
    "    test_path = f\"{dest_dir}/test\"\n",
    "    np.save(test_path, x_test)\n",
    "\n",
    "\n",
    "    label_dir = f\"../data/labels/split_10_with_val/{dset}/{fold}/\"\n",
    "    os.makedirs(label_dir, exist_ok=True)\n",
    "\n",
    "    y_train = np.array(X.query(f\"id == {ids['train_idxs'][fold]}\").label.values.tolist())\n",
    "    y_val = np.array(X.query(f\"id == {ids['val_idxs'][fold]}\").label.values.tolist())\n",
    "    y_test = np.array(X.query(f\"id == {ids['test_idxs'][fold]}\").label.values.tolist())\n",
    "\n",
    "    train_path = f\"{label_dir}/train\"\n",
    "    np.save(train_path, y_train)\n",
    "\n",
    "    val_path = f\"{label_dir}/val\"\n",
    "    np.save(val_path, y_val)\n",
    "\n",
    "    test_path = f\"{label_dir}/test\"\n",
    "    np.save(test_path, y_test)\n",
    "\n",
    "\n"
   ]
  },
  {
   "cell_type": "code",
   "execution_count": 10,
   "metadata": {},
   "outputs": [
    {
     "data": {
      "text/plain": [
       "array([0, 1, 2, 3, 4, 5, 6, 7, 8, 9])"
      ]
     },
     "execution_count": 10,
     "metadata": {},
     "output_type": "execute_result"
    }
   ],
   "source": [
    "X = np.arange(10)\n",
    "X"
   ]
  },
  {
   "cell_type": "code",
   "execution_count": 11,
   "metadata": {},
   "outputs": [
    {
     "data": {
      "text/plain": [
       "array([2, 5, 0, 4, 8, 7, 9, 1, 6, 3])"
      ]
     },
     "execution_count": 11,
     "metadata": {},
     "output_type": "execute_result"
    }
   ],
   "source": [
    "np.random.shuffle(X)\n",
    "X"
   ]
  },
  {
   "cell_type": "code",
   "execution_count": 12,
   "metadata": {},
   "outputs": [
    {
     "data": {
      "text/plain": [
       "array([2, 7, 0, 9, 3, 1, 8, 5, 4, 6])"
      ]
     },
     "execution_count": 12,
     "metadata": {},
     "output_type": "execute_result"
    }
   ],
   "source": [
    "X.argsort()"
   ]
  },
  {
   "cell_type": "code",
   "execution_count": 13,
   "metadata": {},
   "outputs": [
    {
     "data": {
      "text/plain": [
       "array([0, 1, 2, 3, 4, 5, 6, 7, 8, 9])"
      ]
     },
     "execution_count": 13,
     "metadata": {},
     "output_type": "execute_result"
    }
   ],
   "source": [
    "X[X.argsort()]"
   ]
  },
  {
   "cell_type": "code",
   "execution_count": 14,
   "metadata": {},
   "outputs": [
    {
     "data": {
      "text/plain": [
       "(6638, 7)"
      ]
     },
     "execution_count": 14,
     "metadata": {},
     "output_type": "execute_result"
    }
   ],
   "source": [
    "np.load(\"../data/clfs_output/split_10_with_val/webkb/10_folds/lr/0/train_probas.npy\").shape"
   ]
  },
  {
   "cell_type": "code",
   "execution_count": 15,
   "metadata": {},
   "outputs": [
    {
     "data": {
      "text/plain": [
       "(823, 7)"
      ]
     },
     "execution_count": 15,
     "metadata": {},
     "output_type": "execute_result"
    }
   ],
   "source": [
    "np.load(\"../data/clfs_output/split_10_with_val/webkb/10_folds/lr/0/probas.npy\").shape"
   ]
  },
  {
   "cell_type": "code",
   "execution_count": 3,
   "metadata": {},
   "outputs": [],
   "source": [
    "a = np.array([])"
   ]
  }
 ],
 "metadata": {
  "kernelspec": {
   "display_name": "Python 3.8.10 ('.env': venv)",
   "language": "python",
   "name": "python3"
  },
  "language_info": {
   "codemirror_mode": {
    "name": "ipython",
    "version": 3
   },
   "file_extension": ".py",
   "mimetype": "text/x-python",
   "name": "python",
   "nbconvert_exporter": "python",
   "pygments_lexer": "ipython3",
   "version": "3.8.10"
  },
  "orig_nbformat": 4,
  "vscode": {
   "interpreter": {
    "hash": "d2644a3b617748a787fcf3a38fa13c28ead14d59276c0f628803ef68b79d9ad2"
   }
  }
 },
 "nbformat": 4,
 "nbformat_minor": 2
}
